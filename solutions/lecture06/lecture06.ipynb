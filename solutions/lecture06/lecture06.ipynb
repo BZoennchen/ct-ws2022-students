{
 "cells": [
  {
   "cell_type": "code",
   "execution_count": null,
   "id": "f4230a1f-89a0-4376-b9b8-e4b03a68c382",
   "metadata": {},
   "outputs": [],
   "source": [
    "#1. Rückgabewert / \"etwas zurückliefern\" vs Ausgabe\n",
    "\n",
    "# Ausgabe\n",
    "def is_odd(n):\n",
    "    return print(not (n % 2 == 0))\n",
    "\n",
    "# Rückgabe\n",
    "def is_odd(n):\n",
    "    return not n % 2 == 0"
   ]
  },
  {
   "cell_type": "code",
   "execution_count": null,
   "id": "f6808fb3-196c-450b-ae49-e0cea676941b",
   "metadata": {},
   "outputs": [],
   "source": [
    "# 2. Einrückung\n",
    "def square_sum(n):\n",
    "    result = 0\n",
    "    for i in range(n+1):\n",
    "        result += i**2\n",
    "    return result\n",
    "\n",
    "square_sum(5)"
   ]
  },
  {
   "cell_type": "code",
   "execution_count": null,
   "id": "3fe18b03-b1a3-4cfc-8bc0-0e270c8a6fa8",
   "metadata": {},
   "outputs": [],
   "source": [
    "# 3. Boolean und Rückgabewerte\n",
    "\n",
    "#nicht so\n",
    "def is_even(n):\n",
    "    if (n % 2 == 0) == True:\n",
    "        return True\n",
    "    else:\n",
    "        return False\n",
    "    \n",
    "# sondern so\n",
    "def is_even(n):\n",
    "    return n % 2 == 0\n",
    "\n",
    "# nicht so\n",
    "def is_odd(n):\n",
    "    if (n % 2 == 0) == False:\n",
    "        return True\n",
    "    else:\n",
    "        return False\n",
    "\n",
    "#sondern so\n",
    "def is_odd(n):\n",
    "    return not n % 2 == 0"
   ]
  },
  {
   "cell_type": "code",
   "execution_count": null,
   "id": "9c4d6aae-e7bf-4b42-b78f-cb8b07a3cc6b",
   "metadata": {},
   "outputs": [],
   "source": [
    "# 4. Funktionen als Objekte erster Klasse\n",
    "def filtered_numbers(n, f):\n",
    "    even_numbers = []\n",
    "    for i in range(n):\n",
    "        if f(i):\n",
    "            even_numbers.append(i)\n",
    "    return even_numbers\n",
    "        \n",
    "filtered_numbers(10, is_even)"
   ]
  },
  {
   "cell_type": "code",
   "execution_count": null,
   "id": "fcc1117d-8c4b-4738-bf2f-47d842ac03d1",
   "metadata": {},
   "outputs": [],
   "source": [
    "h = is_odd\n",
    "filtered_numbers(10, h)"
   ]
  },
  {
   "cell_type": "code",
   "execution_count": null,
   "id": "a1841aab-32b8-4b02-a469-af6448eed41d",
   "metadata": {},
   "outputs": [],
   "source": [
    "# 5. Anonyme Funktionen\n",
    "f = lambda x: x*x\n",
    "f(5)"
   ]
  },
  {
   "cell_type": "code",
   "execution_count": null,
   "id": "7acc4e97-7951-4efe-ad0a-c69449b53694",
   "metadata": {},
   "outputs": [],
   "source": [
    "filtered_numbers(33, lambda x: x % 7 == 0)"
   ]
  },
  {
   "cell_type": "code",
   "execution_count": null,
   "id": "04b27e07-9d39-4c7a-87b9-37a16f482f61",
   "metadata": {},
   "outputs": [],
   "source": [
    "x = [1,2,3,4,5]\n",
    "y = []\n",
    "\n",
    "for element in x:\n",
    "    y.append((lambda val: val**2)(element))\n",
    "y"
   ]
  },
  {
   "cell_type": "code",
   "execution_count": null,
   "id": "16cff0da-3f13-4215-a0be-8d8bd08a1949",
   "metadata": {},
   "outputs": [],
   "source": [
    "# 6. Module\n",
    "\n",
    "# Pfad zu den Dateien des Pakets oder Moduls\n",
    "import roboworld as rw\n",
    "rw.__file__"
   ]
  },
  {
   "cell_type": "code",
   "execution_count": null,
   "id": "75086e10-fcf9-4701-b1f6-a4331b552acd",
   "metadata": {},
   "outputs": [],
   "source": [
    "# importiere eigens geschriebens Modul\n",
    "import vecv1"
   ]
  },
  {
   "cell_type": "code",
   "execution_count": null,
   "id": "08a9dd24-25c0-4ae9-a33a-ee337ca0fac9",
   "metadata": {},
   "outputs": [],
   "source": [
    "vecv1.add([1,2], [3,4])"
   ]
  },
  {
   "cell_type": "code",
   "execution_count": null,
   "id": "32ec000a-bcb6-4a93-bb4b-0a5faba2af08",
   "metadata": {},
   "outputs": [],
   "source": [
    "vecv1.sub([1,2], [3,4])"
   ]
  },
  {
   "cell_type": "code",
   "execution_count": null,
   "id": "1b0719a7-d455-4d5f-bafc-5b79b3c410c4",
   "metadata": {},
   "outputs": [],
   "source": [
    "vecv1.div([1, 2, 3], [2, 2, 0.5])"
   ]
  },
  {
   "cell_type": "code",
   "execution_count": null,
   "id": "6c3c403a-6da3-4c5e-8866-25a0df1ef20d",
   "metadata": {},
   "outputs": [],
   "source": [
    "import vecv2"
   ]
  },
  {
   "cell_type": "code",
   "execution_count": null,
   "id": "677159f8-d166-4eba-9cd7-4467f355a7d8",
   "metadata": {},
   "outputs": [],
   "source": [
    "vecv2.add([1,2], [3,4])"
   ]
  },
  {
   "cell_type": "code",
   "execution_count": null,
   "id": "09252164-28b6-45f9-8f5f-6c5348c12ec7",
   "metadata": {},
   "outputs": [],
   "source": [
    "vecv2.sub([1,2], [3,4])"
   ]
  },
  {
   "cell_type": "code",
   "execution_count": null,
   "id": "76bda37b-f846-4f5e-a58a-e5d2e3e9569b",
   "metadata": {},
   "outputs": [],
   "source": [
    "vecv2.div([1, 2, 3], [2, 2, 0.5])"
   ]
  },
  {
   "cell_type": "code",
   "execution_count": null,
   "id": "18591710-8bb6-40ff-a3e4-18ae991892b4",
   "metadata": {},
   "outputs": [],
   "source": [
    "import vectors.vector as vec\n",
    "\n",
    "v1 = vec.Vec2D(4,2-0.00001)\n",
    "v2 = vec.Vec2D(-1,-2)\n",
    "v3 = vec.Vec2D(4,2)"
   ]
  },
  {
   "cell_type": "code",
   "execution_count": null,
   "id": "dde65f78-5653-46f6-bff5-886ffc497195",
   "metadata": {},
   "outputs": [],
   "source": [
    "v1 + v2"
   ]
  },
  {
   "cell_type": "code",
   "execution_count": null,
   "id": "c00281d1-e21f-4cd1-8c6a-37b594ddbc25",
   "metadata": {},
   "outputs": [],
   "source": [
    "vec.Vec2D(1,1).mag()"
   ]
  }
 ],
 "metadata": {
  "kernelspec": {
   "display_name": "Python [conda env:ct] *",
   "language": "python",
   "name": "conda-env-ct-py"
  },
  "language_info": {
   "codemirror_mode": {
    "name": "ipython",
    "version": 3
   },
   "file_extension": ".py",
   "mimetype": "text/x-python",
   "name": "python",
   "nbconvert_exporter": "python",
   "pygments_lexer": "ipython3",
   "version": "3.10.4"
  }
 },
 "nbformat": 4,
 "nbformat_minor": 5
}

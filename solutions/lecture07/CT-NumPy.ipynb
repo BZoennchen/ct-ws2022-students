{
 "cells": [
  {
   "cell_type": "code",
   "execution_count": null,
   "id": "fefc03bb-47d1-4dc1-81cc-dbe852944a2d",
   "metadata": {},
   "outputs": [],
   "source": [
    "# Import\n",
    "import numpy as np"
   ]
  },
  {
   "cell_type": "code",
   "execution_count": null,
   "id": "7c3d9451-5cd8-4cd8-a2d2-19523ff3bdd2",
   "metadata": {},
   "outputs": [],
   "source": [
    "# Array creation\n",
    "a = np.array([1,2,3,4,5])\n",
    "print(f'a: {a}')\n",
    "\n",
    "b = np.arange(10)\n",
    "print(f'b: {b}')\n",
    "\n",
    "c = np.linspace(0,1,4)\n",
    "print(f'c: {c}')"
   ]
  },
  {
   "cell_type": "code",
   "execution_count": null,
   "id": "fbf256f7-d4db-4e0a-8c3c-41c380c57fe6",
   "metadata": {},
   "outputs": [],
   "source": [
    "import matplotlib.pyplot as plt\n",
    "\n",
    "# x = [0, 1, ... 9]\n",
    "x = np.arange(10)\n",
    "y = np.linspace(0,1,10)\n",
    "\n",
    "plt.scatter(x,y);"
   ]
  },
  {
   "cell_type": "code",
   "execution_count": null,
   "id": "b4be9c16-7b5f-4a98-9649-90440d06f1b9",
   "metadata": {},
   "outputs": [],
   "source": [
    "# Operations on Arrays\n",
    "\n",
    "a = np.array([1,2,3])\n",
    "b = np.array([3,4,5])\n",
    "\n",
    "# Scalar component-wise addition\n",
    "print(f'a + 3 = {a} + 3 = {a+3}')\n",
    "\n",
    "# Scalar component-wise subtraction\n",
    "print(f'a + 3 = {a} - 3 = {a-3}')\n",
    "\n",
    "# Scalar component-wise multiplication\n",
    "print(f'a * 3 = {a} * 3 = {a*3}')\n",
    "\n",
    "# Scalar component-wise division\n",
    "print(f'a + 3 = {a} / 3 = {a/3}')\n",
    "\n",
    "# Scalar component-wise logical operations \n",
    "print(f'a + 3 = {a} > 1 = {a > 1}')\n",
    "\n",
    "# and more..."
   ]
  },
  {
   "cell_type": "code",
   "execution_count": null,
   "id": "dc8a9f42-51c2-4f99-b5a2-9c6b268e8995",
   "metadata": {},
   "outputs": [],
   "source": [
    "# Plotting\n",
    "import matplotlib.pyplot as plt\n",
    "\n",
    "x = np.linspace(0,2*np.pi,200)\n",
    "y = np.sin(x)\n",
    "\n",
    "plt.plot(x, y);"
   ]
  },
  {
   "cell_type": "code",
   "execution_count": null,
   "id": "f5a80b8f-cabe-4ae5-a92d-18f476f8d471",
   "metadata": {},
   "outputs": [],
   "source": [
    "# Multidimensional Arrays\n",
    "\n",
    "A = np.array([[1,2,3], [3,4,5], [1,1,1], [3,2,1]]) # 3x3-Matrix\n",
    "print(f'A:\\n{A}')\n",
    "print(f'A.ndim: {A.ndim}')\n",
    "print(f'A.shape: {A.shape}')\n",
    "print(f'A[0][1]: {A[0][1]}')\n",
    "print(f'A[0,1]: {A[0,1]}')\n",
    "\n",
    "print(f'A[:,1] (col 1): {A[:,1]}')\n",
    "print(f'A[2,:] (row 2): {A[2,:]}')\n",
    "print(f'A[[1,2],[0,1]] (row 1,2 col 0): {A[[1,2],0]}')\n",
    "print(f'A[0:2,0:4:2] (row 0,1 col 0,2): {A[0:2,0:3:2]}')"
   ]
  },
  {
   "cell_type": "code",
   "execution_count": null,
   "id": "def21c76-dbf5-4d83-bbf8-482c69560b82",
   "metadata": {},
   "outputs": [],
   "source": [
    "# Scalar product\n",
    "\n",
    "a = np.array([1,2,3]) # 3-component Vector\n",
    "b = np.array([-1,2,-3])\n",
    "\n",
    "print(f'a @ b = 1*(-1) + 2*2 + 3*(-3)) = {a @ b} (scalar)')"
   ]
  },
  {
   "cell_type": "code",
   "execution_count": null,
   "id": "188cd9e9-aa84-4133-9058-a67ad63ce94b",
   "metadata": {},
   "outputs": [],
   "source": [
    "a = np.array([[1,2,3]]) # 1x3-Matrix\n",
    "b = np.array([[-1,2,-3]]) # 1x3-Matrix\n",
    "\n",
    "print(f'a @ b.T = 1*(-1) + 2*2 + 3*(-3)) = {a @ b.T} (1x1-Matrix)')"
   ]
  },
  {
   "cell_type": "code",
   "execution_count": null,
   "id": "65bce4c4-b085-4bd4-8baf-6e4dabbf0d91",
   "metadata": {},
   "outputs": [],
   "source": [
    "# Matrix multiplication vs component-wise multiplication\n",
    "\n",
    "A = np.array([[1,2,3], [3,4,5], [1,1,1]]) # 3x3-Matrix\n",
    "B = np.array([[-1,0], [1,-1], [0,1]]) # 3x2-Matrix\n",
    "\n",
    "print(f'Component-wise multiplication: A * A =\\n{A} *\\n{A} =\\n{A*A}')\n",
    "\n",
    "print(f'Matrix-Matrix multiplication: A @ B =\\n{A} @\\n{B} =\\n{A@B}')"
   ]
  },
  {
   "cell_type": "code",
   "execution_count": null,
   "id": "95ae6ecc-5870-4cc2-abe9-9e8fbe1059e5",
   "metadata": {},
   "outputs": [],
   "source": [
    "A = np.array([[1,2,3], [3,4,5], [1,1,1]]) # 3x3-Matrix (3,3)\n",
    "vec = np.array([1,1,1]) # Vector, (3,) Array\n",
    "print(f'A @ vec =\\n{A} @ {vec} =\\n{A @ vec} (Vector (3,) Array)') # Matrix-Vector multiplication"
   ]
  },
  {
   "cell_type": "code",
   "execution_count": null,
   "id": "1c633b26-f1f9-4565-bfe4-1dada0370603",
   "metadata": {},
   "outputs": [],
   "source": [
    "A = np.array([[1,2,3], [3,4,5], [1,1,1]]) # 3x3-Matrix, (3,3) Array\n",
    "vec = np.array([[1,1,1]]) # 1x3-Matrix, (1,3) Array\n",
    "print(f'A @ vec.T =\\n{A} @ {vec.T} =\\n{A @ vec.T} (Vector (3,1) Array)') # Matrix-Matrix multiplication"
   ]
  }
 ],
 "metadata": {
  "kernelspec": {
   "display_name": "Python [conda env:ct] *",
   "language": "python",
   "name": "conda-env-ct-py"
  },
  "language_info": {
   "codemirror_mode": {
    "name": "ipython",
    "version": 3
   },
   "file_extension": ".py",
   "mimetype": "text/x-python",
   "name": "python",
   "nbconvert_exporter": "python",
   "pygments_lexer": "ipython3",
   "version": "3.10.4"
  }
 },
 "nbformat": 4,
 "nbformat_minor": 5
}

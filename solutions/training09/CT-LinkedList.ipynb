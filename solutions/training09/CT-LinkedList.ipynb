{
 "cells": [
  {
   "cell_type": "markdown",
   "metadata": {},
   "source": [
    "# Objektorientierte Programmierung"
   ]
  },
  {
   "cell_type": "code",
   "execution_count": null,
   "metadata": {},
   "outputs": [],
   "source": [
    "import otter\n",
    "\n",
    "grader = otter.Notebook('CT-LinkedList.ipynb')"
   ]
  },
  {
   "cell_type": "markdown",
   "metadata": {},
   "source": [
    "## Einfach verkettete Listen\n",
    "\n",
    "Eine *einfach verkettete Liste* ist eine Datenstruktur, die mehrere Werte in einer bestimmten Reihenfolge hält (ähnlich wie ``list``).\n",
    "Funktional bietet sie ganz ähnlich Möglichkeiten wie die Liste ``list``.\n",
    "Jedoch sind die Adressen auf die jeweiligen Werte nicht nacheinander ohne Lücken im Arbeitsspeicher enthalten.\n",
    "Anders als ``list`` besteht die *einfach verkettete Liste* aus sog. Knoten ``Node``, die zwei Attribute besitzen:\n",
    "\n",
    "1. ``value``: Der eigentliche Wert / die Daten des Listenelements\n",
    "2. ``successor``: Der nächst folgende Knoten ``Node``, d.h. ein **Zeiger** auf das nächste Element\n",
    "\n",
    "In Python handtieren wir nicht mit Zeigern. Stattdessen verwenden wir Variablen.\n",
    "\n",
    "<img src=\"figs/linked-list-node.png\" alt=\"Knoten\" width=\"200\" style=\"align: center\">\n",
    "\n",
    "Die *einfach verkettete Liste* ``LinkedList`` besteht aus einem Knoten ``head``, der den Anfang der Verkettung repräsentiert und Methoden um die Verkettung zu manipulieren.\n",
    "\n",
    "<img src=\"figs/linked-list.png\" alt=\"LinkedList\" width=\"800\" style=\"align: center\">\n",
    "\n",
    "Eine *einfach verkettete Liste* können wir auch als gerichteten Weg (siehe Diskrete Mathematik) interpretieren."
   ]
  },
  {
   "cell_type": "markdown",
   "metadata": {},
   "source": [
    "***\n",
    "***Aufgabe 1 (Knoten implementieren).***\n",
    "\n",
    "Implementieren Sie die Klasse ``Node`` welche einen Knoten der *einfach verkettete Liste* repräsentiert.\n",
    "Überlegen Sie sich einen geeignete ``__init__`` Initialisierungsmethode und eine geeignete Repräsentation, d.h. implementieren Sie:\n",
    "\n",
    "1. ``__init__(...)`` und\n",
    "2. ``__repr__(...)``\n",
    "\n",
    "**Hinweise:** Ein Knoten sollte immer auch einen Wert ``value`` haben.\n",
    "Der letzte Knoten in einer Verkettung hat keinen ``successor`` (Nachfolger)."
   ]
  },
  {
   "cell_type": "code",
   "execution_count": null,
   "metadata": {
    "tags": [
     "otter_assign_solution_cell"
    ]
   },
   "outputs": [],
   "source": [
    "# BEGIN SOLUTION\n",
    "class Node:\n",
    "    def __init__(self, value, successor=None):\n",
    "        self.value = value\n",
    "        self.successor = successor\n",
    "        \n",
    "    def __repr__(self):\n",
    "        return repr(self.value)\n",
    "# END SOLUTION\n",
    "\n",
    "Node(3, Node(4)) # dieser Code sollte funktionieren"
   ]
  },
  {
   "cell_type": "code",
   "execution_count": null,
   "metadata": {
    "deletable": false,
    "editable": false
   },
   "outputs": [],
   "source": [
    "grader.check(\"q1\")"
   ]
  },
  {
   "cell_type": "markdown",
   "metadata": {},
   "source": [
    "***Aufgabe 2 (LinkedList implementieren).***\n",
    "\n",
    "Implementieren Sie nun, mithilfe der Klasse ``Node``, die Klasse ``LinkedList``.\n",
    "Jede *verkettete Liste* hat bzw. verwaltet einen Kopf ``head`` vom Typ ``Node``.\n",
    "\n",
    "Die Initialisierungsmethode soll eine leere *einfach verkettete Liste* erzeugen.\n",
    "Zudem soll ``LinkedList`` die folgende Methoden besitzt:\n",
    "\n",
    "1. ``lst.is_empty()``: Liefert genau dann ``True`` wenn die verkettete Liste keine Elemente enthält.\n",
    "2. ``lst.__len__()``: \n",
    "   + Liefert die Anzahl der Elemente in der verketteten Liste zurück. \n",
    "   + Die Builtin-Funktion ``len(lst)`` verwendet diese Methode!\n",
    "3. ``lst.__index(i)``: \n",
    "   + Eine (private) Hilfsmethode, die nur von anderen Methoden der ``LinkedList`` verwendet wird. \n",
    "   + Liefert eine **natürliche Zahl 0, 1, ...** ``j`` zurück, sodass ``0 <= j < size()``. \n",
    "   + Dadruch sollen Benutzer\\*innen auch mit negativen oder zu großen Indices auf Listenelemente zugreifen können.\n",
    "   + **Diese Methode ist bereits implementiert!**\n",
    "4. ``lst.__get(i)``: \n",
    "   + Eine (private) Hilfsmethode, die nur von anderen Methoden der ``LinkedList`` verwendet wird. \n",
    "   + Liefert den ``i``-ten Knoten ``Node`` in der Liste zurück. \n",
    "   + Sie müssen keine Fehlerbehandlung durchführen sofern ``i`` kein valider Index ist.\n",
    "5. ``lst.__getitem__(i)``: \n",
    "   + Liefert das ``i``-te Element in der Liste zurück. \n",
    "   + ``i`` kann negativ oder größer als die Anzahl der Elemente sein! Z.B. liefert ``lst.get(len(lst)+1)`` das Element mit dem Index ``1``. \n",
    "   + **Hinweis:** Nutzen Sie die Hilfsmethode ``lst.__index(i)``. Mit dieser Methode können Sie auf ein Element Ihrer Liste durch ``lst[i]`` zugeifen.\n",
    "6. ``lst.__tail()``: \n",
    "   + Eine (private) Hilfsmethode, die nur von anderen Methoden der ``LinkedList`` verwendet wird. \n",
    "   + Sie liefert den letzten Knoten ``Node`` der Liste zurück. In anderen Worten ``lst.__tail().value`` ist das letzte Element der Liste wenn diese nicht leer ist.\n",
    "7. ``lst.append(value)``: Fügt ein Element ``value`` hinten an die Liste an.\n",
    "8. ``lst.prepend(value)``: Fügt ein Element ``value`` ganz vorne in die Liste ein.\n",
    "9. ``lst.insert(i, value)``: \n",
    "    + Fügt ein Element ``value`` so in die Liste ein, sodass es nach der Operation das ``i``-te Element ist. \n",
    "    + Das zuvor ``i``-te Element und alle Elemente dahinter werden somit um eins nach rechts verschoben.\n",
    "    + ``lst.insert(len(lst), value)`` fügt ``value`` ganz vorne ein!\n",
    "    + **Hinweis:** Nutzen Sie die Hilfsmethode ``lst.__index(i)``.\n",
    "10.  ``lst.remove(i)``: \n",
    "    + Löscht das ``i``-te Element in der Liste. ``i`` kann negativ oder größer als die Anzahl der Elemente sein! \n",
    "    + Z.B. löscht ``lst.remove(-1)`` das letzte Element in der Liste. \n",
    "    + **Hinweis:** Nutzen Sie die Hilfsmethode ``lst.__index(i)``.\n",
    "11. (Optional): Sie können gerne versuchen für Ihre Liste auch weitere Methoden zu implementieren sodass ``lst[i] = value`` oder ``lst1 + lst2`` funktioniert :).\n",
    "\n",
    "Wir haben Ihnen bereits Methoden geschrieben, sodass Sie durch Ihre Liste (wenn Sie fertig implementiert ist) iterieren können.\n",
    "Zudem haben wir bereits eine einfache Zeichenketten repräsentation implementiert.\n",
    "\n",
    "**Wichtig:** \n",
    "1. Benutzer\\*innen die ``LinkedList`` verwenden sollen nicht direkt auf eine ``Node`` zugreifen, d.h. keine der Methoden (bis auf ``lst.__tail()``, ``lst.__get(i)``)) soll eine ``Node`` zurückliefern!\n",
    "2. Vermeiden Sie doppelten Code bzw. doppelte Programmlogik\n",
    "\n",
    "Unsere Lösung ist, inklusive einiger Leerzeilen und des bereits implementierten Codes, ca. 120 Zeilencode lang."
   ]
  },
  {
   "cell_type": "markdown",
   "metadata": {},
   "source": [
    "### Beispiel 1\n",
    "\n",
    "```python\n",
    "lst1 = LinkedList()\n",
    "lst1.append(1)\n",
    "lst1.append(2)\n",
    "lst1.append(3)\n",
    "lst1.append(4)\n",
    "lst1.prepend(0)\n",
    "\n",
    "print(lst1)\n",
    "```\n",
    "\n",
    "ergibt folgende Ausgabe:\n",
    "\n",
    "```\n",
    "[0, 1, 2, 3, 4]\n",
    "```"
   ]
  },
  {
   "cell_type": "markdown",
   "metadata": {},
   "source": [
    "### Beispiel 2\n",
    "\n",
    "```python\n",
    "# Beispiel 2\n",
    "\n",
    "lst2 = LinkedList()\n",
    "print(f'{lst2}, len: {len(lst2)}, is_empty: {lst2.is_empty()}')\n",
    "lst2.append(1)\n",
    "print(f'{lst2}, len: {len(lst2)}, is_empty: {lst2.is_empty()}')\n",
    "lst2.append(2)\n",
    "print(f'{lst2}, len: {len(lst2)}, is_empty: {lst2.is_empty()}')\n",
    "lst2.prepend(0)\n",
    "print(f'{lst2}, len: {len(lst2)}, is_empty: {lst2.is_empty()}')\n",
    "lst2.append(3)\n",
    "lst2.remove(-5)\n",
    "print(f'{lst2}, len: {len(lst2)}, is_empty: {lst2.is_empty()}')\n",
    "\n",
    "print('\\nCyclic iteration:')\n",
    "for i in range(5):\n",
    "    print(f'lst.get({i}): {lst2.get(i)}')\n",
    "    \n",
    "    \n",
    "print('\\nCyclic backwards negative iteration:')\n",
    "for i in range(-10, -15, -1):\n",
    "    print(f'lst.get({i}): {lst2.get(i)}')\n",
    "```\n",
    "\n",
    "ergibt folgende Ausgabe:\n",
    "\n",
    "```\n",
    "[], len: 0, is_empty: True\n",
    "[1], len: 1, is_empty: False\n",
    "[1, 2], len: 2, is_empty: False\n",
    "[0, 1, 2], len: 3, is_empty: False\n",
    "[0, 1, 2], len: 3, is_empty: False\n",
    "\n",
    "Cyclic iteration:\n",
    "lst[0]: 0\n",
    "lst[1]: 1\n",
    "lst[2]: 2\n",
    "lst[3]: 0\n",
    "lst[4]: 1\n",
    "\n",
    "Cyclic backwards negative iteration:\n",
    "lst[-10]: 2\n",
    "lst[-11]: 1\n",
    "lst[-12]: 0\n",
    "lst[-13]: 2\n",
    "lst[-14]: 1\n",
    "```"
   ]
  },
  {
   "cell_type": "code",
   "execution_count": null,
   "metadata": {
    "tags": [
     "otter_assign_solution_cell"
    ]
   },
   "outputs": [],
   "source": [
    "class LinkedList:\n",
    "    \n",
    "    def __init__(self):\n",
    "        self.head = None\n",
    "        self.iterNode = None\n",
    "        self.nElements = 0 # SOLUTION\n",
    "    \n",
    "    def is_empty(self):\n",
    "        # BEGIN SOLUTION\n",
    "        return self.head == None\n",
    "        # END SOLUTION\n",
    "    \n",
    "    def __len__(self):\n",
    "        # BEGIN SOLUTION\n",
    "        return self.nElements\n",
    "        # END SOLUTION\n",
    "    \n",
    "    def __get(self, i):    \n",
    "         # BEGIN SOLUTION\n",
    "        node = self.head\n",
    "        for _ in range(i):\n",
    "            node = node.successor\n",
    "        return node\n",
    "        # END SOLUTION\n",
    "        \n",
    "    def __getitem__(self, i):\n",
    "        # BEGIN SOLUTION            \n",
    "        i = self.__index(i)\n",
    "        return self.__get(i).value\n",
    "        # END SOLUTION\n",
    "    \n",
    "    def __tail(self):\n",
    "        # BEGIN SOLUTION\n",
    "        if not self.is_empty():\n",
    "            return self.__get(len(self)-1)\n",
    "        else:\n",
    "            return None\n",
    "        # END SOLUTION\n",
    "    \n",
    "    def append(self, value):\n",
    "        # BEGIN SOLUTION\n",
    "        if self.is_empty():\n",
    "            self.head = Node(value)\n",
    "        else:\n",
    "            tail = self.__tail()\n",
    "            tail.successor = Node(value)\n",
    "        self.nElements += 1\n",
    "        # END SOLUTION\n",
    "        \n",
    "    def prepend(self, value):\n",
    "        # BEGIN SOLUTION\n",
    "        head = self.head\n",
    "        self.head = Node(value, head)\n",
    "        self.nElements += 1        \n",
    "        # END SOLUTION\n",
    "        \n",
    "    def insert(self, i, value):\n",
    "        # BEGIN SOLUTION\n",
    "        i = self.__index(i)\n",
    "        if self.is_empty() or i == 0:\n",
    "            self.prepend(value)\n",
    "        else:\n",
    "            node = self.__get(i-1)\n",
    "            successor = node.successor\n",
    "            node.successor = Node(value)\n",
    "            node.successor.successor = successor\n",
    "            self.nElements += 1\n",
    "        # END SOLUTION\n",
    "    \n",
    "    def remove(self, i):\n",
    "        # BEGIN SOLUTION\n",
    "        i = self.__index(i)\n",
    "        if i == 0:\n",
    "            self.head = self.head.successor\n",
    "        else:\n",
    "            precessor = self.__get(i-1)\n",
    "            precessor.successor = precessor.successor.successor\n",
    "        self.nElements -= 1\n",
    "        # END SOLUTION\n",
    "    \n",
    "    # Den folgenden Code müssen Sie nicht anpassen\n",
    "    def __index(self, i):\n",
    "        if self.is_empty():\n",
    "            return 0\n",
    "        i = i % len(self)\n",
    "        if i < 0:\n",
    "            i += len(self)\n",
    "        return i\n",
    "    \n",
    "    def __next__(self):\n",
    "        # Notwendig damit man mit einer for schleife durch die\n",
    "        # Elemente iterieren kann\n",
    "        if self.is_empty():\n",
    "            raise StopIteration\n",
    "        \n",
    "        if self.iterNode == None: # start iteration\n",
    "            self.iterNode = self.head\n",
    "        elif self.iterNode.successor != None: # continue iteration\n",
    "            self.iterNode = self.iterNode.successor\n",
    "        else: # end iteration\n",
    "            self.iterNode = None\n",
    "            raise StopIteration\n",
    "\n",
    "        return self.iterNode\n",
    "            \n",
    "    def __iter__(self):\n",
    "        # Notwendig damit man mit einer for schleife durch die\n",
    "        # Elemente iterieren kann\n",
    "        return self\n",
    "    \n",
    "    def __repr__(self):\n",
    "        # Ausgabe wir bei einer list\n",
    "        repr = '['\n",
    "        for val in self:\n",
    "            repr += str(val)+', '\n",
    "        if len(repr) > 1:\n",
    "            repr = repr[:-2]\n",
    "        repr += ']'\n",
    "        return repr\n",
    "    \n",
    "    \n",
    "    ######## Optional ###########\n",
    "    \n",
    "    # BEGIN SOLUTION\n",
    "    def __add__(self, other):\n",
    "        # Es gibt sehr viel kürzere doch ineffizientere Lösungen.\n",
    "        if isinstance(other, LinkedList):\n",
    "            copy = LinkedList()\n",
    "            tail = copy.head\n",
    "\n",
    "            for element in self:\n",
    "                if tail == None:\n",
    "                    tail = Node(element)\n",
    "                    copy.head = tail\n",
    "                else:\n",
    "                    node = Node(element)\n",
    "                    tail.successor = node\n",
    "                    tail = tail.successor\n",
    "        \n",
    "            for element in other:\n",
    "                if tail == None:\n",
    "                    tail = Node(element)\n",
    "                    copy.head = tail\n",
    "                else:\n",
    "                    node = Node(element)\n",
    "                    tail.successor = node\n",
    "                    tail = tail.successor\n",
    "            \n",
    "            copy.nElements = len(self) + len(other)\n",
    "            return copy\n",
    "        else:\n",
    "            raise TypeError\n",
    "    # END SOLUTION\n",
    "    \n",
    "    # BEGIN SOLUTION\n",
    "    def __setitem__(self, i, value):\n",
    "        i = self.__index(i)\n",
    "        if self.is_empty():\n",
    "            raise IndexError\n",
    "        else:\n",
    "            node = self.__get(i)\n",
    "            node.value = value\n",
    "    # END SOLUTION\n",
    "    "
   ]
  },
  {
   "cell_type": "code",
   "execution_count": null,
   "metadata": {
    "tags": [
     "otter_assign_solution_cell"
    ]
   },
   "outputs": [],
   "source": [
    "# Beispiel 1\n",
    "\n",
    "lst1 = LinkedList()\n",
    "lst1.append(1)\n",
    "lst1.append(2)\n",
    "lst1.append(3)\n",
    "lst1.append(4)\n",
    "lst1.prepend(0)\n",
    "\n",
    "print(lst1)"
   ]
  },
  {
   "cell_type": "code",
   "execution_count": null,
   "metadata": {
    "tags": [
     "otter_assign_solution_cell"
    ]
   },
   "outputs": [],
   "source": [
    "# Beispiel 2\n",
    "\n",
    "lst2 = LinkedList()\n",
    "print(f'{lst2}, len: {len(lst2)}, is_empty: {lst2.is_empty()}')\n",
    "lst2.append(1)\n",
    "print(f'{lst2}, len: {len(lst2)}, is_empty: {lst2.is_empty()}')\n",
    "lst2.append(2)\n",
    "print(f'{lst2}, len: {len(lst2)}, is_empty: {lst2.is_empty()}')\n",
    "lst2.prepend(0)\n",
    "print(f'{lst2}, len: {len(lst2)}, is_empty: {lst2.is_empty()}')\n",
    "lst2.append(3)\n",
    "lst2.remove(-5)\n",
    "print(f'{lst2}, len: {len(lst2)}, is_empty: {lst2.is_empty()}')\n",
    "\n",
    "print('\\nCyclic iteration:')\n",
    "for i in range(5):\n",
    "    print(f'lst[{i}]: {lst2[i]}')\n",
    "    \n",
    "    \n",
    "print('\\nCyclic backwards negative iteration:')\n",
    "for i in range(-10, -15, -1):\n",
    "    print(f'lst[{i}]: {lst2[i]}')\n"
   ]
  },
  {
   "cell_type": "code",
   "execution_count": null,
   "metadata": {
    "tags": [
     "otter_assign_solution_cell"
    ]
   },
   "outputs": [],
   "source": [
    "# Optional, auskommentieren um zu testen\n",
    "\n",
    "# lst1 = LinkedList()\n",
    "# lst1.append(1)\n",
    "# lst1.append(2)\n",
    "# print(f'lst1: {lst1}')\n",
    "\n",
    "# lst2 = LinkedList()\n",
    "# lst2.append(-1)\n",
    "# lst2.append(-2)\n",
    "# print(f'lst2: {lst2}')\n",
    "\n",
    "# lst1[0] = 9\n",
    "# lst3 = lst1 + lst2\n",
    "\n",
    "# print(f'lst3: {lst3}, lst1: {lst1}, lst2: {lst2}')"
   ]
  },
  {
   "cell_type": "code",
   "execution_count": null,
   "metadata": {
    "deletable": false,
    "editable": false
   },
   "outputs": [],
   "source": [
    "grader.check(\"q2\")"
   ]
  },
  {
   "cell_type": "markdown",
   "metadata": {
    "deletable": false,
    "editable": false
   },
   "source": [
    "---\n",
    "\n",
    "To double-check your work, the cell below will rerun all of the autograder tests."
   ]
  },
  {
   "cell_type": "code",
   "execution_count": null,
   "metadata": {
    "deletable": false,
    "editable": false
   },
   "outputs": [],
   "source": [
    "grader.check_all()"
   ]
  },
  {
   "cell_type": "markdown",
   "metadata": {
    "deletable": false,
    "editable": false
   },
   "source": [
    "## Submission\n",
    "\n",
    "Make sure you have run all cells in your notebook in order before running the cell below, so that all images/graphs appear in the output. The cell below will generate a zip file for you to submit. **Please save before exporting!**\n",
    "\n",
    "Dieses Notebook ist zur reinen Übung gedacht und muss nicht abgegeben werden. Wir raten Ihnen eindringlich alle Aufgaben zu lösen!"
   ]
  },
  {
   "cell_type": "code",
   "execution_count": null,
   "metadata": {
    "deletable": false,
    "editable": false
   },
   "outputs": [],
   "source": [
    "# Save your notebook first, then run this cell to export your submission.\n",
    "grader.export(pdf=False, run_tests=True)"
   ]
  },
  {
   "cell_type": "markdown",
   "metadata": {},
   "source": [
    " "
   ]
  }
 ],
 "metadata": {
  "kernelspec": {
   "display_name": "Python 3.10.4 ('ct')",
   "language": "python",
   "name": "python3"
  },
  "language_info": {
   "codemirror_mode": {
    "name": "ipython",
    "version": 3
   },
   "file_extension": ".py",
   "mimetype": "text/x-python",
   "name": "python",
   "nbconvert_exporter": "python",
   "pygments_lexer": "ipython3",
   "version": "3.10.4 (main, Mar 31 2022, 03:37:37) [Clang 12.0.0 ]"
  },
  "otter": {
   "OK_FORMAT": false,
   "assignment_name": "training09",
   "tests": {
    "q1": "from otter.test_files import test_case\n\nOK_FORMAT = False\n\nname = \"q1\"\npoints = None\n\n@test_case(points=0, hidden=False, \n    success_message=\"Das sieht gut aus.\", \n    failure_message=\"Da ist noch was nicht richtig.\")\ndef test_node_existence(env):\n    import inspect\n    assert 'Node' in env, \"Es sollte eine Klasse Lair geben.\"\n        \n@test_case(points=0, hidden=False, \n    success_message=\"Das sieht gut aus.\", \n    failure_message=\"Da ist noch was nicht richtig.\")\ndef test_node_existence_functions(env):\n    import inspect\n    methods = [name for (name, _) in inspect.getmembers(env['Node'], predicate=inspect.isfunction)]\n    assert '__init__' in methods,  \"__init__ sollte eine Methode der Klasse Node sein\"\n    assert '__repr__' in methods,  \"__repr__ sollte eine Methode der Klasse Node sein\"\n        \n@test_case(points=1, hidden=False, \n    success_message=\"Das sieht gut aus.\", \n    failure_message=\"Da ist noch was nicht richtig.\")\ndef test_node_init(env):\n    import inspect\n        \n    assert 'self' in inspect.signature(env['Node'].__init__).parameters, \"self should be a parameter of __init__\"\n    assert 'value' in inspect.signature(env['Node'].__init__).parameters, \"value should be a parameter of __init__\"\n    assert 'successor' in inspect.signature(env['Node'].__init__).parameters, \"successor should be a parameter of __init__\"\n    assert inspect.signature(env['Node'].__init__).parameters['successor'].default == None, \"Default argument for successor should be None\"\n    assert inspect.signature(env['Node'].__init__).parameters['value'].default == inspect._empty, \"There should be no default argument for value\"\n\n    \n@test_case(points=1, hidden=False, \n    success_message=\"Das sieht gut aus.\", \n    failure_message=\"Da ist noch was nicht richtig.\")\ndef test_node_repr(env):\n    import inspect\n    assert len(inspect.signature(env['Node'].__repr__).parameters) == 1, \"__repr__ should only have 1 parameter\"\n    assert 'self' in inspect.signature(env['Node'].__init__).parameters, \"self should be a parameter of __repr__\"\n    node = env['Node'](3)\n    assert type(node.__repr__()) == str, \"__repr__ should return a string\"\n\n@test_case(points=None, hidden=False, \n    success_message=\"Das sieht gut aus.\", \n    failure_message=\"Da ist noch was nicht richtig.\")\ndef test_node_node(env):\n    node = env['Node'](3)\n    assert node.successor == None\n    other = env['Node'](4)\n    node.successor = other\n    assert node.successor == other\n    assert other.successor == None\n\n",
    "q2": "from otter.test_files import test_case\n\nOK_FORMAT = False\n\nname = \"q2\"\npoints = None\n\n@test_case(points=1, hidden=False, \n    success_message=\"Das sieht gut aus.\", \n    failure_message=\"Da ist noch was nicht richtig.\")\ndef test_empty_list(env):\n    lst = env['LinkedList']()\n    assert lst.__len__() == 0, \"Empty list should have size 0\"\n    assert lst.is_empty(), \"Empty list should be empty\"\n    \n@test_case(points=1, hidden=False, \n    success_message=\"Das sieht gut aus.\", \n    failure_message=\"Da ist noch was nicht richtig.\")\ndef test_append(env):\n    lst = env['LinkedList']()\n    lst.append(3)\n    assert lst.__len__() == 1, \"Länge sollte 1 sein nachdem ein Element eingefügt wurde.\"\n    assert not lst.is_empty(), \"Liste sollte nicht leer sein nachdem ein Element eingefügt wurde.\"\n    lst.append(4)\n    assert lst.__len__() == 2, \"Länge sollte 2 sein nachdem zwei Elemente eingefügt wurde.\"\n    assert not lst.is_empty(), \"Liste sollte nicht leer sein nachdem zwei Elemente eingefügt wurde.\"\n    \n@test_case(points=1, hidden=False, \n    success_message=\"Das sieht gut aus.\", \n    failure_message=\"Da ist noch was nicht richtig.\")\ndef test_prepend(env):\n    lst = env['LinkedList']()\n    lst.prepend(3)\n    assert lst.__len__() == 1, \"Länge sollte 1 sein nachdem ein Element eingefügt wurde.\"\n    assert not lst.is_empty(), \"Liste sollte nicht leer sein nachdem ein Element eingefügt wurde.\"\n    lst.prepend(4)\n    assert lst.__len__() == 2, \"Länge sollte 2 sein nachdem zwei Elemente eingefügt wurde.\"\n    assert not lst.is_empty(), \"Liste sollte nicht leer sein nachdem zwei Elemente eingefügt wurde.\"\n    \n@test_case(points=1, hidden=False, \n    success_message=\"Das sieht gut aus.\", \n    failure_message=\"Da ist noch was nicht richtig.\")\ndef test_insert(env):\n    lst = env['LinkedList']()\n    lst.insert(5, 3)\n    assert lst.__len__() == 1, \"Länge sollte 1 sein nachdem ein Element eingefügt wurde.\"\n    assert not lst.is_empty(), \"Liste sollte nicht leer sein nachdem ein Element eingefügt wurde.\"\n    lst.insert(1, 4)\n    assert lst.__len__() == 2, \"Länge sollte 2 sein nachdem zwei Elemente eingefügt wurde.\"\n    assert not lst.is_empty(), \"Liste sollte nicht leer sein nachdem zwei Elemente eingefügt wurde.\"\n    \n@test_case(points=1, hidden=False, \n    success_message=\"Das sieht gut aus.\", \n    failure_message=\"Falsche Indexierung wenn zuvor mit append Elemente eingefügt wurden.\")\ndef test_get(env):\n    lst = env['LinkedList']()\n    lst.append(3)\n    lst.append(4)\n    assert lst[0] == 3\n    assert lst[1] == 4\n    \n@test_case(points=1, hidden=False, \n    success_message=\"Das sieht gut aus.\", \n    failure_message=\"Falsche Indexierung wenn zuvor mit append und prepend Elemente eingefügt wurden.\")\ndef test_order(env):\n    lst = env['LinkedList']()\n    lst.append(3)\n    lst.append(4)\n    lst.prepend(2)\n    assert lst[0] == 2\n    assert lst[1] == 3\n    assert lst[2] == 4\n    \n@test_case(points=1, hidden=False, \n    success_message=\"Das sieht gut aus.\", \n    failure_message=\"Falsche Indexierung wenn zuvor mit append, prepend und insert Elemente eingefügt wurden.\")\ndef test_order_with_insert(env):\n    lst = env['LinkedList']()\n    lst.append(2)\n    lst.prepend(1)\n    lst.append(4)\n    lst.insert(2, 3)\n    \n    assert lst[0] == 1\n    assert lst[1] == 2\n    assert lst[2] == 3\n    assert lst[3] == 4\n    \n@test_case(points=1, hidden=False, \n    success_message=\"Das sieht gut aus.\", \n    failure_message=\"Fehlerhaftes löschen von Elementen durch remove.\")\ndef test_remove(env):\n    lst = env['LinkedList']()\n    lst.append(3)\n    lst.append(4)\n    lst.append(5)\n    assert lst[1] == 4\n    lst.remove(1)\n    assert lst[1] == 5\n    assert lst.__len__() == 2\n    assert not lst.is_empty()\n    lst.remove(0)\n    lst.remove(0)\n    assert lst.__len__() == 0\n    assert lst.is_empty()\n    \n@test_case(points=1, hidden=True, \n    success_message=\"Das sieht gut aus.\", \n    failure_message=\"Fehlerhafte zyklische Indexierung\")\ndef test_indexing_get(env):\n    lst = env['LinkedList']()\n    lst.append(3)\n    lst.append(4)\n    lst.append(5)\n    for i in range(3):\n        for offset in range(-3*5,3*5, 3):\n            assert lst[i+offset] == lst[i]\n    \n@test_case(points=1, hidden=True, \n    success_message=\"Das sieht gut aus.\", \n    failure_message=\"Fehlerhafte zyklische Indexierung beim Löschen (remove).\")\ndef test_indexing_remove(env):\n    for i in range(3):\n        for offset in range(-3*5,3*5, 3):\n            lst = env['LinkedList']()\n            lst.append(3)\n            lst.append(4)\n            lst.append(5)\n            lst.remove(i+offset)\n            assert lst.__len__() == 2\n            assert lst[i] == lst[i+(offset//3)*2]\n            assert lst[i-1] == lst[i-1+(offset//3)*2]\n    \n@test_case(points=1, hidden=True, \n    success_message=\"Das sieht gut aus.\", \n    failure_message=\"Das Zusammenspiel von Indexierung, Löschen und Einfügen funktioniert noch nicht richtig.\")\ndef test_indexing_get_remove_insert(env):\n    lst = env['LinkedList']()\n    lst.append(3)\n    lst.append(4)\n    lst.append(5)\n    lst.append(6)\n    n = 4\n    for i in range(3):\n        for offset in range(-n*5,n*5, n):\n            el = lst[i+offset]\n            lst.remove(i+offset)\n            lst.insert(i+(offset//n)*(n-1), el)\n            assert lst[0] == 3, f'lst[0] == 3, {lst[0]} == {3}'\n            assert lst[1] == 4, f'lst[1] == 4, {lst[1]} == {4}'\n            assert lst[2] == 5, f'lst[2] == 4, {lst[2]} == {5}'\n            assert lst[3] == 6, f'lst[3] == 6, {lst[3]} == {6}'\n            assert lst.__len__() == 4, f'lst.__len__() == 4, {lst.__len__} == {4}'\n            assert not lst.is_empty(), f'not lst.is_empty(), {not lst.is_empty()}'\n    \n"
   }
  },
  "vscode": {
   "interpreter": {
    "hash": "881d337900756e70a76eada1facb65e60ce30b1cc249c92e2adf60a26cf555a8"
   }
  }
 },
 "nbformat": 4,
 "nbformat_minor": 4
}

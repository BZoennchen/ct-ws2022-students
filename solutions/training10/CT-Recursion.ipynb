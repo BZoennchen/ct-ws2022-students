{
 "cells": [
  {
   "cell_type": "markdown",
   "metadata": {},
   "source": [
    "# Rekursion"
   ]
  },
  {
   "cell_type": "code",
   "execution_count": null,
   "metadata": {},
   "outputs": [],
   "source": [
    "import otter\n",
    "\n",
    "grader = otter.Notebook('CT-Recursion.ipynb')"
   ]
  },
  {
   "attachments": {},
   "cell_type": "markdown",
   "metadata": {},
   "source": [
    "<!-- BEGIN QUESTION -->\n",
    "\n",
    "***\n",
    "***Aufgabe 1 (Rekursives Zeichnen).***\n",
    "\n",
    "Wir haben Ihnen ein ``Python``-Script ``tree.py`` beigelegt.\n",
    "Um dieses ausführen zu können benötigen Sie das Paket ``pygame``.\n",
    "\n",
    "1. Installieren Sie das Paket ``pygame``:\n",
    "   ```\n",
    "   pip install pygame\n",
    "   ```\n",
    "2. Starten Sie das Script:\n",
    "   ```\n",
    "   python tree.py\n",
    "   ```\n",
    "3. Analysieren Sie das Script und fügen Sie Kommentare in die Datei ``tree.py`` ein, die erklären was vor sich geht."
   ]
  },
  {
   "cell_type": "markdown",
   "metadata": {},
   "source": [
    "_Type your answer here, replacing this text._"
   ]
  },
  {
   "attachments": {},
   "cell_type": "markdown",
   "metadata": {
    "tags": [
     "otter_assign_solution_cell"
    ]
   },
   "source": []
  },
  {
   "cell_type": "markdown",
   "metadata": {},
   "source": [
    "<!-- END QUESTION -->\n",
    "\n",
    "***Aufgabe 2 (Rekursive Fibonacci Zahlen).***\n",
    "\n",
    "Die Fobonacci-Folge ist definiert als\n",
    "\n",
    "$$0, 1, 1, 2, 3, 5, 8, 13, \\ldots $$\n",
    "\n",
    "In anderen Worten\n",
    "\n",
    "$$\\text{fib}(n) = \\text{fib}(n-1) + \\text{fib}(n-2)$$\n",
    "\n",
    "mit $\\text{fib}(0) = 0, \\text{fib}(1) = 1$.\n",
    "\n",
    "Definieren Sie eine rekursive Funktion ``fib(n)``, welche Ihnen die $n$-te Fibonacci Zahl bestimmt."
   ]
  },
  {
   "cell_type": "code",
   "execution_count": null,
   "metadata": {
    "tags": [
     "otter_assign_solution_cell"
    ]
   },
   "outputs": [],
   "source": [
    "# BEGIN SOLUTION\n",
    "def fib(n):\n",
    "    if n <= 0:\n",
    "        return 0\n",
    "    if n == 1:\n",
    "        return 1\n",
    "    return fib(n-1) + fib(n-2)\n",
    "# END SOLUTION\n",
    "\n",
    "fib(30) # 8"
   ]
  },
  {
   "cell_type": "markdown",
   "metadata": {},
   "source": [
    "***Aufgabe 3 (Rekursive Permutationen).***\n",
    "\n",
    "Sei eine Liste ``numbers`` mit genau $n$ **unerschiedlichen** ganzen positiven Zahlen gegeben.\n",
    "Schreiben Sie eine **rekursive** Funktion ``permutations(numbers)`` die Ihnen eine Liste zurückliefert.\n",
    "Diese Liste soll alle möglichen Permutationen von ``numbers`` enthalten.\n",
    "Zum Beisiel:\n",
    "\n",
    "```python\n",
    "permutations([1,2,3])\n",
    "```\n",
    "\n",
    "soll folgende Liste zurückliefern\n",
    "\n",
    "```\n",
    "[[1,2,3], [1,3,2], [2,1,3], [2,3,1], [3,1,2], [3,2,1]]\n",
    "```\n",
    "\n",
    "Die Reihenfolge der Listenelemente spielt keine Rolle.\n",
    "\n",
    "**Tipps:** Reduzieren Sie das Problem für $n$ Zahlen auf ein Problem mit $n-1$ Zahlen und finden Sie den Basisfall!\n",
    "Es gilt Ihr Ergebnis muss\n",
    "\n",
    "$$n!$$\n",
    "\n",
    "Elemente (Listen) enthalten."
   ]
  },
  {
   "cell_type": "code",
   "execution_count": null,
   "metadata": {
    "tags": [
     "otter_assign_solution_cell"
    ]
   },
   "outputs": [],
   "source": [
    "def permutations(numbers):\n",
    "    # BEGIN SOLUTION\n",
    "    n = len(numbers)\n",
    "    if n <= 1:\n",
    "        return [numbers]\n",
    "    result = []\n",
    "    for pers in permutations(numbers[1:]):\n",
    "        for i in range(n):\n",
    "            lst = pers[i:] + [numbers[0]] + pers[:i]\n",
    "            result.append(lst)\n",
    "    return result\n",
    "    # END SOLUTION\n",
    "len(permutations([1,2,3,4]))"
   ]
  },
  {
   "cell_type": "markdown",
   "metadata": {},
   "source": [
    "***Aufgabe 4 (Rekursive Suche durch Bisektion).***\n",
    "\n",
    "In der Vorlesung haben wir besprochen wie wichtig Sortieralgorithmen sind.\n",
    "Auf Daten die sortiert sind wir oft bestimmte Operationen schneller anwenden.\n",
    "\n",
    "Sie ``numbers`` eine Liste von **aufsteigend sortierten** Zahlen.\n",
    "Schreiben Sie eine Funktion ``find(numbers, element)`` welche Ihnen den Index ``i`` des Elements zurückliefert.\n",
    "\n",
    "1. In ``find(numbers, element)``  sollen Sie die gesamte Liste durchgehen und beim Auffinden des Elements den entsprechenen Index zurückliefern. Diese Funktion ist suboptimal!\n",
    "2. Schreiben Sie eine verbesserte **rekursive** Variante ``find_fast(numbers, element, start=None, end=None)``. Diese Funktion sucht ``element`` im Indexbereich ``start`` bis ``end``. Nutzen Sie die Sortierung der Liste aus.\n",
    "   \n",
    "   **Tipps:** Da ``numbers`` aufsteigend sortiert ist, wissen Sie dass wenn ``numbers[i] > element`` gilt, dass das Element maximal einen Index kleiner ``i`` haben kann! Reduzieren Sie das Problem auf zwei Teilprobleme mit nur je halb so vielen Zahlen!\n",
    "\n",
    "Beide Funktionen sollen -1 zurückliefern, falls das Element ``element`` nicht in der Liste ``numbers`` enthalten ist."
   ]
  },
  {
   "cell_type": "markdown",
   "metadata": {},
   "source": [
    "_Type your answer here, replacing this text._"
   ]
  },
  {
   "cell_type": "code",
   "execution_count": null,
   "metadata": {
    "tags": [
     "otter_assign_solution_cell"
    ]
   },
   "outputs": [],
   "source": [
    "def find(numbers, element):\n",
    "    # BEGIN SOLUTION\n",
    "    index = -1\n",
    "    for i in range(len(numbers)):\n",
    "        if numbers[i] == element:\n",
    "            return i\n",
    "    return index\n",
    "    # END SOLUTION\n",
    "    \n",
    "def find_fast(numbers, element, start=None, end=None):\n",
    "    if len(numbers) == 0:\n",
    "        return -1\n",
    "    if start == None:\n",
    "        start = 0\n",
    "    if end == None:\n",
    "        end = len(numbers)-1\n",
    "    \n",
    "    # BEGIN SOLUTION\n",
    "    pivot = start + (end - start) // 2\n",
    "    if numbers[pivot] == element:\n",
    "        return pivot\n",
    "    elif start >= end:\n",
    "        return -1\n",
    "    elif numbers[pivot] < element:\n",
    "        return find_fast(numbers, element, pivot+1, end)\n",
    "    else:\n",
    "        return find_fast(numbers, element, start, pivot-1) \n",
    "    # END SOLUTION\n",
    "    "
   ]
  },
  {
   "cell_type": "code",
   "execution_count": null,
   "metadata": {
    "tags": [
     "otter_assign_solution_cell"
    ]
   },
   "outputs": [],
   "source": [
    "print(find([1,2,3,4,5,6,7], 5)) # 4\n",
    "print(find_fast([1,2,3,4,5,6,7], 5)) # 4"
   ]
  },
  {
   "cell_type": "markdown",
   "metadata": {
    "tags": [
     "otter_assign_solution_cell"
    ]
   },
   "source": [
    "Folgender Code tested die Laufzeit Ihrer beiden Implementierungen. Vergleichen Sie diese. ms steht für Millisekunden und µs für Mikrosekunde. Eine Mikrosekunde sind 1000 Millisekunden."
   ]
  },
  {
   "cell_type": "code",
   "execution_count": null,
   "metadata": {
    "tags": [
     "otter_assign_solution_cell"
    ]
   },
   "outputs": [],
   "source": [
    "n = 1_000_000\n",
    "numbers = list(range(n))\n",
    "%timeit find(numbers, n-1)"
   ]
  },
  {
   "cell_type": "code",
   "execution_count": null,
   "metadata": {
    "tags": [
     "otter_assign_solution_cell"
    ]
   },
   "outputs": [],
   "source": [
    "%timeit find_fast(numbers, n-1)"
   ]
  },
  {
   "cell_type": "code",
   "execution_count": null,
   "metadata": {
    "deletable": false,
    "editable": false
   },
   "outputs": [],
   "source": [
    "grader.check(\"q4\")"
   ]
  },
  {
   "cell_type": "markdown",
   "metadata": {},
   "source": [
    "***Aufgabe 5 (Rekursive Kombinatorik).***\n",
    "\n",
    "Sei eine Liste ``numbers`` mit genau $n$ **unerschiedlichen** ganzen positiven Zahlen gegeben.\n",
    "Schreiben Sie eine **rekursive** Funktion ``binom(numbers, k)`` die Ihnen eine Liste zurückliefert.\n",
    "Diese Liste soll alle möglichen Kombinationen aus ``k`` Elementen aus ``numbers`` enthalten.\n",
    "Jeder Kombination ist wiederum eine Liste der Länge ``k``. Es gibt \n",
    "\n",
    "$${n\\choose k} = \\frac{n!}{k!(n-k)!}$$\n",
    "\n",
    "solcher Kombinationen.\n",
    "\n",
    "**Tipps:** Reduzieren Sie das Problem für $n$ Zahlen auf ein Problem mit $n-1$ Zahlen und finden Sie den Basisfall!\n",
    "Es gilt \n",
    "\n",
    "$${n\\choose 1} = n$$\n",
    "\n",
    "und \n",
    "\n",
    "$${n\\choose n} = 1.$$\n",
    "\n",
    "Zudem gilt \n",
    "\n",
    "$${n\\choose k} = {n-1 \\choose k-1} + {n-1 \\choose k}.$$\n",
    "\n",
    "Überlegen Sie anhand eines Beispiels was das beudetet, z.B. für ``numbers = [1,2,3,4]`` was der Zusammenhang\n",
    "\n",
    "$${4 \\choose 2} = {3 \\choose 1} + {3 \\choose 2}$$\n",
    "\n",
    "für Ihren Algorithmus bedeuten könnte. Sie benötigen vorrausichtlich nur eine Schleife."
   ]
  },
  {
   "cell_type": "code",
   "execution_count": null,
   "metadata": {
    "tags": [
     "otter_assign_solution_cell"
    ]
   },
   "outputs": [],
   "source": [
    "def binom(numbers, k):\n",
    "    # BEGIN SOLUTION\n",
    "    n = len(numbers)\n",
    "    if k > n or k <= 0:\n",
    "        return [[]]\n",
    "    elif k == 1:\n",
    "        return [[number] for number in numbers]\n",
    "    elif n == k:\n",
    "        return [numbers]\n",
    "    else:\n",
    "        lst1 = binom(numbers[1:], k-1) # n-1 choose k-1\n",
    "        lst2 = binom(numbers[1:], k) # n-1 choose k\n",
    "        \n",
    "        for sublist in lst1:\n",
    "            sublist.append(numbers[0])\n",
    "        \n",
    "        return lst1 + lst2\n",
    "    # END SOLUTION"
   ]
  },
  {
   "cell_type": "markdown",
   "metadata": {
    "deletable": false,
    "editable": false
   },
   "source": [
    "---\n",
    "\n",
    "To double-check your work, the cell below will rerun all of the autograder tests."
   ]
  },
  {
   "cell_type": "code",
   "execution_count": null,
   "metadata": {
    "deletable": false,
    "editable": false
   },
   "outputs": [],
   "source": [
    "grader.check_all()"
   ]
  },
  {
   "cell_type": "markdown",
   "metadata": {
    "deletable": false,
    "editable": false
   },
   "source": [
    "## Submission\n",
    "\n",
    "Make sure you have run all cells in your notebook in order before running the cell below, so that all images/graphs appear in the output. The cell below will generate a zip file for you to submit. **Please save before exporting!**\n",
    "\n",
    "Dieses Notebook ist zur reinen Übung gedacht und muss nicht abgegeben werden. Wir raten Ihnen eindringlich alle Aufgaben zu lösen!"
   ]
  },
  {
   "cell_type": "code",
   "execution_count": null,
   "metadata": {
    "deletable": false,
    "editable": false
   },
   "outputs": [],
   "source": [
    "# Save your notebook first, then run this cell to export your submission.\n",
    "grader.export(pdf=False, run_tests=True)"
   ]
  },
  {
   "cell_type": "markdown",
   "metadata": {},
   "source": [
    " "
   ]
  }
 ],
 "metadata": {
  "kernelspec": {
   "display_name": "ct",
   "language": "python",
   "name": "python3"
  },
  "language_info": {
   "codemirror_mode": {
    "name": "ipython",
    "version": 3
   },
   "file_extension": ".py",
   "mimetype": "text/x-python",
   "name": "python",
   "nbconvert_exporter": "python",
   "pygments_lexer": "ipython3",
   "version": "3.10.4"
  },
  "otter": {
   "OK_FORMAT": false,
   "assignment_name": "training10",
   "tests": {
    "q2": "from otter.test_files import test_case\n\nOK_FORMAT = False\n\nname = \"q2\"\npoints = 2\n\n@test_case(points=1, hidden=True, \n    success_message=\"Das sieht gut aus.\", \n    failure_message=\"Da ist noch was nicht richtig.\")\ndef test_fib(env):\n    fib = env['fib']\n    assert fib(0) == 0, \"fib(0) sollte 0 zurückliefern\"\n    assert fib(1) == 1, \"fib(1) sollte 1 zurückliefern\"\n    assert fib(2) == 1, \"fib(2) sollte 1 zurückliefern\"\n    assert fib(3) == 2, \"fib(3) sollte 2 zurückliefern\"\n    assert fib(4) == 3, \"fib(4) sollte 3 zurückliefern\"\n    assert fib(5) == 5, \"fib(5) sollte 5 zurückliefern\"\n    assert fib(6) == 8, \"fib(6) sollte 8 zurückliefern\"\n    assert fib(30) == 832040, \"fib(30) sollte 832040 zurückliefern\"\n    \n",
    "q3": "from otter.test_files import test_case\n\nOK_FORMAT = False\n\nname = \"q3\"\npoints = 3\n\n@test_case(points=1, hidden=True, \n    success_message=\"Das sieht gut aus.\", \n    failure_message=\"Da ist noch was nicht richtig.\")\ndef test_permutations(env):\n    permutations = env['permutations']\n    assert permutations([]) == [[]], \"Permutation einer leeren Liste ist eine Liste welche eine leere Liste enthält.\"\n    assert permutations([1]) == [[1]], \"Permutation eines einzelnen Werts in einer Liste ist eine Liste aus einer Liste mit jenem Wert.\"\n    \n    expected = [[2,1], [1,2]]\n    values = permutations([1,2])\n    assert len(expected) == len(values), \"Permutation von zwei Werten schlägt fehl.\"\n    assert all([val in expected for val in values]), \"Permutation von zwei Werten schlägt fehl.\"\n    \n    expected = [[1,2,3], [1,3,2], [2,1,3], [2,3,1], [3,1,2], [3,2,1]]\n    values = permutations([1,2,3])\n    assert len(expected) == len(values), \"Permutation von drei Werten schlägt fehl.\"\n    assert all([val in expected for val in values]), \"Permutation von drei Werten schlägt fehl.\"\n    \n    values = permutations([1,2,3,4])\n    cleanlist = []\n    [cleanlist.append(x) for x in values if x not in cleanlist] \n    assert 2*3*4 == len(values), \"Permutation von drei Werten schlägt fehl.\"\n    assert len(cleanlist) == len(values), \"Permutation von vier Werten schlägt fehl.\"\n    \n    values = permutations([1,2,3,4,5])\n    cleanlist = []\n    [cleanlist.append(x) for x in values if x not in cleanlist] \n    assert 2*3*4*5 == len(values), \"Permutation von fünf Werten schlägt fehl.\"\n    assert len(cleanlist) == len(values), \"Permutation von fünf Werten schlägt fehl.\"\n    \n    \n",
    "q4": "from otter.test_files import test_case\n\nOK_FORMAT = False\n\nname = \"q4\"\npoints = 4\n\n@test_case(points=1, hidden=True, \n    success_message=\"Das sieht gut aus.\", \n    failure_message=\"Da ist noch was nicht richtig.\")\ndef test_find(env):\n    find = env['find']\n    assert find([], 3) == -1, \"Suche nach einem Element in leere Liste sollte immer -1 zurückliefern\"\n    assert find([3], 3) == 0, \"Suche nach 3 in [3] sollte 0 zurückliefern\"\n    assert find([1,2], 1) == 0, \"Suche nach 1 in [1,2] sollte 0 zurückliefern\"\n    assert find([1,2], 2) == 1, \"Suche nach 2 in [1,2] sollte 1 zurückliefern\"\n    assert find([1,2,3,4,5,6], 5) == 4, \"Suche nach 5 in [1,2,3,4,5,6] sollte 4 zurückliefern\"\n    assert find([1,2,3,4,5,6], 1) == 0, \"Suche nach 1 in [1,2,3,4,5,6] sollte 0 zurückliefern\"\n    assert find([1,2,3,4,5,6], 6) == 5, \"Suche nach 6 in [1,2,3,4,5,6] sollte 5 zurückliefern\"\n    \n@test_case(points=1, hidden=False, \n    success_message=\"Das sieht gut aus.\", \n    failure_message=\"Da ist noch was nicht richtig.\")\ndef test_find_fast(env):\n    find = env['find_fast']\n    assert find([], 3) == -1, \"Suche nach einem Element in leere Liste sollte immer -1 zurückliefern\"\n    assert find([3], 3) == 0, \"Suche nach 3 in [3] sollte 0 zurückliefern\"\n    assert find([1,2], 1) == 0, \"Suche nach 1 in [1,2] sollte 0 zurückliefern\"\n    assert find([1,2], 2) == 1, \"Suche nach 2 in [1,2] sollte 1 zurückliefern\"\n    assert find([1,2,3,4,5,6], 5) == 4, \"Suche nach 5 in [1,2,3,4,5,6] sollte 4 zurückliefern\"\n    assert find([1,2,3,4,5,6], 1) == 0, \"Suche nach 1 in [1,2,3,4,5,6] sollte 0 zurückliefern\"\n    assert find([1,2,3,4,5,6], 6) == 5, \"Suche nach 6 in [1,2,3,4,5,6] sollte 5 zurückliefern\"\n    \n",
    "q5": "from otter.test_files import test_case\n\nOK_FORMAT = False\n\nname = \"q5\"\npoints = 4\n\n@test_case(points=1, hidden=True, \n    success_message=\"Das sieht gut aus.\", \n    failure_message=\"Da ist noch was nicht richtig.\")\ndef test_binom(env):\n    \n    def in_list(expected, lst):\n        [sublist for sublist in expected]\n    \n    binom = env['binom']\n    assert binom([], 1) == [[]], \"Eine leere Liste numbers=[] sollte immer [[]] zurückliefern\"\n    assert binom([1], 0) == [[]], \"k=0 sollte immer [[]] zurückliefern\"\n    assert binom([1,2,3], 4) == [[]], \"k<len(numbers) sollte immer [[]] zurückliefern\"\n    \n    expected = [[1], [2], [3]]\n    value = binom([1,2,3], 1)\n    assert len(expected) == len(value), \"Ein Element von 3 sollte 3 Listen mit je einem Element ergeben.\"\n    assert all([val in expected for val in value]), \"Ein Element von 3 sollte 3 Listen mit je einem Element ergeben.\"\n    \n    expected = [[2, 1], [3, 1], [4, 1], [3, 2], [4, 2], [3, 4]]\n    \n    for el in expected:\n        el.sort()\n        \n    value = binom([1,2,3,4], 2)\n    for el in value:\n        el.sort()\n    \n    assert len(expected) == len(value), \"Zwei Element von 4 sollte 6 Listen mit je zwei Element ergeben.\"\n    assert all([val in expected for val in value]), \"Zwei Element von 4 sollte 6 Listen mit je zwei Element ergeben.\"\n    \n    expected = [[4, 3, 2, 1],\n                [5, 3, 2, 1],\n                [6, 3, 2, 1],\n                [5, 4, 2, 1],\n                [6, 4, 2, 1],\n                [5, 6, 2, 1],\n                [5, 4, 3, 1],\n                [6, 4, 3, 1],\n                [5, 6, 3, 1],\n                [4, 5, 6, 1],\n                [5, 4, 3, 2],\n                [6, 4, 3, 2],\n                [5, 6, 3, 2],\n                [4, 5, 6, 2],\n                [3, 4, 5, 6]]\n    for el in expected:\n        el.sort()\n        \n    value = binom([1,2,3,4,5,6], 4)\n    for el in value:\n        el.sort()\n    \n    assert len(expected) == len(value), \"4 Element von 6 sollte 15 Listen mit je vier Element ergeben.\"\n    assert all([val in expected for val in value]), \"4 Element von 6 sollte 15 Listen mit je vier Element ergeben.\"\n    \n"
   }
  },
  "vscode": {
   "interpreter": {
    "hash": "881d337900756e70a76eada1facb65e60ce30b1cc249c92e2adf60a26cf555a8"
   }
  }
 },
 "nbformat": 4,
 "nbformat_minor": 4
}

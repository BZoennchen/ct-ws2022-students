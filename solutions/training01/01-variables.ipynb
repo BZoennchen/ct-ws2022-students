{
 "cells": [
  {
   "cell_type": "code",
   "execution_count": null,
   "id": "c0d73c7a",
   "metadata": {
    "deletable": false,
    "editable": false
   },
   "outputs": [],
   "source": [
    "# Initialize Otter\n",
    "import otter\n",
    "grader = otter.Notebook(\"01-variables.ipynb\")"
   ]
  },
  {
   "cell_type": "markdown",
   "id": "56e1e956",
   "metadata": {},
   "source": [
    "# 1 Grundlagen - Variablen\n",
    "\n",
    "[CT-Buch Kapitel 13.1 Variablen](https://bzoennchen.github.io/ct-book/chapters/03-3/1-variables.html)\n",
    "\n",
    "*Variablen* können wir uns intuitiv zunächst als Namen oder Bezeichnung eines Wertes vorstellen.\n",
    "Mit diesem Namen können wir einen Wert im *Arbeitsspeicherspeicher* des Computers identifizieren.\n",
    "So können wir uns Zwischenergebnisse merken und damit weiter rechnen.\n",
    "\n",
    "## 1.1 Initialisierung und Zuweisung\n",
    "\n",
    "Durch das ``=`` Zeichen weisen wir einer *Variablen* auf der linken Seite den Wert des *Ausdrucks* auf der rechten Seite zu: ``[Variable] = [Ausdruck]``.\n",
    "Zum Beispiel, weist"
   ]
  },
  {
   "cell_type": "code",
   "execution_count": 9,
   "id": "dbe64d9b",
   "metadata": {},
   "outputs": [],
   "source": [
    "x = 3 + 10"
   ]
  },
  {
   "cell_type": "markdown",
   "id": "3ee57836",
   "metadata": {},
   "source": [
    "den ausgewerteten Wert ``3 + 10``, also ``13`` der Variablen ``x`` zu.\n",
    "Der Ausdruck ``3 + 10`` wird vor der Zuweisung ausgewertet / berechnet.\n",
    "Es ist äußerst wichtig, dass Sie zwischen dem ``=`` (Zuweisung) und dem mathematischen $=$ (Vergleich) unterscheiden.\n",
    "\n",
    "$$x = 13$$\n",
    "\n",
    "bedeutet, dass $x$ gleich $13$ ist, wohingegen"
   ]
  },
  {
   "cell_type": "code",
   "execution_count": 10,
   "id": "1f0ed72a",
   "metadata": {},
   "outputs": [],
   "source": [
    "x = 13"
   ]
  },
  {
   "cell_type": "markdown",
   "id": "214609e9",
   "metadata": {},
   "source": [
    "den Wert der Variablen ``x`` auf ``13`` setzt oder genaue die Variable auf einen Speicherbereich verweisen lässt, welcher den Wert ``13`` enthält.\n",
    "Um das mathematisch auszurücken verwendet man oft eine Pfeil $\\leftarrow$, also \n",
    "\n",
    "$$x \\leftarrow 13.$$\n",
    "\n",
    "Der Pfeil soll verdeutlichen, dass es sich um eine *Zuweisung* handelt. Mit"
   ]
  },
  {
   "cell_type": "code",
   "execution_count": 11,
   "id": "df5f6ee7",
   "metadata": {},
   "outputs": [],
   "source": [
    "x = None"
   ]
  },
  {
   "cell_type": "markdown",
   "id": "b95ff6a0",
   "metadata": {},
   "source": [
    "weisen wir ``x`` den Wert ``None`` d.h. 'Nichts' zu. Doch ist dieses 'Nichts' nicht nichts ;) sondern **repräsentiert** das Nichts.\n",
    "\n",
    "Versuchen wir eine *Variable* zu verarbeiten, die noch nicht initialisiert wurde, so erhalten wir einen Fehler:"
   ]
  },
  {
   "cell_type": "code",
   "execution_count": 12,
   "id": "cc6e5f6f",
   "metadata": {},
   "outputs": [
    {
     "ename": "NameError",
     "evalue": "name 'v' is not defined",
     "output_type": "error",
     "traceback": [
      "\u001b[0;31m---------------------------------------------------------------------------\u001b[0m",
      "\u001b[0;31mNameError\u001b[0m                                 Traceback (most recent call last)",
      "Input \u001b[0;32mIn [12]\u001b[0m, in \u001b[0;36m<cell line: 1>\u001b[0;34m()\u001b[0m\n\u001b[0;32m----> 1\u001b[0m \u001b[43mv\u001b[49m \u001b[38;5;241m+\u001b[39m \u001b[38;5;241m20\u001b[39m\n",
      "\u001b[0;31mNameError\u001b[0m: name 'v' is not defined"
     ]
    }
   ],
   "source": [
    "v + 20"
   ]
  },
  {
   "cell_type": "markdown",
   "id": "f8653001",
   "metadata": {},
   "source": [
    "Die Fehlermeldung des Interpreters ``name 'v' is not defined`` weist uns darauf hin, dass die *Variable* ``v`` noch nicht *initialisiert* wurde.\n",
    "\n",
    "In ``Python`` reicht es wenn Sie der *Variablen* einen Wert zuweisen.\n",
    "Sie wird automatisch erzeugt, d.h., *initialisiert*.\n",
    "Besitzt sie noch keinen Wert, so existiert sie auch nicht bzw. ist noch nicht *initialisiert*.\n",
    "\n",
    "Variablen können nicht beliebig benannt werden. \n",
    "\n",
    "+ Sie können **keine** Leerzeichen enthalten (falsch: ``test var``)\n",
    "+ Sie dürfen lediglich Buchstaben, Zahlen und den Unterstrich enthalten (falsch: ``test_var!``)\n",
    "+ Sie müssen mit einem Buchstaben oder dem Unterstrich starten (falsch: ``1_test_var``)\n",
    "\n",
    "Gut und konsistent benannte Variablen helfen Ihnen und anderen dabei Programmcode besser zu verstehen.\n",
    "\n",
    "Mit der ``print()``-Funktion, können Sie sich jederzeit den Wert der Variablen ausgeben lassen."
   ]
  },
  {
   "cell_type": "code",
   "execution_count": 13,
   "id": "aaf8fdb5",
   "metadata": {},
   "outputs": [
    {
     "name": "stdout",
     "output_type": "stream",
     "text": [
      "42\n"
     ]
    }
   ],
   "source": [
    "x = 42\n",
    "print(x)"
   ]
  },
  {
   "cell_type": "markdown",
   "id": "56c9b160",
   "metadata": {},
   "source": [
    "In der Notebookumgebung wird der Wert der letzten Zeile einer Zelle immer ausgegeben (außer dieser ist gleich ``None``)."
   ]
  },
  {
   "cell_type": "code",
   "execution_count": 14,
   "id": "dd85eaee",
   "metadata": {},
   "outputs": [
    {
     "data": {
      "text/plain": [
       "'gib diese Zeichenkette aus'"
      ]
     },
     "execution_count": 14,
     "metadata": {},
     "output_type": "execute_result"
    }
   ],
   "source": [
    "'gib diese Zeichenkette aus'"
   ]
  },
  {
   "cell_type": "code",
   "execution_count": 15,
   "id": "50175c05",
   "metadata": {},
   "outputs": [],
   "source": [
    "None # keine Aussgabe"
   ]
  },
  {
   "cell_type": "markdown",
   "id": "2172976b",
   "metadata": {},
   "source": [
    "***\n",
    "***Aufgabe 1.1*** Initialisieren Sie die *Variable* ``number`` sodass folgender Code das Ergebnis ``42`` ausgibt."
   ]
  },
  {
   "cell_type": "code",
   "execution_count": 16,
   "id": "c5ddec60",
   "metadata": {
    "tags": [
     "otter_assign_solution_cell"
    ]
   },
   "outputs": [
    {
     "name": "stdout",
     "output_type": "stream",
     "text": [
      "42\n"
     ]
    }
   ],
   "source": [
    "number = 32 # SOLUTION\n",
    "number = number + 10\n",
    "print(number)"
   ]
  },
  {
   "cell_type": "code",
   "execution_count": null,
   "id": "f48d59be",
   "metadata": {
    "deletable": false,
    "editable": false
   },
   "outputs": [],
   "source": [
    "grader.check(\"q1\")"
   ]
  },
  {
   "cell_type": "markdown",
   "id": "5ff41a79",
   "metadata": {},
   "source": [
    "***Aufgabe 1.2*** Erklären Sie die Ausgabe des folgenden Codes."
   ]
  },
  {
   "cell_type": "code",
   "execution_count": 18,
   "id": "eb2c3cdc",
   "metadata": {},
   "outputs": [
    {
     "name": "stdout",
     "output_type": "stream",
     "text": [
      "42\n",
      "None\n"
     ]
    }
   ],
   "source": [
    "print(print(42))"
   ]
  },
  {
   "cell_type": "markdown",
   "id": "39d3d178",
   "metadata": {},
   "source": [
    "_Type your answer here, replacing this text._"
   ]
  },
  {
   "cell_type": "markdown",
   "id": "9ebe86bc",
   "metadata": {
    "tags": [
     "otter_assign_solution_cell"
    ]
   },
   "source": [
    "``print(print(42))`` gibt aus was ``print(42)`` zurückliefert. Dazu wird die Aussage ``print(42)`` ausgewertet, was wiederum ``42`` ausgibt. Da daraufhin ``None`` ausgegeben wird, bedeutet dies, dass ``print(42)`` zu ``None`` ausgewertet wird."
   ]
  },
  {
   "cell_type": "markdown",
   "id": "99f70988",
   "metadata": {},
   "source": [
    "***"
   ]
  },
  {
   "cell_type": "markdown",
   "id": "666d5490",
   "metadata": {},
   "source": [
    "## 1.2 Veränderung\n",
    "\n",
    "In ``Python`` können Sie den Wert einer Variablen jederzeit verändern, indem Sie ihren aktuellen Wert **überschreiben**."
   ]
  },
  {
   "cell_type": "code",
   "execution_count": 19,
   "id": "0eb5f1a4",
   "metadata": {},
   "outputs": [
    {
     "name": "stdout",
     "output_type": "stream",
     "text": [
      "42\n",
      "100\n"
     ]
    }
   ],
   "source": [
    "x = 42\n",
    "print(x)\n",
    "x = 100\n",
    "print(x)"
   ]
  },
  {
   "cell_type": "markdown",
   "id": "ff6bba56",
   "metadata": {},
   "source": [
    "In den Jupyter-Notebooks bleibt der Wert einer Variable für nachfolgende Zellen erhalten, allerdings spielt die Reihenfolge in der Sie die Zellen ausgeführt haben eine wichtige Rolle!"
   ]
  },
  {
   "cell_type": "code",
   "execution_count": 20,
   "id": "d449028d",
   "metadata": {},
   "outputs": [],
   "source": [
    "x = 111"
   ]
  },
  {
   "cell_type": "code",
   "execution_count": 21,
   "id": "94101969",
   "metadata": {},
   "outputs": [
    {
     "name": "stdout",
     "output_type": "stream",
     "text": [
      "111\n"
     ]
    }
   ],
   "source": [
    "print(x)"
   ]
  },
  {
   "cell_type": "code",
   "execution_count": 22,
   "id": "1a29f275",
   "metadata": {},
   "outputs": [],
   "source": [
    "x = x + 3"
   ]
  },
  {
   "cell_type": "markdown",
   "id": "411c4748",
   "metadata": {},
   "source": [
    "***\n",
    "***Aufgabe 1.3.*** Werten Sie folgende Zeilen in beliebiger Reihenfolge wiederholt aus, bis die Variable ``z`` den Wert ``100`` enthält. Wie viele Auswertungen benötigen sie mindestens?"
   ]
  },
  {
   "cell_type": "code",
   "execution_count": 6,
   "id": "e32bbe08",
   "metadata": {},
   "outputs": [],
   "source": [
    "z = 15"
   ]
  },
  {
   "cell_type": "code",
   "execution_count": 10,
   "id": "10b8963a",
   "metadata": {},
   "outputs": [
    {
     "name": "stdout",
     "output_type": "stream",
     "text": [
      "100\n"
     ]
    }
   ],
   "source": [
    "z = z + z\n",
    "print(z)"
   ]
  },
  {
   "cell_type": "code",
   "execution_count": 8,
   "id": "1c95ed98",
   "metadata": {},
   "outputs": [
    {
     "name": "stdout",
     "output_type": "stream",
     "text": [
      "25\n"
     ]
    }
   ],
   "source": [
    "z = z - 5\n",
    "print(z)"
   ]
  },
  {
   "cell_type": "markdown",
   "id": "63073132",
   "metadata": {},
   "source": [
    "_Type your answer here, replacing this text._"
   ]
  },
  {
   "cell_type": "markdown",
   "id": "026c002b",
   "metadata": {
    "tags": [
     "otter_assign_solution_cell"
    ]
   },
   "source": [
    "Wir benötigen einmal ``z = 15``, dann einmal ``z = z + 15`` dann einmal ``z = z - 5``, dann zweimal ``z = z + z``."
   ]
  },
  {
   "cell_type": "markdown",
   "id": "3e525a8b",
   "metadata": {},
   "source": [
    "***"
   ]
  },
  {
   "cell_type": "markdown",
   "id": "79deb778",
   "metadata": {},
   "source": [
    "## 1.3 Mehrere Variablen\n",
    "\n",
    "Normalerweise benötigen wir mehr als eine Variable. Mit gut gewählten Namen geben Variablen die Semantik (**Was berechnet wird**) preis ohne dass wir den Code im Detail betrachten müssen.\n",
    "\n",
    "Im folgenden Beispiel berechnen wir die Anzahl der Sekunden die innerhalb von vier Jahren vertreichen. Dabei verwenden wir fünf Variablen:"
   ]
  },
  {
   "cell_type": "code",
   "execution_count": 26,
   "id": "e2df4247",
   "metadata": {},
   "outputs": [
    {
     "name": "stdout",
     "output_type": "stream",
     "text": [
      "126144000\n"
     ]
    }
   ],
   "source": [
    "# Create variables\n",
    "num_years = 4\n",
    "days_per_year = 365 \n",
    "hours_per_day = 24\n",
    "mins_per_hour = 60\n",
    "secs_per_min = 60\n",
    "\n",
    "# Calculate number of seconds in four years\n",
    "total_secs = secs_per_min * mins_per_hour * hours_per_day * days_per_year * num_years\n",
    "print(total_secs)"
   ]
  },
  {
   "cell_type": "markdown",
   "id": "35348729",
   "metadata": {},
   "source": [
    "Die obige Berechnung lässt sich auch mit nur einer (oder keiner) Variablen ausdrücken:"
   ]
  },
  {
   "cell_type": "code",
   "execution_count": 27,
   "id": "87a59124",
   "metadata": {},
   "outputs": [
    {
     "name": "stdout",
     "output_type": "stream",
     "text": [
      "126144000\n"
     ]
    }
   ],
   "source": [
    "total_secs = 60 * 60 * 24 * 365 * 4\n",
    "print(total_secs)"
   ]
  },
  {
   "cell_type": "markdown",
   "id": "eee13df8",
   "metadata": {},
   "source": [
    "In diesem Fall verschlechtert sich die Lesbarkeit nicht unbedingt. Es kommt hierbei auf die Leserschaft Ihres Codes an.\n",
    "\n",
    "Folgende Zwischenlösung finden wir einfacher zu lesen:"
   ]
  },
  {
   "cell_type": "code",
   "execution_count": 28,
   "id": "bb7b0115",
   "metadata": {},
   "outputs": [
    {
     "name": "stdout",
     "output_type": "stream",
     "text": [
      "126144000\n"
     ]
    }
   ],
   "source": [
    "secs_per_year = 365 * 24 * 60 * 60\n",
    "total_secs = secs_per_year * 4\n",
    "print(total_secs)"
   ]
  },
  {
   "cell_type": "markdown",
   "id": "8ecf2367",
   "metadata": {},
   "source": [
    "In den beiden Beispielen ändern sich unsere Variablen nicht. ``secs_per_year`` beschreibt, aus wie vielen Sekunden ein Jahr besteht. Dies wird sich niemals ändern.\n",
    "Um Lesern dies zu signalisieren schreiben wir derartige Variablen in Großbuchstaben:"
   ]
  },
  {
   "cell_type": "code",
   "execution_count": 29,
   "id": "639660e3",
   "metadata": {},
   "outputs": [
    {
     "name": "stdout",
     "output_type": "stream",
     "text": [
      "126144000\n"
     ]
    }
   ],
   "source": [
    "SECS_PER_YEAR = 365 * 24 * 60 * 60\n",
    "years = 4\n",
    "total_secs = SECS_PER_YEAR * years\n",
    "print(total_secs)"
   ]
  },
  {
   "cell_type": "markdown",
   "id": "77d8f9af",
   "metadata": {},
   "source": [
    "**Merke**: Variablen die sich niemals ändern (sog. Konstanten) schreiben wir gewöhnlich in Großbuchstaben.\n",
    "\n",
    "Variablen sind immer dann besonders nützlich wenn sich ihr Wert ändert."
   ]
  },
  {
   "cell_type": "markdown",
   "id": "9e7c4a08",
   "metadata": {},
   "source": [
    "***\n",
    "***Aufgabe 1.4*** Ändern Sie den Wert eine der Variablen im folgenden Code um die Sekundenanzahl zu berechnen welche innerhalb von 7 Jahren verstreicht."
   ]
  },
  {
   "cell_type": "code",
   "execution_count": 30,
   "id": "dabcc9f9",
   "metadata": {
    "tags": [
     "otter_assign_solution_cell"
    ]
   },
   "outputs": [
    {
     "name": "stdout",
     "output_type": "stream",
     "text": [
      "220752000\n"
     ]
    }
   ],
   "source": [
    "SECS_PER_YEAR = 365 * 24 * 60 * 60\n",
    "years = 4\n",
    "years = 7 # SOLUTION\n",
    "total_secs = SECS_PER_YEAR * years\n",
    "print(total_secs)"
   ]
  },
  {
   "cell_type": "code",
   "execution_count": null,
   "id": "6eaa36af",
   "metadata": {
    "deletable": false,
    "editable": false
   },
   "outputs": [],
   "source": [
    "grader.check(\"q4\")"
   ]
  },
  {
   "cell_type": "markdown",
   "id": "901a9f5f",
   "metadata": {},
   "source": [
    "***"
   ]
  },
  {
   "cell_type": "markdown",
   "id": "1807be75",
   "metadata": {},
   "source": [
    "Angenommen wir möchten den Flächeninhalt eines Rechtecks berechnen:"
   ]
  },
  {
   "cell_type": "code",
   "execution_count": 32,
   "id": "fd3762c8",
   "metadata": {},
   "outputs": [
    {
     "name": "stdout",
     "output_type": "stream",
     "text": [
      "13219.999999999998\n"
     ]
    }
   ],
   "source": [
    "width = 100\n",
    "height = 132.2\n",
    "volume = width * height\n",
    "print(volume)"
   ]
  },
  {
   "cell_type": "markdown",
   "id": "1edcc2e3",
   "metadata": {},
   "source": [
    "Ändern wir nun die Breite ``width``, so ergibt sich ein anderer Flächeninhalt, sofern wir diesen erneut berechnen."
   ]
  },
  {
   "cell_type": "code",
   "execution_count": 33,
   "id": "4c5fd7bc",
   "metadata": {},
   "outputs": [
    {
     "name": "stdout",
     "output_type": "stream",
     "text": [
      "26439.999999999996\n"
     ]
    }
   ],
   "source": [
    "width = 200\n",
    "volume = width * height\n",
    "print(volume)"
   ]
  },
  {
   "cell_type": "markdown",
   "id": "53ab5385",
   "metadata": {},
   "source": [
    "Beachten Sie, dass wir eine sog. *Gleitkommazahl* ``float`` als Ergebnis erhalten. Die Variable besitzt einen anderen *Datentyp* als z.B. ``width``. Mehr dazu später."
   ]
  },
  {
   "cell_type": "markdown",
   "id": "67c1f1e9",
   "metadata": {},
   "source": [
    "## Debugging (Einschub)\n",
    "\n",
    "Debugging ist ein Prozess bei dem Sie sich ansehen welche Werte Ihre Variablen zu welchem Zeitpunkt haben.\n",
    "In anderen Worten, Sie verfolgen den *Zustand* aller Variablen Ihres Programms über den Programmablauf hinweg.\n",
    "Zu Beginn Ihrer Programmierreise ist es hilfreich sich die Werte der Variablen durch den ``print()``-Befehl auszugeben."
   ]
  },
  {
   "cell_type": "markdown",
   "id": "251f3e45",
   "metadata": {},
   "source": [
    "***\n",
    "***Aufgabe 1.5*** Bestimmen Sie was die Operation ``b**0.5`` berechnet."
   ]
  },
  {
   "cell_type": "code",
   "execution_count": 34,
   "id": "c008ada6",
   "metadata": {},
   "outputs": [
    {
     "data": {
      "text/plain": [
       "882.0"
      ]
     },
     "execution_count": 34,
     "metadata": {},
     "output_type": "execute_result"
    }
   ],
   "source": [
    "a = 13\n",
    "b = 25\n",
    "c = ((b**0.5 + a) * 7) * 7\n",
    "c"
   ]
  },
  {
   "cell_type": "markdown",
   "id": "a973d1dc",
   "metadata": {},
   "source": [
    "_Type your answer here, replacing this text._"
   ]
  },
  {
   "cell_type": "markdown",
   "id": "4210351b",
   "metadata": {
    "tags": [
     "otter_assign_solution_cell"
    ]
   },
   "source": [
    "``b**0.5`` entspricht $b^{0.5} = \\sqrt{b}$"
   ]
  },
  {
   "cell_type": "markdown",
   "id": "36035cb1",
   "metadata": {},
   "source": [
    "***\n",
    "Oftmals machen wir dies um Fehler zu finden.\n",
    "Einer der einfachsten Fehler die sich einschleichen können sind Typos, z.B.:"
   ]
  },
  {
   "cell_type": "code",
   "execution_count": 35,
   "id": "ea40946c",
   "metadata": {},
   "outputs": [
    {
     "ename": "NameError",
     "evalue": "name 'volum' is not defined",
     "output_type": "error",
     "traceback": [
      "\u001b[0;31m---------------------------------------------------------------------------\u001b[0m",
      "\u001b[0;31mNameError\u001b[0m                                 Traceback (most recent call last)",
      "Input \u001b[0;32mIn [35]\u001b[0m, in \u001b[0;36m<cell line: 1>\u001b[0;34m()\u001b[0m\n\u001b[0;32m----> 1\u001b[0m \u001b[38;5;28mprint\u001b[39m(\u001b[43mvolum\u001b[49m)\n",
      "\u001b[0;31mNameError\u001b[0m: name 'volum' is not defined"
     ]
    }
   ],
   "source": [
    "print(volum)"
   ]
  },
  {
   "cell_type": "markdown",
   "id": "66674085",
   "metadata": {},
   "source": [
    "Sobald der ``Python``-*Interpreter* eine Anweidung nicht versteht bzw. nicht ausführen kann, kommt es zu einem Fehler.\n",
    "Diese Fehler sind Hinweise woran es liegen könnte, dass unser Prorgamm abgebrochen wurde.\n",
    "Diese Meldungen mögen manchmal irritierend sein, da der Fehler nicht zwangsläufig dort zu finden ist, wo der Programmablauf endet."
   ]
  },
  {
   "cell_type": "markdown",
   "id": "ff62379f",
   "metadata": {},
   "source": [
    "## Jupyter Notebooks (Einschub)\n",
    "\n",
    "*Jupyter Notebooks* helfen uns beim Lernen der ``Python``-Grundlagen, da wir Code interaktiv ausführen können.\n",
    "Sie erhalten ein sofortiges Feedback und können schnell und zyklisch *Code verändern* und *Code ausführen*.\n",
    "Größere ``Python``-Programme schreiben wir üblicherweise in eine simplen Textdatei.\n",
    "\n",
    "Die ``Python``-Zellen eines Notebooks bilden ein ``Python``-Programm.\n",
    "Dabei spielt die Reihenfolge wie Sie die Zellen ausführen eine Rolle.\n",
    "\n",
    "Blicken Sie auf folgendes Beispiel, bestehend aus 4 Zellen.\n",
    "Nehmen wir nun an, wir werten Zelle 1 dann 4 dann 3 und dann 2 aus.\n",
    "Welchen Wert hat dann die Variable ``x``?"
   ]
  },
  {
   "cell_type": "code",
   "execution_count": 36,
   "id": "f05206a9",
   "metadata": {},
   "outputs": [],
   "source": [
    "y = -3      # Zelle 1"
   ]
  },
  {
   "cell_type": "code",
   "execution_count": 37,
   "id": "147ec8fe",
   "metadata": {},
   "outputs": [],
   "source": [
    "x = z + y   # Zelle 2"
   ]
  },
  {
   "cell_type": "code",
   "execution_count": 38,
   "id": "d90423ad",
   "metadata": {},
   "outputs": [],
   "source": [
    "z = 5       # Zelle 3"
   ]
  },
  {
   "cell_type": "code",
   "execution_count": 39,
   "id": "701c072b",
   "metadata": {},
   "outputs": [],
   "source": [
    "y = 20      # Zelle 4"
   ]
  },
  {
   "cell_type": "markdown",
   "id": "97def755",
   "metadata": {},
   "source": [
    "Wir erhalten das gleiche Ergebnis indem wir den Zelleninhalt in dieser Reihenfolge in eine Zelle kopieren:"
   ]
  },
  {
   "cell_type": "code",
   "execution_count": 40,
   "id": "ab13d4c7",
   "metadata": {},
   "outputs": [
    {
     "name": "stdout",
     "output_type": "stream",
     "text": [
      "25\n"
     ]
    }
   ],
   "source": [
    "y = -3      # Zelle 1\n",
    "y = 20      # Zelle 4\n",
    "z = 5       # Zelle 3\n",
    "x = z + y   # Zelle 2\n",
    "print(x)"
   ]
  },
  {
   "cell_type": "markdown",
   "id": "d9b0d814",
   "metadata": {},
   "source": [
    "Demnach ist ``x = 5 + 20`` und ``y = 20``. Führen wir daraufhin Zelle 1 dananch 2 aus, erhalten wir für ``x``: ``x = 5 + (-3) = 2``"
   ]
  },
  {
   "cell_type": "code",
   "execution_count": 41,
   "id": "3888ea08",
   "metadata": {},
   "outputs": [
    {
     "name": "stdout",
     "output_type": "stream",
     "text": [
      "2\n"
     ]
    }
   ],
   "source": [
    "y = -3      # Zelle 1\n",
    "y = 20      # Zelle 4\n",
    "z = 5       # Zelle 3\n",
    "x = z + y   # Zelle 2\n",
    "y = -3      # Zelle 1\n",
    "x = z + y   # Zelle 2\n",
    "print(x)"
   ]
  },
  {
   "cell_type": "markdown",
   "id": "7199eca8",
   "metadata": {},
   "source": [
    "**Füllen Sie Ihr Notebook immer so, sodass es das erwartete Ergebnis liefert wenn es von oben nach unten ausgeführt wird!**"
   ]
  },
  {
   "cell_type": "markdown",
   "id": "c7c04f05",
   "metadata": {},
   "source": [
    "Es kann passieren, dass Sie Ihr Notebook manuell terminieren müssen, z.B. wenn Sie versehentlich eine sog. Endlosschleife programmiert haben.\n",
    "Die Terminierung hat den gleichen Effekt wie wenn es zu einem Fehler gekommen wäre.\n",
    "Der Code wird bis zur Terminierung ausgeführt."
   ]
  },
  {
   "cell_type": "markdown",
   "id": "3e767c98",
   "metadata": {},
   "source": [
    "***\n",
    "***Aufgabe 1.6*** Werten Sie folgende Zelle aus. Terminieren Sie die Ausführung nach einer kurzen Zeit. Lassen Sie sich die Variable ``k`` ausgeben. Ersetzen Sie anschließend die Zeile\n",
    "\n",
    "```python\n",
    "while True:\n",
    "```\n",
    "\n",
    "durch \n",
    "\n",
    "```python\n",
    "while k < 10:\n",
    "```\n",
    "\n",
    "Führen Sie die Zelle erneut aus und prüfen Sie den Wert von ``k``."
   ]
  },
  {
   "cell_type": "code",
   "execution_count": 42,
   "id": "afb8751f",
   "metadata": {},
   "outputs": [
    {
     "ename": "KeyboardInterrupt",
     "evalue": "",
     "output_type": "error",
     "traceback": [
      "\u001b[0;31m---------------------------------------------------------------------------\u001b[0m",
      "\u001b[0;31mKeyboardInterrupt\u001b[0m                         Traceback (most recent call last)",
      "Input \u001b[0;32mIn [42]\u001b[0m, in \u001b[0;36m<cell line: 2>\u001b[0;34m()\u001b[0m\n\u001b[1;32m      1\u001b[0m k \u001b[38;5;241m=\u001b[39m \u001b[38;5;241m1\u001b[39m\n\u001b[0;32m----> 2\u001b[0m \u001b[38;5;28;01mwhile\u001b[39;00m \u001b[38;5;28;01mTrue\u001b[39;00m:\n\u001b[1;32m      3\u001b[0m     k \u001b[38;5;241m=\u001b[39m k \u001b[38;5;241m+\u001b[39m \u001b[38;5;241m1\u001b[39m\n",
      "\u001b[0;31mKeyboardInterrupt\u001b[0m: "
     ]
    }
   ],
   "source": [
    "k = 1\n",
    "while k < 10:\n",
    "    k = k + 1"
   ]
  },
  {
   "cell_type": "code",
   "execution_count": 43,
   "id": "6944c32d",
   "metadata": {},
   "outputs": [
    {
     "name": "stdout",
     "output_type": "stream",
     "text": [
      "169793181\n"
     ]
    }
   ],
   "source": [
    "print(k)"
   ]
  },
  {
   "cell_type": "markdown",
   "id": "9caf6508",
   "metadata": {},
   "source": [
    "***Aufgabe 1.7*** Wandeln Sie folgende Zellen in eine einzige Zelle um indem Sie deren Zelleninhalt in eine Zelle verschieben, sodass nach der Ausführung ``x`` den Wert ``42`` hat."
   ]
  },
  {
   "cell_type": "code",
   "execution_count": 44,
   "id": "61dd89a3",
   "metadata": {},
   "outputs": [],
   "source": [
    "x = x - y * 2"
   ]
  },
  {
   "cell_type": "code",
   "execution_count": 45,
   "id": "284d0121",
   "metadata": {},
   "outputs": [],
   "source": [
    "x = 0"
   ]
  },
  {
   "cell_type": "code",
   "execution_count": 46,
   "id": "a5c61a4f",
   "metadata": {},
   "outputs": [],
   "source": [
    "y = 2"
   ]
  },
  {
   "cell_type": "code",
   "execution_count": 47,
   "id": "e4c51d7c",
   "metadata": {},
   "outputs": [],
   "source": [
    "x = y * 2"
   ]
  },
  {
   "cell_type": "code",
   "execution_count": 48,
   "id": "05736650",
   "metadata": {},
   "outputs": [],
   "source": [
    "x = x + 6"
   ]
  },
  {
   "cell_type": "code",
   "execution_count": 49,
   "id": "5a0d2634",
   "metadata": {},
   "outputs": [],
   "source": [
    "y = 20"
   ]
  },
  {
   "cell_type": "code",
   "execution_count": 50,
   "id": "d9f180c3",
   "metadata": {
    "tags": [
     "otter_assign_solution_cell"
    ]
   },
   "outputs": [
    {
     "name": "stdout",
     "output_type": "stream",
     "text": [
      "42\n"
     ]
    }
   ],
   "source": [
    "# BEGIN SOLUTION\n",
    "x = 0\n",
    "y = 20\n",
    "x = y * 2\n",
    "x = x + 6\n",
    "y = 2\n",
    "x = x - y * 2\n",
    "print(x)\n",
    "# END SOLUTION"
   ]
  },
  {
   "cell_type": "code",
   "execution_count": null,
   "id": "47839145",
   "metadata": {
    "deletable": false,
    "editable": false
   },
   "outputs": [],
   "source": [
    "grader.check(\"q7\")"
   ]
  },
  {
   "cell_type": "markdown",
   "id": "734bde46",
   "metadata": {},
   "source": [
    "Notebooks sind besonders hilfreich im Bereich der *Datenvisualisierung*, da Graphen (Plots) direkt im Notebook angezeigt werden können.\n",
    "\n",
    "Im Folgenden sehen Sie ein Beispiel eines Plots der Sinusfunktion.\n",
    "Zunächst erzeugen wir ein sog. Array aus $n = 200$ Zahlen die alle zwischen $0$ und $2 \\pi$ liegen. \n",
    "Genauer gesagt erzeugen wir Werte $x_0, x_1, x_2, \\ldots, x_{n-1}$ mit \n",
    "\n",
    "$$x_i = \\frac{2 \\cdot \\pi \\cdot i }{n-1}.$$\n",
    "\n",
    "Dann generieren wir ein zweites Array bestehend aus Werten $y_0, y_1, y_2, \\ldots, y_{n-1}$ mit\n",
    "\n",
    "$$y_i = \\sin(x_i).$$\n",
    "\n",
    "Am Ende Zeichnen wir Linien, die durch die Punkte $(x_0, y_0), (x_1, y_1), \\ldots, (x_{n-1}, y_{n-1})$ gehen.\n",
    "\n",
    "**Hinweis**: Für die Ausführung des Code benötigen Sie die Pakete ``numpy`` und ``matplotlib``. Diese können Sie auf Ihrem System mit\n",
    "\n",
    "```\n",
    "conda install numpy\n",
    "conda install matplotlib\n",
    "```\n",
    "\n",
    "oder \n",
    "\n",
    "```\n",
    "pip install numpy\n",
    "pip install matplotlib\n",
    "```\n",
    "\n",
    "installieren."
   ]
  },
  {
   "cell_type": "code",
   "execution_count": 55,
   "id": "33fc9a1d",
   "metadata": {},
   "outputs": [],
   "source": [
    "import numpy as np\n",
    "import matplotlib.pyplot as plt"
   ]
  },
  {
   "cell_type": "code",
   "execution_count": 62,
   "id": "b9abba52",
   "metadata": {},
   "outputs": [
    {
     "data": {
      "text/plain": [
       "[<matplotlib.lines.Line2D at 0x10fa21930>]"
      ]
     },
     "execution_count": 62,
     "metadata": {},
     "output_type": "execute_result"
    },
    {
     "data": {
      "image/png": "[encoded data removed]",
      "text/plain": [
       "<Figure size 640x480 with 1 Axes>"
      ]
     },
     "metadata": {},
     "output_type": "display_data"
    }
   ],
   "source": [
    "n = 200\n",
    "X = np.linspace(0, 2*np.pi, n)\n",
    "Y = np.sin(X)\n",
    "plt.plot(X, Y)"
   ]
  },
  {
   "cell_type": "markdown",
   "id": "771b900c",
   "metadata": {},
   "source": [
    "***\n",
    "***Aufgabe 1.8*** Spielen Sie mit dem Code herum. Verändern Sie z.B. den Wert der Variablen ``n`` oder Plotten Sie anstatt des Sinus den Kosinus."
   ]
  },
  {
   "cell_type": "markdown",
   "id": "cdca607f",
   "metadata": {},
   "source": [
    "## Interpretation"
   ]
  },
  {
   "cell_type": "markdown",
   "id": "7bbd59cc",
   "metadata": {},
   "source": [
    "***Aufgabe 1.9*** In der Vorlesung haben wir Karten sortiert. Wir haben also eine Sammlung von mehreren Dingen sortiert. In ``Python`` gibt es sogenannte Listen. Folgender Code erzeugt eine Liste, welche die Zahlen 1 bis 12 enthält"
   ]
  },
  {
   "cell_type": "code",
   "execution_count": 54,
   "id": "3b19b1bb",
   "metadata": {},
   "outputs": [
    {
     "data": {
      "text/plain": [
       "[1, 2, 3, 4, 5, 6, 7, 8, 9, 10, 11, 12]"
      ]
     },
     "execution_count": 54,
     "metadata": {},
     "output_type": "execute_result"
    }
   ],
   "source": [
    "numbers = [1, 2, 3, 4, 5, 6, 7, 8, 9, 10, 11, 12]\n",
    "numbers"
   ]
  },
  {
   "cell_type": "markdown",
   "id": "64bec4c5",
   "metadata": {},
   "source": [
    "Wie könnten wir damit unser Kartenset repräsentieren?"
   ]
  },
  {
   "cell_type": "markdown",
   "id": "fb26ef56",
   "metadata": {},
   "source": [
    "_Type your answer here, replacing this text._"
   ]
  },
  {
   "cell_type": "markdown",
   "id": "5083fa7b",
   "metadata": {
    "tags": [
     "otter_assign_solution_cell"
    ]
   },
   "source": [
    "Jeder Karte können wir als Zahl repräsentieren, sodass die Wertigkeit der Karte gleich der Zahl ist. Ein Kartenset wird dann durch eine Liste aus den entsprechenden Zahlen repräsentiert."
   ]
  },
  {
   "cell_type": "markdown",
   "id": "ecb57f47",
   "metadata": {},
   "source": [
    "***Aufgabe 1.10*** Wir konstruieren ein neues (unäres) Dot-Zahlensystem, was aus positiven ganzen Zahlen besteht. Jede Zahl wird aus einer Folge des Zeichens ``'.'`` gebildet. \n",
    "\n",
    "+ 5 wird beispielsweise durch ``.....``, \n",
    "+ 3 durch ``...`` und \n",
    "+ 0 durch ``''`` \n",
    "\n",
    "repräsentiert. In anderen Worten, eine Zahl $n$ wird durch $n$-Punkte (Dots) repräsentiert. Folgende Funktionen helfen uns dabei mit unserem Zahlensystem zu rechnen. Sie bilden einen Kontext."
   ]
  },
  {
   "cell_type": "code",
   "execution_count": null,
   "id": "085b8f0f",
   "metadata": {},
   "outputs": [],
   "source": [
    "def add(a, b):\n",
    "    return a+b\n",
    "\n",
    "def sub(a, b):\n",
    "    return a[0:max(0, len(a)-len(b))]\n",
    "\n",
    "def div(a, b):\n",
    "    return to_dots(int(len(a) / len(b)))\n",
    "\n",
    "def mul(a, b):\n",
    "    return a * len(b)\n",
    "\n",
    "def to_dots(number):\n",
    "    return '.'*number\n",
    "\n",
    "def to_number(dots):\n",
    "    return len(dots)"
   ]
  },
  {
   "cell_type": "markdown",
   "id": "365128c1",
   "metadata": {},
   "source": [
    "Rufen Sie die Funktionen auf und finden Sie heraus was die einzelnen Funktionen im Kontext unseres Zahlensystems machen.\n",
    "\n",
    "Beispielsweise können Sie die Funktion ``add`` (Addieren) durch folgenden Ausdruch aufrufen:"
   ]
  },
  {
   "cell_type": "code",
   "execution_count": 86,
   "id": "7e89a560",
   "metadata": {},
   "outputs": [
    {
     "data": {
      "text/plain": [
       "'.....'"
      ]
     },
     "execution_count": 86,
     "metadata": {},
     "output_type": "execute_result"
    }
   ],
   "source": [
    "add('..', '...')"
   ]
  },
  {
   "cell_type": "markdown",
   "id": "44b2e495",
   "metadata": {},
   "source": [
    "_Type your answer here, replacing this text._"
   ]
  },
  {
   "cell_type": "markdown",
   "id": "27feee6c",
   "metadata": {
    "tags": [
     "otter_assign_solution_cell"
    ]
   },
   "source": [
    "``add`` steht für die Addition, ``sub`` für die Subtraktion, ``div`` für die Division, ``mul`` für die Multiplikation, ``to_dots`` wandelt eine Dezimalzahl in das Dot-Zahlensystem um und ``to_number`` wandelt eine Zahl im Dot-System in eine Dezimalzahl um."
   ]
  },
  {
   "cell_type": "markdown",
   "id": "93afe2fb",
   "metadata": {},
   "source": [
    "***Aufgabe 1.11*** Berechnen Sie ``dots = ((5 + 8 - 4 * 2) + 1) / 3``, verwenden Sie dabei jedoch nur die Funktionen von oben und das Zeichen ``'.'``. ``dots`` soll aus ``'.'`` bestehen."
   ]
  },
  {
   "cell_type": "code",
   "execution_count": 115,
   "id": "3ac00092",
   "metadata": {
    "tags": [
     "otter_assign_solution_cell"
    ]
   },
   "outputs": [],
   "source": [
    "dots = div(add(sub(add('.....', '........'), mul('....', '..')), '.'), '...') # SOLUTION"
   ]
  },
  {
   "cell_type": "code",
   "execution_count": null,
   "id": "f29aadc9",
   "metadata": {
    "deletable": false,
    "editable": false
   },
   "outputs": [],
   "source": [
    "grader.check(\"q11\")"
   ]
  },
  {
   "cell_type": "markdown",
   "id": "76caa0b7",
   "metadata": {},
   "source": [
    "***Aufgabe 1.12*** Warum glauben Sie ist dieses Dot-System nicht sonderlich praktikabel?"
   ]
  },
  {
   "cell_type": "markdown",
   "id": "c3bc9fec",
   "metadata": {},
   "source": [
    "_Type your answer here, replacing this text._"
   ]
  },
  {
   "cell_type": "markdown",
   "id": "fd6870fa",
   "metadata": {
    "tags": [
     "otter_assign_solution_cell"
    ]
   },
   "source": [
    "Die Darstellung von Zahlen im Dot-System ist nicht kompakt.\n",
    "Für die Zahl $n$ brauchen wir $n$ Zeichen.\n",
    "Dies treibt den Speicherverbrauch in die Höhe."
   ]
  },
  {
   "cell_type": "markdown",
   "id": "275fc430",
   "metadata": {
    "deletable": false,
    "editable": false
   },
   "source": [
    "---\n",
    "\n",
    "To double-check your work, the cell below will rerun all of the autograder tests."
   ]
  },
  {
   "cell_type": "code",
   "execution_count": null,
   "id": "b73c7244",
   "metadata": {
    "deletable": false,
    "editable": false
   },
   "outputs": [],
   "source": [
    "grader.check_all()"
   ]
  },
  {
   "cell_type": "markdown",
   "id": "ef811859",
   "metadata": {
    "deletable": false,
    "editable": false
   },
   "source": [
    "## Submission\n",
    "\n",
    "Make sure you have run all cells in your notebook in order before running the cell below, so that all images/graphs appear in the output. The cell below will generate a zip file for you to submit.\n",
    "\n",
    "Dieses Notebook ist zur reinen Übung gedacht und muss nicht abgegeben werden. Wir raten Ihnen eindringlich alle Aufgaben zu lösen!"
   ]
  },
  {
   "cell_type": "code",
   "execution_count": null,
   "id": "a6e9882f",
   "metadata": {
    "deletable": false,
    "editable": false
   },
   "outputs": [],
   "source": [
    "grader.export(force_save=True, run_tests=True)"
   ]
  },
  {
   "cell_type": "markdown",
   "id": "a8571296",
   "metadata": {},
   "source": [
    " "
   ]
  }
 ],
 "metadata": {
  "kernelspec": {
   "display_name": "Python 3 (ipykernel)",
   "language": "python",
   "name": "python3"
  },
  "language_info": {
   "codemirror_mode": {
    "name": "ipython",
    "version": 3
   },
   "file_extension": ".py",
   "mimetype": "text/x-python",
   "name": "python",
   "nbconvert_exporter": "python",
   "pygments_lexer": "ipython3",
   "version": "3.10.4"
  },
  "otter": {
   "OK_FORMAT": false,
   "assignment_name": "training01",
   "tests": {
    "q1": "from otter.test_files import test_case\n\nOK_FORMAT = False\n\nname = \"q1\"\npoints = None\n\n@test_case(points=None, hidden=False, \n    success_message=\"Richtig!\")\ndef test_var_number(number):\n    expected = 42\n    assert number == expected, \"Die Variable number muss den Wert 42 enthalten.\"\n    \n",
    "q11": "from otter.test_files import test_case\n\nOK_FORMAT = False\n\nname = \"q11\"\npoints = None\n\n@test_case(points=None, hidden=False, \n    success_message=\"Exzellent! Das war keine so einfache Aufgabe!\")\ndef test_var_dots(dots):\n    expected = '..'\n    assert len(dots) == dots.count('.'), \"dots ist nicht im Dot-Format!\"\n    assert len(dots) <= len(expected), \"Zu viele dots!\"\n    assert len(dots) >= len(expected), \"Zu wenig dots!\"\n    assert dots == expected, \"Die Variable dots hat nicht den korrekten Wert!\"\n    \n",
    "q4": "from otter.test_files import test_case\n\nOK_FORMAT = False\n\nname = \"q4\"\npoints = None\n\n@test_case(points=None, hidden=False, \n    success_message=\"Richtig!\")\ndef test_var_total_secs(total_secs):\n    expected = 220752000\n    assert total_secs == expected, \"Die Variable total_secs hat nicht den korrekten Wert.\"\n    \n",
    "q7": "from otter.test_files import test_case\n\nOK_FORMAT = False\n\nname = \"q7\"\npoints = None\n\n@test_case(points=None, hidden=False, \n    success_message=\"Richtig!\")\ndef test_var_x(x):\n    expected = 42\n    assert x == expected, \"Die Variable x hat nicht den korrekten Wert.\"\n    \n"
   }
  },
  "vscode": {
   "interpreter": {
    "hash": "aee8b7b246df8f9039afb4144a1f6fd8d2ca17a180786b69acc140d282b71a49"
   }
  }
 },
 "nbformat": 4,
 "nbformat_minor": 5
}

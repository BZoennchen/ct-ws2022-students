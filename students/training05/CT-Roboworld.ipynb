{
 "cells": [
  {
   "cell_type": "markdown",
   "metadata": {},
   "source": [
    "# Roboworld\n",
    "\n",
    "In diesem Notebook lassen navigieren wir einen fiktiven Roboter durch eine (Gitter-)Welt.\n",
    "Schwerpunkt dieser Übung ist es die [4 Techniken des *Computational Thinkings*](https://bzoennchen.github.io/ct-book/chapters/01-2/what-is-ct.html)\n",
    "\n",
    "1. **Abstraktion nutzen**\n",
    "2. **Dekomposition**\n",
    "3. **Muster erkennen**\n",
    "4. **Algorithmen entwerfen**\n",
    "\n",
    "spielerische zu erlernen.\n",
    "\n",
    "Bezüglich der Programmiermittel benötigen Sie: Die [Grundlagen](https://bzoennchen.github.io/ct-book/chapters/03-3/intro.html), Kontrollstrukturen ([Schleifen](https://bzoennchen.github.io/ct-book/chapters/03-7/2-loops.html), [Fallunterscheidungen](https://bzoennchen.github.io/ct-book/chapters/03-7/1-cases.html#sec-cases)), [Funktionen](https://bzoennchen.github.io/ct-book/chapters/03-6/intro.html), die Nutzung eines fremden Pakets ``roboworld`` (Funktionsaufrufe, Lesen und Verstehen der Doku).\n",
    "\n",
    "Sie benötigen folgende Pakete, welche auf dem Datahub bereits vorinstalliert sind.\n",
    "\n",
    "+ ``otter-grader``\n",
    "+ ``roboworld``\n",
    "\n",
    "Wenn dies notwendig ist, installieren Sie diese mit:\n",
    "\n",
    "```\n",
    "conda install [paketname]\n",
    "```\n",
    "\n",
    "oder\n",
    "\n",
    "```\n",
    "pip install [paketname]\n",
    "```"
   ]
  },
  {
   "cell_type": "code",
   "execution_count": null,
   "metadata": {},
   "outputs": [],
   "source": [
    "import otter\n",
    "grader = otter.Notebook('CT-Roboworld.ipynb')"
   ]
  },
  {
   "cell_type": "markdown",
   "metadata": {},
   "source": [
    "## 1. Einleitung\n",
    "\n",
    "Roboter dienen uns heute in vielen Bereichen als Helfer und Assistenten.\n",
    "Sie fertigen Autos und andere große Maschinen an, spielen gegeneinander Fußball und interagieren mit uns Menschen auf direktem Weg.\n",
    "Roboter können dort eingesetzt werden, wo es für den Menschen zu gefährlich wird.\n",
    "Zum Beispiel, hatte man versucht durch einen Roboter die Lage am Kernreaktor von Chernobyl besser zu analysieren.\n",
    "Ein weiteres Beispiel ist die Entschärfung von Sprengstoff oder das Auffinden von Überlebenden, welche unter Gebäuden begraben wurden.\n",
    "\n",
    "Wir werden heute einen Roboter durch eine zweidimensionale Welt bewegen.\n",
    "Um die Welt und ihren Roboter anzuzeigen benötigen Sie das Modul ``roboworld``."
   ]
  },
  {
   "cell_type": "code",
   "execution_count": null,
   "metadata": {},
   "outputs": [],
   "source": [
    "import roboworld as rw\n",
    "import random as rnd"
   ]
  },
  {
   "cell_type": "markdown",
   "metadata": {},
   "source": [
    "Dieser Befehl sorgt dafür, dass das *Modul* ``roboworld`` in unser Notebook importiert (eingefügt) wird. Um nicht immer den langen Namen ``roboworld`` tippen zu müssen, wählen wir die Abkürzung ``rw``. \n",
    "\n",
    "Lassen Sie uns eine Roboterwelt mit 5 Zeilen ``nrows`` und 9 Spalten ``ncols`` erzeugen:"
   ]
  },
  {
   "cell_type": "code",
   "execution_count": null,
   "metadata": {},
   "outputs": [],
   "source": [
    "world = rw.new_world(nrows = 5, ncols = 9)"
   ]
  },
  {
   "cell_type": "markdown",
   "metadata": {},
   "source": [
    "Der Befehl \n",
    "\n",
    "```python\n",
    "rw.new_world(nrows = 5, ncols = 9)\n",
    "``` \n",
    "\n",
    "erzeugt eine Robowelt mit ``nrows`` Zeilen und ``ncols`` Spalten, indem wir die *Funktion* ``new_world`` des Pakets ``rowobworld``, was wir mit einem Alias names ``rw`` versehen haben, aufrufen. Mit der *Zuweisung*\n",
    "\n",
    "```python\n",
    "world = rw.new_world(nrows = 5, ncols = 9)\n",
    "```\n",
    "\n",
    "weisen wir diese Welt der *Variablen* ``world`` (rechter Teil) zu.\n",
    "Wir können unsere Welt auch ausgeben."
   ]
  },
  {
   "cell_type": "code",
   "execution_count": null,
   "metadata": {},
   "outputs": [],
   "source": [
    "print(world)"
   ]
  },
  {
   "cell_type": "markdown",
   "metadata": {},
   "source": [
    "oder anzeigen:"
   ]
  },
  {
   "cell_type": "code",
   "execution_count": null,
   "metadata": {},
   "outputs": [],
   "source": [
    "world.show()"
   ]
  },
  {
   "cell_type": "markdown",
   "metadata": {},
   "source": [
    "***\n",
    "***Aufgabe 1 (Dokumentation lesen).*** \n",
    "\n",
    "Lesen Sie sich in der [Dokumentation](https://robo-world-doc.readthedocs.io/en/latest/index.html) des Pakets ``roboworld`` den Abschnitt **[The roboworld Universe](https://robo-world-doc.readthedocs.io/en/latest/roboworld.html)** durch um sich klar zu machen wie die Welt des Roboters aussieht und was der Roboter für eine Funktionalität besitzt.\n",
    "Für das Notebook werden Sie womöglich immer wieder auf die Dokumentation zurückgreifen müssen."
   ]
  },
  {
   "cell_type": "markdown",
   "metadata": {},
   "source": [
    "***Aufgabe 2 (Robowelt erzeugen).*** \n",
    "\n",
    "Erzeugen Sie eine Welt ``world`` mit einer Zeile und zehn Spalten."
   ]
  },
  {
   "cell_type": "code",
   "execution_count": null,
   "metadata": {
    "tags": []
   },
   "outputs": [],
   "source": [
    "simple_corridor = ...\n",
    "simple_corridor.show()"
   ]
  },
  {
   "cell_type": "code",
   "execution_count": null,
   "metadata": {
    "deletable": false,
    "editable": false
   },
   "outputs": [],
   "source": [
    "grader.check(\"q2\")"
   ]
  },
  {
   "cell_type": "markdown",
   "metadata": {},
   "source": [
    "Soweit so gut. Wir haben also eine Welt ``world`` und in dieser befindet sich unser Roboter.\n",
    "Wie können wir unseren Roboter nun steuern?\n",
    "Wir müssen der Welt sagen, sie solle uns doch bitte den Roboter geben.\n",
    "\n",
    "Wir können daraufhin mit ``help(robo)`` herausfinden was der Roboter denn so kann."
   ]
  },
  {
   "cell_type": "code",
   "execution_count": null,
   "metadata": {},
   "outputs": [],
   "source": [
    "robo = world.get_robo()\n",
    "help(robo)"
   ]
  },
  {
   "cell_type": "markdown",
   "metadata": {},
   "source": [
    "***\n",
    "***Aufgabe 3 (Roboter bewegen I).*** \n",
    "\n",
    "Testen Sie was die Methode ``move`` des Roboters tut, rufen Sie sie dazu mit ``robo.move()`` auf.\n",
    "Lassen Sie sich davor und danach die Welt anzeigen oder ausgeben."
   ]
  },
  {
   "cell_type": "code",
   "execution_count": null,
   "metadata": {
    "tags": []
   },
   "outputs": [],
   "source": [
    "world = rw.new_world(nrows = 5, ncols = 5)\n",
    "robo = world.get_robo()\n",
    "world.show()"
   ]
  },
  {
   "cell_type": "code",
   "execution_count": null,
   "metadata": {
    "tags": []
   },
   "outputs": [],
   "source": [
    "...\n",
    "world.show()"
   ]
  },
  {
   "cell_type": "markdown",
   "metadata": {},
   "source": [
    "***Aufgabe 4 (Roboter bewegen II).*** \n",
    "\n",
    "Bewegen Sie Ihren Roboter ``robo`` (blau) auf das Ziel (lila) in Ihrer Welt ``corridor``.\n",
    "Gehen Sie davon aus, dass der Roboter bzw. Sie wissen wo das Ziel ist.\n",
    "Nach der Erstellung der Welt ist der Roboter nach **Norden** ausgerichtet.\n",
    "\n",
    "**Hinweis:** Mit der Funktion ``animate(world)`` des Pakets ``roboworld``, können Sie sich eine Animation Ihrer Lösung ansehen."
   ]
  },
  {
   "cell_type": "code",
   "execution_count": null,
   "metadata": {},
   "outputs": [],
   "source": [
    "corridor = rw.new_world(nrows = 1, ncols = 10, robo_position=[0,0], goal_position=[0, 5])\n",
    "corridor.show()"
   ]
  },
  {
   "cell_type": "code",
   "execution_count": null,
   "metadata": {
    "tags": []
   },
   "outputs": [],
   "source": [
    "corridor = rw.new_world(nrows = 1, ncols = 10, robo_position=[0,0], goal_position=[0, 5])\n",
    "robo = corridor.get_robo()\n",
    "\n",
    "...\n",
    "\n",
    "rw.animate(corridor)"
   ]
  },
  {
   "cell_type": "code",
   "execution_count": null,
   "metadata": {
    "deletable": false,
    "editable": false
   },
   "outputs": [],
   "source": [
    "grader.check(\"q4\")"
   ]
  },
  {
   "cell_type": "markdown",
   "metadata": {},
   "source": [
    "***Aufgabe 5 (Blätter aufheben).*** \n",
    "\n",
    "Bewegen Sie Ihren Roboter ``robo`` (blau) auf das Ziel (lila) in Ihrer Welt ``leaf_corridor``.\n",
    "Heben Sie dabei alle Blätter (grün) auf!\n",
    "``robo`` kann unendlich viele Blätter tragen und diese aufnehmen bzw. ablegen wenn er auf einem Blatt (grün) drauf steht.\n",
    "``robo`` ist noch **Osten** ausgerichtet."
   ]
  },
  {
   "cell_type": "code",
   "execution_count": null,
   "metadata": {},
   "outputs": [],
   "source": [
    "leaf_corridor = rw.leaf_corridor()\n",
    "leaf_corridor.show()"
   ]
  },
  {
   "cell_type": "code",
   "execution_count": null,
   "metadata": {
    "tags": []
   },
   "outputs": [],
   "source": [
    "leaf_corridor = rw.leaf_corridor()\n",
    "robo = leaf_corridor.get_robo()\n",
    "\n",
    "...\n",
    "\n",
    "rw.animate(leaf_corridor)"
   ]
  },
  {
   "cell_type": "code",
   "execution_count": null,
   "metadata": {
    "deletable": false,
    "editable": false
   },
   "outputs": [],
   "source": [
    "grader.check(\"q5\")"
   ]
  },
  {
   "cell_type": "markdown",
   "metadata": {},
   "source": [
    "***Aufgabe 6 (Roboter nach rechts drehen).***\n",
    "\n",
    "Definieren Sie eine Funktion ``turn_right(robo)`` mit dem Argument ``robo`` was Ihr Roboter ist."
   ]
  },
  {
   "cell_type": "code",
   "execution_count": null,
   "metadata": {
    "tags": []
   },
   "outputs": [],
   "source": [
    "def turn_right(robo):\n",
    "    ..."
   ]
  },
  {
   "cell_type": "code",
   "execution_count": null,
   "metadata": {
    "deletable": false,
    "editable": false
   },
   "outputs": [],
   "source": [
    "grader.check(\"q6\")"
   ]
  },
  {
   "cell_type": "markdown",
   "metadata": {},
   "source": [
    "***Aufgabe 7 (Steiniger Korridor).*** \n",
    "\n",
    "Schreiben Sie eine Funktion ``walk_stony_corridor(robo)`` die ``robo`` (blau) auf das Ziel (lila) in seiner Welt ``stone_corridor`` bewegt.\n",
    "Sie müssen dabei die Steine (orange) aus dem Weg räumen.\n",
    "``robo`` kann nur einen Stein tragen und kann diesen nur vor sich aufheben bzw. ablegen.\n",
    "Sie **müssen** davon ausgehen, dass sie nicht wissen:\n",
    "\n",
    "+ wie viel Steine es auf dem Korridor gibt,\n",
    "+ wo sich diese Steine befinden,\n",
    "+ und wie lang ihr Korridor ist\n",
    "\n",
    "``robo`` ist noch **Osten** ausgerichtet und der Lauf bis zum Ziel (lila) ist möglich. Das Ziel befindet sich am Ende des Korridors.\n",
    "\n",
    "**Tipp:** Schauen Sie in die [Doku](https://robo-world-doc.readthedocs.io/en/latest/roboworld.html#robo) von ``roboworld`` um die richtigen Funktionen von ``robo`` zu finden."
   ]
  },
  {
   "cell_type": "code",
   "execution_count": null,
   "metadata": {},
   "outputs": [],
   "source": [
    "# Example stony corridor\n",
    "stone_corridor = rw.corridor(length=rnd.randint(10,15), random_headway=False, nstones=rnd.randint(3,5))\n",
    "stone_corridor.show()"
   ]
  },
  {
   "cell_type": "code",
   "execution_count": null,
   "metadata": {
    "tags": []
   },
   "outputs": [],
   "source": [
    "stone_corridor = rw.corridor(length=rnd.randint(10,15), random_headway=False, nstones=rnd.randint(3,5))\n",
    "robo = stone_corridor.get_robo()\n",
    "\n",
    "#robo.disable_print() # use this to disable the printing of robo's actions\n",
    "#stone_corridor.disable_animation() # use this to disable the animation of the world (speeds up computation)\n",
    "\n",
    "def walk_stony_corridor(robo):\n",
    "    ...\n",
    "\n",
    "walk_stony_corridor(robo)\n",
    "rw.animate(stone_corridor)"
   ]
  },
  {
   "cell_type": "code",
   "execution_count": null,
   "metadata": {
    "deletable": false,
    "editable": false
   },
   "outputs": [],
   "source": [
    "grader.check(\"q7\")"
   ]
  },
  {
   "cell_type": "markdown",
   "metadata": {},
   "source": [
    "***Aufgabe 8 (Slalomrunner).***\n",
    "\n",
    "Schreiben Sie eine Funktion ``walk_maze(robo)``, die ``robo`` durch das Labyrinth ``rw.maze()`` bewegt. Verwenden Sie \n",
    "\n",
    "+ ``robo.turn_left()``, \n",
    "+ ``robo.move()``\n",
    "+ ``robo.is_wall_in_front()``\n",
    "+ und Ihre Funktion ``turn_right(robo)``.\n",
    "  \n",
    "Ihr Roboter ist nach Norden ausgerichtet.\n",
    "Verwenden Sie geeignete Kontrollstrukturen.\n",
    "\n",
    "**Hinweis:** Sie können die Ausgabe mit ``robo.disable_print()`` deaktivieren."
   ]
  },
  {
   "cell_type": "code",
   "execution_count": null,
   "metadata": {},
   "outputs": [],
   "source": [
    "maze = rw.maze()\n",
    "maze.show(scale=0.3)"
   ]
  },
  {
   "cell_type": "code",
   "execution_count": null,
   "metadata": {
    "tags": []
   },
   "outputs": [],
   "source": [
    "maze = rw.maze()\n",
    "robo = maze.get_robo()\n",
    "\n",
    "#robo.disable_print() # use this to disable the printing of robo's actions\n",
    "#maze.disable_animation() # use this to disable the animation of the world (speeds up computation)\n",
    "\n",
    "def walk_maze(robo):\n",
    "    ...\n",
    "    \n",
    "walk_maze(robo)\n",
    "rw.animate(maze)"
   ]
  },
  {
   "cell_type": "code",
   "execution_count": null,
   "metadata": {
    "deletable": false,
    "editable": false
   },
   "outputs": [],
   "source": [
    "grader.check(\"q8\")"
   ]
  },
  {
   "cell_type": "markdown",
   "metadata": {},
   "source": [
    "***Aufgabe 9 (Rundreise).***\n",
    "\n",
    "Schreiben Sie eine Funktion ``walk_roundtrip(robo)``, die ``robo`` durch den Rundgang ``rw.round_trip()`` bewegt.\n",
    "``robo`` soll dabei alle Blätter auf dem Weg aufheben.\n",
    "Verwenden Sie Schleifen um das das Problem zu lösen.\n",
    "Gehen Sie vielleicht sogar davon aus, dass Sie nicht genau wissen wie der Rundgang aussieht (bis auf, dass er eine Zelle breit ist).\n",
    "\n",
    "Ihr Roboter ist nach **Osten** ausgerichtet.\n",
    "Verwenden Sie geeignete Kontrollstrukturen.\n",
    "\n",
    "**Hinweis:** Sie können die Ausgabe mit ``robo.disable_print()`` deaktivieren. Wahrscheinlich laufen Sie Gefahr in eine Endlosschleife zu programmieren, indem Sie ``robo`` vor und zurück bewegen. Wie vermeiden Sie das?"
   ]
  },
  {
   "cell_type": "code",
   "execution_count": null,
   "metadata": {},
   "outputs": [],
   "source": [
    "round_trip = rw.round_trip()\n",
    "round_trip.show(scale = 0.3)"
   ]
  },
  {
   "cell_type": "code",
   "execution_count": null,
   "metadata": {
    "tags": []
   },
   "outputs": [],
   "source": [
    "round_trip = rw.round_trip()\n",
    "robo = round_trip.get_robo()\n",
    "\n",
    "#robo.disable_print() # use this to disable the printing of robo's actions\n",
    "#round_trip.disable_animation() # use this to disable the animation of the world (speeds up computation)\n",
    "\n",
    "def walk_roundtrip(robo):\n",
    "    ...\n",
    "    \n",
    "walk_roundtrip(robo)\n",
    "rw.animate(round_trip)"
   ]
  },
  {
   "cell_type": "code",
   "execution_count": null,
   "metadata": {
    "deletable": false,
    "editable": false
   },
   "outputs": [],
   "source": [
    "grader.check(\"q9\")"
   ]
  },
  {
   "cell_type": "markdown",
   "metadata": {},
   "source": [
    "## Sortieren von Blättern\n",
    "\n",
    "Betrachten Sie folgende Welt:"
   ]
  },
  {
   "cell_type": "code",
   "execution_count": null,
   "metadata": {},
   "outputs": [],
   "source": [
    "n = 8\n",
    "sorting_world = rw.sorting(n=n)\n",
    "sorting_world.show()"
   ]
  },
  {
   "cell_type": "markdown",
   "metadata": {},
   "source": [
    "Die Welt besteht aus $n$ Zeilen und jede dieser Zeilen **repräsentiert** eine Zahl zwischen $1$ und $n-1$, welche gleich der Anzahl der Blätter ist.\n",
    "Die Blätter beginnen immer ganz im **Westen** und es gibt keine Lücke zwischen den Blättern.\n",
    "Zahlen können doppelt vorkommen.\n",
    "``robo`` soll nun die Zeilen/Blätter sortieren!\n",
    "Dabei ganz im **Norden** die größte und ganz im **Süden** die kleinste Zahl stehen.\n",
    "\n",
    "![Robo und BubbleSort](./figs/bubblesort.gif)\n",
    "\n",
    "Wir werden diese schwierige Aufgabe in **Teilprobleme zerlegen**, **Abstraktion nutzen** und sich wiederholende **Muster erkennen** und dabei **Algorithmen entwickeln** die unsere Teilprobleme lösen."
   ]
  },
  {
   "cell_type": "markdown",
   "metadata": {},
   "source": [
    "***Aufgabe 10.1 (Blätter zählen).***\n",
    "\n",
    "Schreiben Sie eine Funktion ``count_leafs(robo)``, welche die Anzahl der Blätter der Zeile in der sich ``robo`` ganz im **Osten** und nach **Westen** ausgerichtet befindet, zurückliefert doch sonst nichts verändert.\n",
    "Sie müssen dafür ``robo`` bewegen doch am Ende sollte sich die Welt nicht verändert haben (**Invarianz**), d.h. alle Blätter liegen dort wo sie waren und ``robo`` steht wieder ganz im **Osten** nach **Westen** ausgerichtet."
   ]
  },
  {
   "cell_type": "code",
   "execution_count": null,
   "metadata": {
    "tags": []
   },
   "outputs": [],
   "source": [
    "n = 8\n",
    "sorting_world = rw.sorting(n=n)\n",
    "robo = sorting_world.get_robo()\n",
    "\n",
    "#robo.disable_print() # use this to disable the printing of robo's actions\n",
    "#sorting_world.disable_animation() # use this to disable the animation of the world (speeds up computation)\n",
    "\n",
    "def count_leafs(robo):\n",
    "    nleafs = 0\n",
    "    ...\n",
    "    return nleafs\n",
    "    \n",
    "print(count_leafs(robo))\n",
    "robo.move()\n",
    "print(robo.position)\n",
    "rw.animate(sorting_world)"
   ]
  },
  {
   "cell_type": "code",
   "execution_count": null,
   "metadata": {
    "deletable": false,
    "editable": false
   },
   "outputs": [],
   "source": [
    "grader.check(\"q10\")"
   ]
  },
  {
   "cell_type": "markdown",
   "metadata": {},
   "source": [
    "***Aufgabe 10.2 (Zeilen wechseln).***\n",
    "\n",
    "Schreiben Sie eine Funktion ``move_from_to(robo, src, dest)``, welche ``robo`` von Zeile ``src`` (unterste Zeile ist gleich Zeile 0) nach Zeile ``dest`` bewegt.\n",
    "Gehen Sie davon aus, dass ``robo`` nach **Westen** ausgerichtet ist und sich in Zeile ``src`` befindet und das Zeile ``src`` und ``dest`` existieren.\n",
    "So soll er am Ende auch in Zeile ``dest`` ausgerichtet sein!"
   ]
  },
  {
   "cell_type": "code",
   "execution_count": null,
   "metadata": {
    "tags": []
   },
   "outputs": [],
   "source": [
    "n = 8\n",
    "sorting_world = rw.sorting(n=n)\n",
    "robo = sorting_world.get_robo()\n",
    "\n",
    "#robo.disable_print() # use this to disable the printing of robo's actions\n",
    "#sorting_world.disable_animation() # use this to disable the animation of the world (speeds up computation)\n",
    "\n",
    "def move_from_to(robo, src, dest):\n",
    "    ...\n",
    "\n",
    "move_from_to(robo, 0, n//2)\n",
    "rw.animate(sorting_world)"
   ]
  },
  {
   "cell_type": "code",
   "execution_count": null,
   "metadata": {
    "deletable": false,
    "editable": false
   },
   "outputs": [],
   "source": [
    "grader.check(\"q11\")"
   ]
  },
  {
   "cell_type": "markdown",
   "metadata": {},
   "source": [
    "***Aufgabe 10.3 (Blätter entfernen).***\n",
    "\n",
    "Schreiben Sie eine Funktion ``remove_leafs(robo, n)``, welche ``robo`` genau ``n`` Blätter (von Osten nach Westen) in der aktuelle Zeile aufnehmen lässt.\n",
    "Gehen Sie davon aus, dass ``robo`` nach **Westen** ausgerichtet ist und sich mindestens ``n`` Blätter in der Zeile befinden.\n",
    "``robo`` soll nach der Operation wieder genauso dastehen wie zuvor!"
   ]
  },
  {
   "cell_type": "code",
   "execution_count": null,
   "metadata": {
    "tags": []
   },
   "outputs": [],
   "source": [
    "n = 8\n",
    "sorting_world = rw.sorting(n=n)\n",
    "robo = sorting_world.get_robo()\n",
    "\n",
    "#robo.disable_print() # use this to disable the printing of robo's actions\n",
    "#sorting_world.disable_animation() # use this to disable the animation of the world (speeds up computation)\n",
    "\n",
    "def remove_leafs(robo, n):\n",
    "    ...\n",
    "    \n",
    "nleafs = count_leafs(robo)\n",
    "remove_leafs(robo, nleafs-1)\n",
    "rw.animate(sorting_world)"
   ]
  },
  {
   "cell_type": "code",
   "execution_count": null,
   "metadata": {
    "deletable": false,
    "editable": false
   },
   "outputs": [],
   "source": [
    "grader.check(\"q12\")"
   ]
  },
  {
   "cell_type": "markdown",
   "metadata": {},
   "source": [
    "***Aufgabe 10.4 (Blätter hinzufügen).***\n",
    "\n",
    "Schreiben Sie eine Funktion ``add_leafs(robo, n)``, welche genau das Gegenteil von ``remove_leafs(robo, n)`` bewirkt.\n",
    "Gehen Sie davon aus, dass ``robo`` mindestens ``n`` Blätter bei sich hat und das genug Platz für die ``n`` Blätter ist."
   ]
  },
  {
   "cell_type": "code",
   "execution_count": null,
   "metadata": {
    "tags": []
   },
   "outputs": [],
   "source": [
    "n = 8\n",
    "sorting_world = rw.sorting(n=n)\n",
    "robo = sorting_world.get_robo()\n",
    "\n",
    "#robo.disable_print() # use this to disable the printing of robo's actions\n",
    "#sorting_world.disable_animation() # use this to disable the animation of the world (speeds up computation)\n",
    "\n",
    "def add_leafs(robo, n):\n",
    "    ...\n",
    "    \n",
    "nleafs = count_leafs(robo)\n",
    "remove_leafs(robo, nleafs-1)\n",
    "add_leafs(robo, nleafs-1)\n",
    "rw.animate(sorting_world)"
   ]
  },
  {
   "cell_type": "code",
   "execution_count": null,
   "metadata": {
    "deletable": false,
    "editable": false
   },
   "outputs": [],
   "source": [
    "grader.check(\"q13\")"
   ]
  },
  {
   "cell_type": "markdown",
   "metadata": {},
   "source": [
    "***Aufgabe 10.5 (Vergleich von Zeilen).***\n",
    "\n",
    "Was wir für die Sortierung noch brauchen ist eine Vergleichsoperation.\n",
    "Schreiben Sie eine Funktion ``is_larger(robo, src, dest)``, welche genau dannn ``True`` zurückliefert, wenn in Zeile ``src`` mehr Blätter als in Zeile ``dest`` liegen.\n",
    "Diese Operation sollte die Welt nicht verändern.\n",
    "\n",
    "Gehen Sie davon aus, dass ``robo`` in Zeile ``src`` ganz im **Osten** nach **Westen** ausgerichtet steht.\n"
   ]
  },
  {
   "cell_type": "code",
   "execution_count": null,
   "metadata": {
    "tags": []
   },
   "outputs": [],
   "source": [
    "n = 8\n",
    "sorting_world = rw.sorting(n=n)\n",
    "robo = sorting_world.get_robo()\n",
    "\n",
    "#robo.disable_print() # use this to disable the printing of robo's actions\n",
    "#sorting_world.disable_animation() # use this to disable the animation of the world (speeds up computation)\n",
    "\n",
    "def is_larger(robo, src, dest):\n",
    "    ...\n",
    "\n",
    "print(is_larger(robo, 0, 3))\n",
    "rw.animate(sorting_world)"
   ]
  },
  {
   "cell_type": "code",
   "execution_count": null,
   "metadata": {
    "deletable": false,
    "editable": false
   },
   "outputs": [],
   "source": [
    "grader.check(\"q14\")"
   ]
  },
  {
   "cell_type": "markdown",
   "metadata": {},
   "source": [
    "***Aufgabe 10.6 (Reihe tauschen).***\n",
    "\n",
    "Sie haben das Problem erfoglreich in kleine Teilprobleme zerlegt und diese gelöst.\n",
    "Jetzt können wir durch diese gelösten Teilprobleme ein erstes größeres Problem lösen: Das Vertauschen zweier Zeilen.\n",
    "\n",
    "Schreiben Sie eine Funktion ``swap_row(robo, src, dest)`` welche die Blätter der aktuellen Zeile ``src`` (dort wo ``robo`` steht) mit der Zeile ``dest`` vertauscht.\n",
    "Gehen Sie davon aus, dass ``robo`` in Zeile ``src`` ganz im **Osten** nach **Westen** ausgerichtet steht.\n",
    "Nach dieser Operation sollte er genauso wieder dort stehen."
   ]
  },
  {
   "cell_type": "code",
   "execution_count": null,
   "metadata": {
    "tags": []
   },
   "outputs": [],
   "source": [
    "n = 8\n",
    "sorting_world = rw.sorting(n=n)\n",
    "robo = sorting_world.get_robo()\n",
    "\n",
    "#robo.disable_print() # use this to disable the printing of robo's actions\n",
    "#sorting_world.disable_animation() # use this to disable the animation of the world (speeds up computation)\n",
    "\n",
    "def swap_row(robo, src, dest):\n",
    "    ...\n",
    "\n",
    "swap_row(robo, 0, 3)\n",
    "rw.animate(sorting_world)"
   ]
  },
  {
   "cell_type": "code",
   "execution_count": null,
   "metadata": {
    "deletable": false,
    "editable": false
   },
   "outputs": [],
   "source": [
    "grader.check(\"q15\")"
   ]
  },
  {
   "cell_type": "markdown",
   "metadata": {},
   "source": [
    "***Aufgabe 10.7 (BubbleSort mit Robo).***\n",
    "\n",
    "Wir haben nun alle Funktionalität die wir benötigen um die Welt aus Blättern durch ``robo`` zu sortieren:\n",
    "\n",
    "+ ``move_from_to(robo, src, dest)``: ``robo`` bewegt sich von Zeile ``src`` nach Zeile ``dest``. **Repräsentiert Indexierung in einer Liste** ``i = ...``\n",
    "+ ``count_leafs(robo)``: ``robo`` zählt die Blätter in Zeile seiner Zeile. **Repräsentiert lesenden Zugriff auf ein Litenelement** ``lst[i]``\n",
    "+ ``is_larger(robo, src, dest)``: Vergleicht die Anzahl der Blätter zweier Zeilen. **Repräsentiert lesenden Zugriff auf ein Litenelement** ``lst[src] > lst[dest]``\n",
    "+ ``swap_row(robo, src, dest)``: ``robo`` vertauscht Zeile ``dest`` mit Zeile ``src``. **Repräsentiert schreibenden Zugriff auf ein Listenelement** ``lst[src], lst[dest] = lst[dest], lst[src]``\n",
    "\n",
    "Schreiben Sie eine Funktion ``sort(robo, n)``, welche ``robo`` die Blätterwelt ``sorting_world``, bestehend aus ``n`` Zeilen, sortieren lässt.\n",
    "Gehen Sie davon aus, dass ``robo`` ganz rechts unten nach **Westen** ausgerichtet steht.\n",
    "Ganz im **Norden** soll die größte und ganz im **Süden** die kleinste Zahl stehen.\n",
    "Am Ende sollte ``robo`` wieder dort stehen, wo er zu anfang stand (rechts unten).\n",
    "\n",
    "\n",
    "**Tipp**: Wir empfehlen Ihnen für die Sortierung den sog. [BubbleSort-Algorithmus](https://de.wikipedia.org/wiki/Bubblesort) zu implementieren.\n",
    "Das Problem ist nur mit den Funktionen ``is_larger``, ``swap_row`` und ``move_from_to`` und zwei Schleifen lösbar.\n",
    "\n",
    "**Achtung**: Durch die Erzeugung der Animation und der aufwendigen Bewegungen von ``robo`` wird Ihr Code bereits für kleine Beispiele langsam. Testen Sie kleine Beispiele.\n"
   ]
  },
  {
   "cell_type": "markdown",
   "metadata": {},
   "source": [
    "_Type your answer here, replacing this text._"
   ]
  },
  {
   "cell_type": "code",
   "execution_count": null,
   "metadata": {
    "tags": []
   },
   "outputs": [],
   "source": [
    "n = 6\n",
    "sorting_world = rw.sorting(n=n)\n",
    "robo = sorting_world.get_robo()\n",
    "\n",
    "#robo.disable_print() # use this to disable the printing of robo's actions\n",
    "#sorting_world.disable_animation() # use this to disable the animation of the world (speeds up computation)\n",
    "\n",
    "def sort(robo, n):\n",
    "    ...\n",
    "\n",
    "sort(robo, n)\n",
    "rw.animate(sorting_world)"
   ]
  },
  {
   "cell_type": "code",
   "execution_count": null,
   "metadata": {
    "tags": []
   },
   "outputs": [],
   "source": [
    "# This can take a while!\n",
    "sorting_world.animate().save('./bubblesort.gif', writer='imagemagick', fps=60)"
   ]
  },
  {
   "cell_type": "code",
   "execution_count": null,
   "metadata": {
    "deletable": false,
    "editable": false
   },
   "outputs": [],
   "source": [
    "grader.check(\"q16\")"
   ]
  },
  {
   "cell_type": "markdown",
   "metadata": {
    "deletable": false,
    "editable": false
   },
   "source": [
    "---"
   ]
  },
  {
   "cell_type": "code",
   "execution_count": null,
   "metadata": {
    "deletable": false,
    "editable": false
   },
   "outputs": [],
   "source": [
    "grader.check_all()"
   ]
  },
  {
   "cell_type": "markdown",
   "metadata": {
    "deletable": false,
    "editable": false
   },
   "source": [
    "## Abgabe\n",
    "\n",
    "Dieses Notebook ist zur reinen Übung gedacht und muss nicht abgegeben werden. Wir raten Ihnen eindringlich alle Aufgaben zu lösen!"
   ]
  },
  {
   "cell_type": "code",
   "execution_count": null,
   "metadata": {
    "deletable": false,
    "editable": false
   },
   "outputs": [],
   "source": [
    "# Save your notebook first, then run this cell to export your submission.\n",
    "grader.export(pdf=False, run_tests=True)"
   ]
  },
  {
   "cell_type": "markdown",
   "metadata": {},
   "source": [
    " "
   ]
  }
 ],
 "metadata": {
  "kernelspec": {
   "display_name": "Python 3.10.4 ('ct')",
   "language": "python",
   "name": "python3"
  },
  "language_info": {
   "codemirror_mode": {
    "name": "ipython",
    "version": 3
   },
   "file_extension": ".py",
   "mimetype": "text/x-python",
   "name": "python",
   "nbconvert_exporter": "python",
   "pygments_lexer": "ipython3",
   "version": "3.10.4"
  },
  "otter": {
   "OK_FORMAT": false,
   "assignment_name": "training05",
   "tests": {
    "q10": "from otter.test_files import test_case\n\nOK_FORMAT = False\n\nname = \"q10\"\npoints = None\n\n@test_case(points=None, hidden=False)\ndef test_count_leafs(env):\n    n = 10\n    for i in range(n):\n        world_as_text = 'L'*i + '-'*(n-i) + 'GW'\n        world = env['rw'].str_to_world(world_as_text)\n        world.disable_animation()\n        robo = world.get_robo()\n        robo.disable_print()\n        count = env['count_leafs'](robo)\n        assert count == i, \"Robo hat sich verzählt\"\n        assert robo.position[0] == 0, \"Robo steht nicht ganz im Süden\"\n        assert robo.position[1] == len(world_as_text)-1, \"Robo steht ganz im Osten\"\n    \n",
    "q11": "from otter.test_files import test_case\n\nOK_FORMAT = False\n\nname = \"q11\"\npoints = None\n\n@test_case(points=None, hidden=False)\ndef test_move_from_to(env):\n    world_before = \"\"\"LL----------G\nLLLL---------\nLLLLL--------\nL------------\nLL----------W\"\"\"\n    lst = world_before.split('\\n')\n    lst.reverse()\n    world_as_str = '\\n'.join(lst)\n    world_after = \"\"\"LL----------G\nLLLL--------W\nLLLLL--------\nL------------\nLL-----------\"\"\"\n    world = env['rw'].str_to_world(world_as_str)\n    world.disable_animation()\n    robo = world.get_robo()\n    robo.disable_print()\n    env['move_from_to'](robo, 0, 3)\n    assert world_after == str(world), \"Robo hat sich nicht korrekt bewegt\"\n    env['move_from_to'](robo, 3, 0)\n    assert world_before == str(world), \"Robo hat sich nicht korrekt bewegt\"\n    \n",
    "q12": "from otter.test_files import test_case\n\nOK_FORMAT = False\n\nname = \"q12\"\npoints = None\n\n@test_case(points=None, hidden=False)\ndef test_remove_leafs(env):\n    n = 10\n    for i in range(n):\n        world_as_text = 'L'*i + '-'*(n-i) + 'GW'\n        world = env['rw'].str_to_world(world_as_text)\n        world.disable_animation()\n        robo = world.get_robo()\n        robo.disable_print()\n        env['remove_leafs'](robo, i)\n        assert str(world) == '-'*(n) + 'GW', \"Robo hat nicht die richtige Anzahl an Blätter aufgenommen\"\n        assert robo.position[0] == 0, \"Robo steht nicht ganz im Süden\"\n        assert robo.position[1] == len(world_as_text)-1, \"Robo steht ganz im Osten\"\n    \n",
    "q13": "from otter.test_files import test_case\n\nOK_FORMAT = False\n\nname = \"q13\"\npoints = None\n\n@test_case(points=None, hidden=False)\ndef test_add_leafs(env):\n    n = 10\n    for i in range(n//2-1):\n        world_as_text = 'L'*i + '-'*(n-i) + 'GW'\n        world = env['rw'].str_to_world(world_as_text)\n        world.disable_animation()\n        robo = world.get_robo()\n        robo.disable_print()\n        robo._robo.nleafs = n-i\n        env['add_leafs'](robo, n-i)\n        assert str(world) == 'L'*n + 'GW', \"Robo hat nicht die richtige Anzahl an Blätter aufgenommen\"\n        assert robo.position[0] == 0, \"Robo steht nicht ganz im Süden\"\n        assert robo.position[1] == len(world_as_text)-1, \"Robo steht ganz im Osten\"\n    \n",
    "q14": "from otter.test_files import test_case\n\nOK_FORMAT = False\n\nname = \"q14\"\npoints = None\n\n@test_case(points=None, hidden=False)\ndef test_is_larger(env):\n    \n    world_as_text = 'LLLLLL--GW'+'\\n'+'LLLLL-----'\n    world = env['rw'].str_to_world(world_as_text)\n    world.disable_animation()\n    robo = world.get_robo()\n    robo.disable_print()\n    assert env['is_larger'](robo, 0, 1)\n    assert robo.position[0] == 0, \"Robo steht nicht ganz im Süden\"\n    assert robo.position[1] == world._grid.ncols-1, \"Robo steht ganz im Osten\"\n    \n    world_as_text = 'LLLL----GW'+'\\n'+'LLLLL-----'\n    world = env['rw'].str_to_world(world_as_text)\n    world.disable_animation()\n    robo = world.get_robo()\n    robo.disable_print()\n    assert not env['is_larger'](robo, 0, 1)\n    assert robo.position[0] == 0, \"Robo steht nicht ganz im Süden\"\n    assert robo.position[1] == world._grid.ncols-1, \"Robo steht ganz im Osten\"\n    \n    world_as_text = 'LLLLL----W'+'\\n'+'LLLLL-----'\n    world = env['rw'].str_to_world(world_as_text)\n    world.disable_animation()\n    robo = world.get_robo()\n    robo.disable_print()\n    assert not env['is_larger'](robo, 0, 1)\n    assert robo.position[0] == 0, \"Robo steht nicht ganz im Süden\"\n    assert robo.position[1] == world._grid.ncols-1, \"Robo steht ganz im Osten\"\n    \n    world_as_text = 'LLLLL----G'+'\\n'+'LLLLL----W'+'\\n'+'LLL-------'+'\\n'+'LL--------''\\n'+'LLLLLL----'\n    world = env['rw'].str_to_world(world_as_text)\n    world.disable_animation()\n    robo = world.get_robo()\n    robo.disable_print()\n    assert env['is_larger'](robo, 1, 3)\n    assert robo.position[0] == 1, \"Robo steht nicht ganz im Süden\"\n    assert robo.position[1] == world._grid.ncols-1, \"Robo steht ganz im Osten\"\n    \n",
    "q15": "from otter.test_files import test_case\n\nOK_FORMAT = False\n\nname = \"q15\"\npoints = None\n\n@test_case(points=None, hidden=False)\ndef test_swap_row(env):\n    world_as_text = 'LLLLLL--GW'+'\\n'+'LLLLL-----'\n    world = env['rw'].str_to_world(world_as_text)\n    world.disable_animation()\n    robo = world.get_robo()\n    robo.disable_print()\n    env['swap_row'](robo, 0, 1)\n    assert str(world) == 'LLLLLL----'+'\\n'+'LLLLL---GW'\n    assert robo.position[0] == 0, \"Robo steht nicht ganz im Süden\"\n    assert robo.position[1] == world._grid.ncols-1, \"Robo steht ganz im Osten\"\n    \n    world_as_text = 'LLLL----GW'+'\\n'+'LLLLL-----'\n    world = env['rw'].str_to_world(world_as_text)\n    world.disable_animation()\n    robo = world.get_robo()\n    robo.disable_print()\n    env['swap_row'](robo, 0, 1)\n    assert str(world) == 'LLLL------'+'\\n'+'LLLLL---GW'\n    assert robo.position[0] == 0, \"Robo steht nicht ganz im Süden\"\n    assert robo.position[1] == world._grid.ncols-1, \"Robo steht ganz im Osten\"\n    \n    world_as_text = 'LLLLL---GW'+'\\n'+'LLLLL-----'\n    world = env['rw'].str_to_world(world_as_text)\n    world.disable_animation()\n    robo = world.get_robo()\n    robo.disable_print()\n    env['swap_row'](robo, 0, 1)\n    assert str(world) == 'LLLLL-----'+'\\n'+'LLLLL---GW'\n    assert robo.position[0] == 0, \"Robo steht nicht ganz im Süden\"\n    assert robo.position[1] == world._grid.ncols-1, \"Robo steht ganz im Osten\"\n    \n    \n    world_as_text = 'LLLLL----G'+'\\n'+'LLLLL----W'+'\\n'+'LLL-------'+'\\n'+'LL--------''\\n'+'LLLLLL----'\n    world = env['rw'].str_to_world(world_as_text)\n    world.disable_animation()\n    robo = world.get_robo()\n    robo.disable_print()\n    env['swap_row'](robo, 1, 3)\n    assert str(world) == 'LLLLLL----'+ '\\n'+ 'LLLLL-----' +'\\n'+ 'LLL-------' +'\\n'+ 'LL-------W' +'\\n'+ 'LLLLL----G'\n    assert robo.position[0] == 1, \"Robo steht nicht ganz im Süden\"\n    assert robo.position[1] == world._grid.ncols-1, \"Robo steht ganz im Osten\"\n    \n",
    "q16": "from otter.test_files import test_case\n\nOK_FORMAT = False\n\nname = \"q16\"\npoints = None\n\n@test_case(points=None, hidden=False)\ndef test_sort(env):\n    \n    def list_to_world(numbers, reverse=False):\n        \"\"\"Helper function.\"\"\"\n        length = len(numbers)\n        text = ''\n        \n        if reverse:\n            numbers.reverse()\n        \n        for i in range(length):\n            nleafs = numbers[i]\n            if (i == 0 and not reverse) or (i == length-1 and reverse):\n                text += 'L'*nleafs + '-'*(length-nleafs-1) + 'W' +  '\\n'\n            elif (i == length-1 and not reverse) or  (i == 0 and reverse):\n                text += 'L'*nleafs + '-'*(length-nleafs-1) + 'G' + '\\n'\n            else:\n                text += 'L'*nleafs + '-'*(length-nleafs) +  '\\n'\n        return text[:-1]\n        \n    numbers = [1,3,2,1]\n    world = env['rw'].str_to_world(list_to_world(numbers))\n    world.disable_animation()\n    robo = world.get_robo()\n    robo.disable_print()\n    env['sort'](robo, len(numbers))\n    \n    numbers.sort()\n    expected_world = env['rw'].str_to_world(list_to_world(numbers))\n\n    assert str(expected_world) == str(world), \"Robo hat sich nicht korrekt bewegt\"\n    \n    \n    numbers = [2,3,2,1]\n    world = env['rw'].str_to_world(list_to_world(numbers))\n    world.disable_animation()\n    robo = world.get_robo()\n    robo.disable_print()\n    env['sort'](robo, len(numbers))\n    \n    numbers.sort()\n    expected_world = env['rw'].str_to_world(list_to_world(numbers))\n\n    assert str(expected_world) == str(world), \"Robo hat sich nicht korrekt bewegt\"\n    \n",
    "q2": "from otter.test_files import test_case\n\nOK_FORMAT = False\n\nname = \"q2\"\npoints = None\n\n@test_case(points=None, hidden=False)\ndef test_world(simple_corridor):\n    assert simple_corridor.grid.ncols == 10, \"Falsche Anzahl an Spalten.\"\n    assert simple_corridor.grid.nrows == 1, \"Falsche Anzahl an Zeilen.\"\n    \n",
    "q4": "from otter.test_files import test_case\n\nOK_FORMAT = False\n\nname = \"q4\"\npoints = None\n\n@test_case(points=None, hidden=False)\ndef test_corridor(corridor):\n    assert corridor.is_successful()\n    \n",
    "q5": "from otter.test_files import test_case\n\nOK_FORMAT = False\n\nname = \"q5\"\npoints = None\n\n@test_case(points=None, hidden=False)\ndef test_leaf_corridor(leaf_corridor):\n    assert leaf_corridor.is_successful(), \"Robo ist wohl nicht am Ziel.\"\n    assert leaf_corridor.get_robo()._robo.nleafs == 3, \"Robo hat wohl nicht alle Blätter aufgehoben\"\n    \n",
    "q6": "from otter.test_files import test_case\n\nOK_FORMAT = False\n\nname = \"q6\"\npoints = None\n\n@test_case(points=None, hidden=False)\ndef test_turn_right(turn_right, rw):\n    world = rw.new_world(nrows = 1, ncols = 10)\n    world.disable_animation()\n    robo = world.get_robo()\n    robo.disable_print()\n    assert robo.is_facing_north()\n    turn_right(robo)\n    assert not robo.is_facing_north()\n    turn_right(robo)\n    assert not robo.is_facing_north()\n    turn_right(robo)\n    turn_right(robo)\n    assert robo.is_facing_north()\n    \n",
    "q7": "from otter.test_files import test_case\n\nOK_FORMAT = False\n\nname = \"q7\"\npoints = None\n\n@test_case(points=None, hidden=False)\ndef test_walk_stony_corridor_no_stone(walk_stony_corridor, rw):\n    len = 15\n    stone_corridor = rw.corridor(length=len, random_headway=False, nstones=0)\n    stone_corridor.disable_animation()\n    robo = stone_corridor.get_robo()\n    robo.disable_print()\n    walk_stony_corridor(robo)\n    assert stone_corridor.is_successful(), f\"Korridor der Länge {len} mit {0} Steinen: Robo ist wohl nicht am Ziel.\"\n\n@test_case(points=None, hidden=False)\ndef test_walk_stony_corridor_one_stone(walk_stony_corridor, rw):\n    len = 15\n    stone_corridor = rw.corridor(length=len, random_headway=False, nstones=1)\n    stone_corridor.disable_animation()\n    robo = stone_corridor.get_robo()\n    robo.disable_print()\n    walk_stony_corridor(robo)\n    assert stone_corridor.is_successful(), f\"Korridor der Länge {len} mit {1} Steinen: Robo ist wohl nicht am Ziel.\"\n\n@test_case(points=None, hidden=False)\ndef test_walk_stony_corridor(walk_stony_corridor, rw):\n    len = 15\n    for n in range(len-2):\n        stone_corridor = rw.corridor(length=len, random_headway=False, nstones=n)\n        stone_corridor.disable_animation()\n        robo = stone_corridor.get_robo()\n        robo.disable_print()\n        walk_stony_corridor(robo)\n        assert stone_corridor.is_successful(), f\"Korridor der Länge {len} mit {n} Steinen: Robo ist wohl nicht am Ziel.\"\n    \n",
    "q8": "from otter.test_files import test_case\n\nOK_FORMAT = False\n\nname = \"q8\"\npoints = None\n\n@test_case(points=None, hidden=False)\ndef test_walk_maze(walk_maze, rw):\n    maze = rw.maze()\n    maze.disable_animation()\n    robo = maze.get_robo()\n    robo.disable_print()\n    maze.disable_animation()\n    walk_maze(robo)\n    assert maze.is_successful()\n    \n",
    "q9": "from otter.test_files import test_case\n\nOK_FORMAT = False\n\nname = \"q9\"\npoints = None\n\n@test_case(points=None, hidden=False)\ndef test_walk_roundtrip(walk_roundtrip, rw):\n    round_trip = rw.round_trip()\n    round_trip.disable_animation()\n    robo = round_trip.get_robo()\n    robo.disable_print()\n    round_trip.disable_animation()\n    walk_roundtrip(robo)\n    assert round_trip.is_successful(), \"Robo ist wohl nicht am Ziel angelangt\"\n    assert robo._robo.nleafs == 4, \"Robo hat wohl nicht alle Blätter aufgehoben\"\n    \n"
   }
  },
  "vscode": {
   "interpreter": {
    "hash": "881d337900756e70a76eada1facb65e60ce30b1cc249c92e2adf60a26cf555a8"
   }
  }
 },
 "nbformat": 4,
 "nbformat_minor": 2
}

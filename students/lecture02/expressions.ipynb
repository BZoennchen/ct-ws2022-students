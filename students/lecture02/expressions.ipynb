{
 "cells": [
  {
   "cell_type": "code",
   "execution_count": 40,
   "metadata": {
    "deletable": false,
    "editable": false
   },
   "outputs": [],
   "source": [
    "# Initialize Otter\n",
    "import otter\n",
    "grader = otter.Notebook(\"expressions.ipynb\")"
   ]
  },
  {
   "cell_type": "markdown",
   "metadata": {},
   "source": [
    "# 2 Datentypen und Befehle\n",
    "\n",
    "**Computational Thinking WS2022/21** \n",
    "\n",
    "*Prof. Dr.-Ing. Martin Hobelsberger, Dr. Benedikt Zönnchen*\n",
    "\n",
    "+ [CT-Buch Kapitel 13.2 Ausdrücke](https://bzoennchen.github.io/ct-book/chapters/03-3/2-expressions.html) \n",
    "+ Den Anfang von [CT-Buch Kapitel 14. Datentypen (Grundlagen)](https://bzoennchen.github.io/ct-book/chapters/03-4/intro.html)\n",
    "\n",
    "***"
   ]
  },
  {
   "cell_type": "markdown",
   "metadata": {},
   "source": [
    "\n",
    "\n",
    "Jedes Programm, bzw. jeder Algorithmus besteht aus einer Folge von *Befehlen/Aussagen* (engl. *Statements*). Diese *Befehle* beschreiben wie Daten (die Eingabe) verarbeitet werden sollen. Ein Kochrezept besteht beispielweise aus Befehlen, die beschreiben wie ein Gericht zubereitet werden soll. Die Initialisierung und Zuweisung einer *Variablen*"
   ]
  },
  {
   "cell_type": "code",
   "execution_count": 5,
   "metadata": {},
   "outputs": [],
   "source": [
    "# Statements\n",
    "\n"
   ]
  },
  {
   "cell_type": "markdown",
   "metadata": {},
   "source": [
    "ist ein *Befehl* (engl. *Statement*). \n",
    "\n",
    "Befehle die einen Wert ergeben bzw. zurückliefern, bezeichnen wir als *Ausdruck* (engl. *Expression*).\n",
    "Die Multiplikation "
   ]
  },
  {
   "cell_type": "code",
   "execution_count": 6,
   "metadata": {},
   "outputs": [],
   "source": [
    "# Expressions\n",
    "\n"
   ]
  },
  {
   "cell_type": "markdown",
   "metadata": {},
   "source": [
    "ist beispielsweise ein *Ausdruck* der zwei Dezimalzahlen multipliziert. Der *Ausdruck* besteht aus dem Symbol ``*`` und zwei nummerischen Werten (Zahlen)\n",
    "\n",
    "``[Zahl] * [Zahl]``\n",
    "\n",
    "welche wiederum *Ausdrücke* sind."
   ]
  },
  {
   "cell_type": "markdown",
   "metadata": {},
   "source": [
    "## 2.1 Syntax und Semantik\n",
    "\n",
    "Welche *Befehle* bzw. *Ausdrücke* valide sind, gibt die **Syntax** der verwendeten Programmiersprache (hier ``Python``) vor. Welchen *Effekt* bzw. *Bedeutung* die *Befehle* bzw. *Ausdrücke* haben, gibt deren **Semantik** vor.\n",
    "\n",
    "Die Multiplikation wird durch den Computer, genauer die CPU berechnet. ``3 * 5`` ergibt ``15``, d.h. die Semantik des Ausdrucks ``3 * 5`` ist ``15``. \n",
    "\n",
    "Die Zeichenfolge muss **syntatisch** korrekt sein, damit diese auch als Ausdruck vom Computer (bzw. *Interpreter*) verstanden wird. Die Zeichenfolge"
   ]
  },
  {
   "cell_type": "code",
   "execution_count": 7,
   "metadata": {},
   "outputs": [],
   "source": [
    "# Syntax Error\n"
   ]
  },
  {
   "cell_type": "markdown",
   "metadata": {},
   "source": [
    "ist kein *syntaktisch* korrekter ``Python``-Befehl, was Ihnen die Fehlermeldung auch zu verstehen gibt. Die gewählte Programmiersprache bestimmt (durch ihre Grammatik) welche Zeichenfolge **syntaktisch** korrekt sind. Bereits kleiner Änderungen an der **Syntax** können zu einer neuen *Bedeutung (Semantik)* führen. \n",
    "\n",
    "In ``Python`` ist die Zeichenkette"
   ]
  },
  {
   "cell_type": "code",
   "execution_count": null,
   "metadata": {},
   "outputs": [],
   "source": [
    "3 ** 5"
   ]
  },
  {
   "cell_type": "markdown",
   "metadata": {},
   "source": [
    "ein *syntaktisch* valider Ausdruck und *bedeutet* $3^5$ was $243$ ergibt.\n",
    "\n",
    "Der Computer ist äußerst primitiv und benötigt exakte Anweisungen.\n",
    "Sie können beispielweise eine Multiplikation nicht wie folgt beschreiben:"
   ]
  },
  {
   "cell_type": "code",
   "execution_count": null,
   "metadata": {},
   "outputs": [],
   "source": [
    "3 multiply 5"
   ]
  },
  {
   "cell_type": "markdown",
   "metadata": {},
   "source": [
    "da die Multiplikation nur mit dem ``*``-Operator ausgelöst werden kann."
   ]
  },
  {
   "cell_type": "code",
   "execution_count": null,
   "metadata": {},
   "outputs": [],
   "source": [
    "3 * 5"
   ]
  },
  {
   "cell_type": "markdown",
   "metadata": {},
   "source": [
    "Bezüglich des Programmierens sind die Konzepte **Syntax** (Grammatik) und **Semantik** sowie das **Lernen durch Praktizieren** ähnlich zu den natürlichen Fremdsprachen. Allerdings sind die Regeln sehr viel einfacher, da es keinerlei Ausnahmen oder Sonderfälle gibt!\n",
    "\n",
    "Ist die **Syntax** Ihres Programms korrekt bedeutet dies noch nicht, dass Sie auch das berechnen, was sie berechnen wollen. Es bedeutet lediglich, dass Ihr Code in der Sprache liegt."
   ]
  },
  {
   "cell_type": "markdown",
   "metadata": {},
   "source": [
    "## 2.2 Zusammensetzen von Aussagen\n",
    "\n",
    "*Aussagen* und *Ausdrücke* können sich aus weiteren *Aussagen* und *Ausdrücken* zusammensetzen. Der ``+``-Operator erwarten zwei Ausdrücke deren Semantik eine Zahl ergibt: ``[Ausdruck (Zahl)] + [Ausdruck (Zahl)]`` gleichzeitig wird dieser Ausdruck selbst zur Zahl *ausgewertet*."
   ]
  },
  {
   "cell_type": "code",
   "execution_count": 8,
   "metadata": {
    "scrolled": true
   },
   "outputs": [],
   "source": [
    "# Expression\n"
   ]
  },
  {
   "cell_type": "markdown",
   "metadata": {},
   "source": [
    "ist ein Ausdruck und"
   ]
  },
  {
   "cell_type": "code",
   "execution_count": 9,
   "metadata": {},
   "outputs": [],
   "source": [
    "# Expression\n"
   ]
  },
  {
   "cell_type": "markdown",
   "metadata": {},
   "source": [
    "ebenfalls und"
   ]
  },
  {
   "cell_type": "code",
   "execution_count": 10,
   "metadata": {},
   "outputs": [],
   "source": [
    "# Expression\n"
   ]
  },
  {
   "cell_type": "markdown",
   "metadata": {},
   "source": [
    "auch."
   ]
  },
  {
   "cell_type": "markdown",
   "metadata": {},
   "source": [
    "## 2.3 Datentypen (Grundlagen)"
   ]
  },
  {
   "cell_type": "markdown",
   "metadata": {},
   "source": [
    "Ob ein *Befehl* oder *Ausdruck* syntaktisch korrekt ist und was dieser semantisch ergibt, hängt von den Datentypen der zu verarbeitenden Werte ab!\n",
    "Addieren wir zwei ganze Zahlen (Datentyp: ``int``) erhalten wir ein anderes Ergebnis als wenn wir zwei Zeichen (Datentyp: ``str``) \"Addieren\"."
   ]
  },
  {
   "cell_type": "code",
   "execution_count": 11,
   "metadata": {},
   "outputs": [],
   "source": [
    "# Addition\n"
   ]
  },
  {
   "cell_type": "code",
   "execution_count": 12,
   "metadata": {},
   "outputs": [],
   "source": [
    "# Konkatination\n"
   ]
  },
  {
   "cell_type": "markdown",
   "metadata": {},
   "source": [
    "Im Speicher des Rechners befinden sich ausschließlich Bits. Was diese Bits **repräsentieren** hängt vom Kontext ab. Z.B. interpretiert die Recheneinheit, welche ganze Zahlen addiert, die Bits als Binärzahlen.\n",
    "\n",
    "Datentypen einer Programmiersprache erlauben es uns festzulegen **wie ein bestimmter Wert im Arbeitsspeicher** interpretiert werden soll.\n",
    "\n",
    "Weisen wir der Variablen ``char`` den Wert ``'a'`` zu"
   ]
  },
  {
   "cell_type": "code",
   "execution_count": 13,
   "metadata": {},
   "outputs": [
    {
     "data": {
      "text/plain": [
       "'a'"
      ]
     },
     "execution_count": 13,
     "metadata": {},
     "output_type": "execute_result"
    }
   ],
   "source": [
    "char = 'a'\n",
    "char"
   ]
  },
  {
   "cell_type": "markdown",
   "metadata": {},
   "source": [
    "so wird im Speicher irgendwo der **Wert** als binärer ASCII-Code stehen:\n",
    "\n",
    "$$01100001_2$$"
   ]
  },
  {
   "cell_type": "markdown",
   "metadata": {},
   "source": [
    "Würde man diese Bitfolge als ganze Zahl interpretieren wäre dies gleich\n",
    "\n",
    "$$2^6 + 2^5 + 2^0 = 97_{10}$$\n",
    "\n",
    "Warum gibt uns der Interpreter aber ``'a'`` und nicht ``97`` aus? Und weshalb kommt es bei folgender Addition"
   ]
  },
  {
   "cell_type": "code",
   "execution_count": 17,
   "metadata": {},
   "outputs": [],
   "source": [
    "# Failed addition str + int\n"
   ]
  },
  {
   "cell_type": "markdown",
   "metadata": {},
   "source": [
    "zu einem Fehler? Die kurze Antwort lautet: Wegen der Datentypen der Variablen ``x`` bzw. ``char``."
   ]
  },
  {
   "cell_type": "code",
   "execution_count": 16,
   "metadata": {},
   "outputs": [],
   "source": [
    "# type of x and char\n"
   ]
  },
  {
   "cell_type": "markdown",
   "metadata": {},
   "source": [
    "Der Datentyp der Variablen ``char`` ist ``str`` (Zeichenkette). Diese Information erhält der Interpreter und interpretiert deshalb die Bitfolge im Speicher als Zeichenkette.\n",
    "Die ``+``-Operation ist für die Kombination von Datentypen ``int`` und ``str`` nicht definiert.\n",
    "Deshalb kommt es zu einem Fehler."
   ]
  },
  {
   "cell_type": "code",
   "execution_count": null,
   "metadata": {},
   "outputs": [],
   "source": []
  },
  {
   "cell_type": "markdown",
   "metadata": {},
   "source": [
    "### 2.3.1 Atomare Datentypen"
   ]
  },
  {
   "cell_type": "code",
   "execution_count": null,
   "metadata": {},
   "outputs": [],
   "source": [
    "# bool, int, float"
   ]
  },
  {
   "cell_type": "code",
   "execution_count": null,
   "metadata": {},
   "outputs": [],
   "source": []
  },
  {
   "cell_type": "markdown",
   "metadata": {},
   "source": [
    "### 2.3.2 Zusammengesetzte Datentypen (Datenstrukturen)"
   ]
  },
  {
   "cell_type": "code",
   "execution_count": null,
   "metadata": {},
   "outputs": [],
   "source": [
    "# str, list"
   ]
  },
  {
   "cell_type": "code",
   "execution_count": null,
   "metadata": {},
   "outputs": [],
   "source": []
  },
  {
   "cell_type": "code",
   "execution_count": null,
   "metadata": {},
   "outputs": [],
   "source": []
  },
  {
   "cell_type": "markdown",
   "metadata": {},
   "source": [
    "## 2.4 Arithmetische Operatoren\n",
    "\n",
    "Die Multiplikation ``*`` wie auch die Potenz ``**`` bezeichnen wir als *arithmetische Operatoren*, da sie numerische Werte (Zahlen) verarbeiten.\n",
    "Es gibt jedoch noch eine ganze Reihe von weiteren *arithmetische Operatoren*:\n",
    "\n",
    "| Operator |     Beschreibung     |  Beispiel  |                     Bedeutung                        |\n",
    "| :------: | :------------------: | :--------: | :--------------------------------------------------: |\n",
    "|   `+`    |       Addition       | ``3 + 4``  |                      $3 + 4$                         |\n",
    "|   `-`    |     Subtraktion      | ``3 - 4``  |                      $3 - 4$                         |\n",
    "|   `*`    |    Multiplikation    | ``3 * 4``  |                    $3 \\cdot 4$                       |\n",
    "|   `/`    |       Division       | ``3 / 4``  |                      $3 / 4$                         |\n",
    "|   `**`   |     Potenzierung     |  ``3**4``  |                       $3^4$                          |\n",
    "|   `//`   | ganzzahlige Division | ``3 // 4`` |         $\\left \\lfloor{3/4}\\right \\rfloor$           |\n",
    "|   `%`    |        Modulo        | ``10 % 4`` | $$10 - (4 \\cdot \\left \\lfloor{10/4}\\right \\rfloor)$$ |\n",
    "\n",
    "Jeder dieser Operatoren ``op`` erwartet zwei Zahlen, eine links und eine rechts vom jeweiligen Operator.\n",
    "\n",
    "Die Bedeutung der Modulo-Operation sieht kompliziert aus doch bedeutet dies schlicht, dass ``10 % 4`` der ganzzahlige Rest der *Restwertdivision* ist.\n",
    "\n",
    "Die ganzzahlige Division rundet das Ergebnis der Division auf die nächst kleinere ganze Zahl (Integer)."
   ]
  },
  {
   "cell_type": "code",
   "execution_count": 18,
   "metadata": {
    "scrolled": true
   },
   "outputs": [
    {
     "data": {
      "text/plain": [
       "-1"
      ]
     },
     "execution_count": 18,
     "metadata": {},
     "output_type": "execute_result"
    }
   ],
   "source": [
    "-2 // 3"
   ]
  },
  {
   "cell_type": "code",
   "execution_count": 19,
   "metadata": {},
   "outputs": [
    {
     "data": {
      "text/plain": [
       "-0.6666666666666666"
      ]
     },
     "execution_count": 19,
     "metadata": {},
     "output_type": "execute_result"
    }
   ],
   "source": [
    "-2 / 3"
   ]
  },
  {
   "cell_type": "code",
   "execution_count": 20,
   "metadata": {
    "scrolled": true
   },
   "outputs": [
    {
     "data": {
      "text/plain": [
       "0"
      ]
     },
     "execution_count": 20,
     "metadata": {},
     "output_type": "execute_result"
    }
   ],
   "source": [
    "2 // 3"
   ]
  },
  {
   "cell_type": "code",
   "execution_count": 21,
   "metadata": {},
   "outputs": [
    {
     "data": {
      "text/plain": [
       "0.6666666666666666"
      ]
     },
     "execution_count": 21,
     "metadata": {},
     "output_type": "execute_result"
    }
   ],
   "source": [
    "2 / 3"
   ]
  },
  {
   "cell_type": "code",
   "execution_count": 22,
   "metadata": {
    "scrolled": true
   },
   "outputs": [
    {
     "data": {
      "text/plain": [
       "4"
      ]
     },
     "execution_count": 22,
     "metadata": {},
     "output_type": "execute_result"
    }
   ],
   "source": [
    "14 % 5"
   ]
  },
  {
   "cell_type": "code",
   "execution_count": 23,
   "metadata": {},
   "outputs": [
    {
     "data": {
      "text/plain": [
       "4"
      ]
     },
     "execution_count": 23,
     "metadata": {},
     "output_type": "execute_result"
    }
   ],
   "source": [
    "14 - (14 // 5)*5"
   ]
  },
  {
   "cell_type": "code",
   "execution_count": 24,
   "metadata": {},
   "outputs": [
    {
     "data": {
      "text/plain": [
       "True"
      ]
     },
     "execution_count": 24,
     "metadata": {},
     "output_type": "execute_result"
    }
   ],
   "source": [
    "x = 12314\n",
    "y = 7\n",
    "\n",
    "x % y == x - (x // y) * y"
   ]
  },
  {
   "cell_type": "markdown",
   "metadata": {},
   "source": [
    "Die Addition und Subtraktion von Fließkommazahlen kann zu merkwürdigen Ergebnissen führen. Dazu später mehr:"
   ]
  },
  {
   "cell_type": "code",
   "execution_count": 25,
   "metadata": {},
   "outputs": [
    {
     "data": {
      "text/plain": [
       "0.30000000000000004"
      ]
     },
     "execution_count": 25,
     "metadata": {},
     "output_type": "execute_result"
    }
   ],
   "source": [
    "0.1 + 0.2"
   ]
  },
  {
   "cell_type": "code",
   "execution_count": 26,
   "metadata": {},
   "outputs": [
    {
     "data": {
      "text/plain": [
       "False"
      ]
     },
     "execution_count": 26,
     "metadata": {},
     "output_type": "execute_result"
    }
   ],
   "source": [
    "0.1 + 0.2 == 0.3 # False! Oo?"
   ]
  },
  {
   "cell_type": "code",
   "execution_count": 27,
   "metadata": {},
   "outputs": [
    {
     "data": {
      "text/plain": [
       "0.5"
      ]
     },
     "execution_count": 27,
     "metadata": {},
     "output_type": "execute_result"
    }
   ],
   "source": [
    "0.1 + 0.4"
   ]
  },
  {
   "cell_type": "code",
   "execution_count": 28,
   "metadata": {},
   "outputs": [
    {
     "data": {
      "text/plain": [
       "True"
      ]
     },
     "execution_count": 28,
     "metadata": {},
     "output_type": "execute_result"
    }
   ],
   "source": [
    "0.1 + 0.4 == 0.5 # True"
   ]
  },
  {
   "cell_type": "markdown",
   "metadata": {},
   "source": [
    "***\n",
    "***Aufgabe 2.1*** Berechnen Sie folgenden Ausdruck\n",
    "\n",
    "$$10^6 - 10^{-10}$$\n",
    "\n",
    "und \n",
    "\n",
    "$$10^6 - 10^{-11}$$\n",
    "\n",
    "und weisen Sie das erste Ergebnis der Variable ``x`` und das zweite Ergebnis der Variable ``y`` zu.\n",
    "Lassen Sie sich ``x`` und ``y`` ausgeben. Was beobachten Sie?"
   ]
  },
  {
   "cell_type": "markdown",
   "metadata": {},
   "source": [
    "_Ersetzen Sie diesen Text durch Ihre Antwort._"
   ]
  },
  {
   "cell_type": "code",
   "execution_count": null,
   "metadata": {
    "tags": []
   },
   "outputs": [],
   "source": [
    "x = ...\n",
    "x"
   ]
  },
  {
   "cell_type": "code",
   "execution_count": null,
   "metadata": {
    "tags": []
   },
   "outputs": [],
   "source": [
    "y = ...\n",
    "y"
   ]
  },
  {
   "cell_type": "code",
   "execution_count": null,
   "metadata": {
    "deletable": false,
    "editable": false
   },
   "outputs": [],
   "source": [
    "grader.check(\"q1\")"
   ]
  },
  {
   "cell_type": "markdown",
   "metadata": {},
   "source": [
    "***Aufgabe 2.2*** Berechnen Sie die Wurzel aus $2$ und weisen Sie das Ergebnis der Variable ``z`` zu. Repräsentiert der Wert der Variable wirklich $\\sqrt{2}$? Warum bzw. warum nicht?"
   ]
  },
  {
   "cell_type": "markdown",
   "metadata": {},
   "source": [
    "_Ersetzen Sie diesen Text durch Ihre Antwort._"
   ]
  },
  {
   "cell_type": "code",
   "execution_count": null,
   "metadata": {
    "scrolled": true,
    "tags": []
   },
   "outputs": [],
   "source": [
    "z = ..."
   ]
  },
  {
   "cell_type": "code",
   "execution_count": null,
   "metadata": {
    "deletable": false,
    "editable": false
   },
   "outputs": [],
   "source": [
    "grader.check(\"q2\")"
   ]
  },
  {
   "cell_type": "markdown",
   "metadata": {},
   "source": [
    "***"
   ]
  },
  {
   "cell_type": "markdown",
   "metadata": {},
   "source": [
    "## 2.5 Vergleichsoperatoren\n",
    "\n",
    "Werte/Objekte können über Vergleichsoperatoren miteinander verglichen werden. Das Ergebnis ist ein Boolscher Wert, d.h. ein Wahrheitswert (wahr ``True`` oder falsch ``False``).\n",
    "\n",
    "| Operator  | Beschreibung                      |\n",
    "| :-------: | :-------------------------------- |\n",
    "| `x == y ` | ist `x` gleich `y`? (Gleichheit)              |\n",
    "| `x != y`  | ist `x` ungleich `y`?             |\n",
    "|  `x > y`  | ist `x` größer als `y`?           |\n",
    "| `x >= y`  | ist `x` größer oder gleich `y`?   |\n",
    "|  `x < y`  | ist `x` kleiner `y`?              |\n",
    "| `x <= y`  | ist `x` kleiner gleich `y`?       |\n",
    "| `x is y`  | ist `x` das selbe Objekt wie `y`? (Identität) |\n",
    "\n",
    "Erneut ist ``Python`` hier ein wenig speziell indem es die mathematische Schreibweise $0 < x < 5$ anstatt $0 < x \\ \\land \\ x < 5$ zulässt.\n",
    "Dies erhöht die Lesbarkeit, da wir solche Verkettungen von Vergleichsoperatoren gewohnt sind."
   ]
  },
  {
   "cell_type": "markdown",
   "metadata": {},
   "source": [
    "Den Unterschied zwischen ``is`` (Identität) und ``==`` (Gleichheit) werden wir später erläutern, es sei allerdings hier schon erwähnt, dass ``x is y`` wahr (``True``) ist wenn die *Variable* ``x`` auf den gleiche Speicher verweißt wie ``y``. \n",
    "``x == y`` ist hingegen auch dann wahr (``True``) falls ``x`` und ``y`` auf die gleichen **Werte** im Speicher an unterschiedlichen Speicherbereichen verweisen.\n",
    "\n",
    "Zwei 50 Cent Münzen sind gleich aber nicht identisch."
   ]
  },
  {
   "cell_type": "code",
   "execution_count": 35,
   "metadata": {},
   "outputs": [],
   "source": [
    "# int Vergleiche\n"
   ]
  },
  {
   "cell_type": "code",
   "execution_count": 37,
   "metadata": {},
   "outputs": [],
   "source": [
    "# float Vergleiche 0.1 + 0.3, epsilon\n"
   ]
  },
  {
   "cell_type": "code",
   "execution_count": null,
   "metadata": {},
   "outputs": [],
   "source": []
  },
  {
   "cell_type": "markdown",
   "metadata": {},
   "source": [
    "Der Ausdruck"
   ]
  },
  {
   "cell_type": "code",
   "execution_count": null,
   "metadata": {},
   "outputs": [],
   "source": [
    "5 < 7 < 10"
   ]
  },
  {
   "cell_type": "markdown",
   "metadata": {},
   "source": [
    "hat die gleiche *Bedeutung* wie der Ausdruck"
   ]
  },
  {
   "cell_type": "code",
   "execution_count": null,
   "metadata": {},
   "outputs": [],
   "source": [
    "5 < 7 and 7 < 10"
   ]
  },
  {
   "cell_type": "markdown",
   "metadata": {},
   "source": [
    "*Vergleichsoperatoren* können auch auf anderen Datentypen als numerische Werte (ganze Zahlen ``int``, Fließkommazahlen ``float``) definiert sein.\n",
    "So können wir in ``Python`` auch Zeichenketten ``str`` mit den Vergleichsoperatoren lexikographisch vergleichen:"
   ]
  },
  {
   "cell_type": "code",
   "execution_count": 38,
   "metadata": {
    "scrolled": true
   },
   "outputs": [],
   "source": [
    "# str Vergkeiche\n"
   ]
  },
  {
   "cell_type": "markdown",
   "metadata": {},
   "source": [
    "***\n",
    "***Aufgabe 2.3*** In der folgenden Zelle berechnen wir\n",
    "\n",
    "$$\\sqrt{2} + 2 - \\sqrt{2} - 2 = 0$$\n",
    "\n",
    "jedoch erhalten wir nicht $0$ sondern eine sehr kleine negative Zahl. Schreiben Sie einen Ausdruck der prüft ob ``x`` fast gleich ``0`` ist."
   ]
  },
  {
   "cell_type": "code",
   "execution_count": null,
   "metadata": {
    "scrolled": true
   },
   "outputs": [],
   "source": [
    "x = 2**(0.5) + 2 - 2**(0.5) - 2\n",
    "x"
   ]
  },
  {
   "cell_type": "code",
   "execution_count": null,
   "metadata": {
    "tags": []
   },
   "outputs": [],
   "source": [
    "epsilon = ...\n",
    "..."
   ]
  },
  {
   "cell_type": "markdown",
   "metadata": {},
   "source": [
    "***\n",
    "\n",
    "## 2.6 Logische (Boolsche) Operatoren"
   ]
  },
  {
   "cell_type": "markdown",
   "metadata": {},
   "source": [
    "Der *Ausdruck* "
   ]
  },
  {
   "cell_type": "code",
   "execution_count": null,
   "metadata": {},
   "outputs": [],
   "source": [
    "5 < 7 and 7 < 10"
   ]
  },
  {
   "cell_type": "markdown",
   "metadata": {},
   "source": [
    "besteht aus den *Ausdrücken* ``5 < 7`` und ``7 < 10`` die dem logischen ``and``-Operator verknüpft werden.\n",
    "Dieser erwartet auf der linken und rechte Seite jeweils einen Wahrheitswert (*boolschen Ausdruck*). *Vergleichsoperatoren* liefern sind *boolsche Ausdrücke*.\n",
    "Seine Semantik ist den\n",
    "\n",
    "$$5 < 7 \\land 7 < 10$$"
   ]
  },
  {
   "cell_type": "markdown",
   "metadata": {},
   "source": [
    "Der ``and``-Operator, mit ``exp1 and exp2``, ergibt genau dann ``True`` wenn die Auswertung von ``exp1`` und ``exp2`` jeweils ``True`` ergeben."
   ]
  },
  {
   "cell_type": "code",
   "execution_count": null,
   "metadata": {},
   "outputs": [],
   "source": [
    "exp1 = True\n",
    "exp2 = 5 < 6\n",
    "exp1 and exp2"
   ]
  },
  {
   "cell_type": "markdown",
   "metadata": {},
   "source": [
    "Es gibt drei logische Operatoren:\n",
    "\n",
    "| Operator  | Beschreibung                                               |\n",
    "| :-------: | :--------------------------------------------------------- |\n",
    "|  `not x`  | ist `True` genau dann wenn `x == False`.                   |\n",
    "| `x and y` | ist `True` genau dann wenn `x == True` und `y == True`.    |\n",
    "| `x or y`  | ist `True` genau dann wenn ``x == True`` oder `y == True`. |"
   ]
  },
  {
   "cell_type": "code",
   "execution_count": 39,
   "metadata": {},
   "outputs": [],
   "source": [
    "# Beispiele\n"
   ]
  },
  {
   "cell_type": "markdown",
   "metadata": {},
   "source": [
    "## 2.7 Bitoperatoren\n",
    "\n",
    "Der Vollständigkeit listen wir auch noch die *Bitoperatoren* auf.\n",
    "Diese sind dazu vorgesehen um den Wert in *Binärdarstellung* zu manipulieren.\n",
    "\n",
    "Jeder Wert egal ob Zahl, Zeichen, Bild, Ton wir als Binärcode im Speicher abgelegt.\n",
    "*Bitoperatoren* nehmen diesen Binärwert und verarbeiten bzw. kombinieren ihn genau wie die Addition zwei Zahlen in der Dezimalschreibweise verarbeitet.\n",
    "\n",
    "Dabei wird jedes Bit des einen Werts mit dem *Bit* des anderen Werts kombiniert.\n",
    "Zum Beispiel ``5 & 4`` führt eine führ jedes Bit die ``and`` Operation aus.\n",
    "Das nennen wir Verundung."
   ]
  },
  {
   "cell_type": "code",
   "execution_count": null,
   "metadata": {},
   "outputs": [],
   "source": [
    "5 & 4"
   ]
  },
  {
   "cell_type": "markdown",
   "metadata": {},
   "source": [
    "führt eine Verundung der Binärzahlen $5_{10} = 101_2$ mit $4_{10} = 100_2$ durch und ergibt demnach $100_2$, was wiederum gleich $4_{10}$ ist.\n",
    "\n",
    "| Operator | Beschreibung                                       | Beispiel | Ergebnis |\n",
    "| :------: | :------------------------------------------------- | :------- | :------- |\n",
    "| `x & y`  | Verundung von `x` mit `y`                          | `10 & 3` | `2`      |\n",
    "| `x \\| y`  | Veroderung von `x` mit `y`                         | `10 \\| 3` | `11`     |\n",
    "| `x ^ y`  | exklusive Veroderung von `x`  mit `y`              | `10 ^ 3` | `9`      |\n",
    "| `x << y` | Bitverschiebung von `x` um `y` Stellen nach links  | `8 << 3` | `64`     |\n",
    "| `x >> y` | Bitverschiebung von `x` um `y` Stellen nach rechts | `8 >> 2` | `2`      |\n",
    "\n",
    "Weshalb ist ``10 ^ 3`` gleich ``9``?\n",
    "Nun $10_{10} = 01010_2$ und $3_{10} = 00011_2$.\n",
    "Das exklusive oder bedeutet gesprochen **entweder oder**, d.h. ein Bit wird zur 1 genau dann wenn das Bit der einen Zahl gleich 1 und das Bit der anderen Zahl gleich 0 ist oder genau anders herum.\n",
    "Dies ergibt $01001_2 = 9_{10}$.\n",
    "\n",
    "Für ganze Zahlen entspricht die Bitverschiebung nach rechts um ein Bit der Multiplikation mit 2.\n",
    "Die Verschiebung nach rechts um ein Bit hingegen der *ganzzahligen Division* durch 2.\n",
    "Deshalb ist `8 << 3` gleich $8 \\cdot 2 \\cdot 2 \\cdot 2 = 8 \\cdot 2^3 = 64$ und ``8 >> 2`` gleich $\\left \\lfloor{8 \\cdot 2^{-2}}\\right \\rfloor = 2$."
   ]
  },
  {
   "cell_type": "markdown",
   "metadata": {},
   "source": [
    "***\n",
    "***Aufgabe 2.4*** Berechnen Sie $x \\leftarrow 2^{10}$ unter Verwendung der Bitverschiebung."
   ]
  },
  {
   "cell_type": "code",
   "execution_count": null,
   "metadata": {
    "tags": []
   },
   "outputs": [],
   "source": [
    "x = ..."
   ]
  },
  {
   "cell_type": "code",
   "execution_count": null,
   "metadata": {
    "deletable": false,
    "editable": false
   },
   "outputs": [],
   "source": [
    "grader.check(\"q4\")"
   ]
  },
  {
   "cell_type": "markdown",
   "metadata": {},
   "source": [
    "***Aufgabe 2.5*** Angenommen die Variablen ``x`` und ``y`` haben jeweils eine ganze Zahl als **Wert**, sodass beide dieser Zahlen in der Binärdarstellung an keiner Stelle ein gleiches Bit besitzten. Zum Beispiel:\n",
    "\n",
    "$$x \\leftarrow 5_{10} = 0101_2 \\text{ und } y \\leftarrow 10_{10} = 1010_2.$$\n",
    "\n",
    "Mit welcher Bitoperation könnten Sie die Addition ``x + y`` berechnen? Testen Sie diesen Sachverhalt."
   ]
  },
  {
   "cell_type": "markdown",
   "metadata": {},
   "source": [
    "_Ersetzen Sie diesen Text durch Ihre Antwort._"
   ]
  },
  {
   "cell_type": "code",
   "execution_count": null,
   "metadata": {
    "tags": []
   },
   "outputs": [],
   "source": [
    "x = ...\n",
    "y = ...\n",
    "..."
   ]
  },
  {
   "cell_type": "markdown",
   "metadata": {
    "deletable": false,
    "editable": false
   },
   "source": [
    "## Abgabe"
   ]
  },
  {
   "cell_type": "code",
   "execution_count": null,
   "metadata": {
    "deletable": false,
    "editable": false
   },
   "outputs": [],
   "source": [
    "grader.export(pdf=False, force_save=True, run_tests=True)"
   ]
  },
  {
   "cell_type": "markdown",
   "metadata": {},
   "source": [
    " "
   ]
  }
 ],
 "metadata": {
  "kernelspec": {
   "display_name": "Python 3 (ipykernel)",
   "language": "python",
   "name": "python3"
  },
  "language_info": {
   "codemirror_mode": {
    "name": "ipython",
    "version": 3
   },
   "file_extension": ".py",
   "mimetype": "text/x-python",
   "name": "python",
   "nbconvert_exporter": "python",
   "pygments_lexer": "ipython3",
   "version": "3.10.4"
  },
  "otter": {
   "OK_FORMAT": true,
   "tests": {
    "q1": {
     "name": "q1",
     "points": null,
     "suites": [
      {
       "cases": [
        {
         "code": ">>> x == 999999.9999999999\n",
         "hidden": false,
         "locked": false
        },
        {
         "code": ">>> y == 1000000.0\n",
         "hidden": false,
         "locked": false
        }
       ],
       "scored": true,
       "setup": "",
       "teardown": "",
       "type": "doctest"
      }
     ]
    },
    "q2": {
     "name": "q2",
     "points": null,
     "suites": [
      {
       "cases": [
        {
         "code": ">>> z == 1.4142135623730951\n",
         "hidden": false,
         "locked": false
        }
       ],
       "scored": true,
       "setup": "",
       "teardown": "",
       "type": "doctest"
      }
     ]
    },
    "q4": {
     "name": "q4",
     "points": null,
     "suites": [
      {
       "cases": [
        {
         "code": ">>> x == 2**10\n",
         "hidden": false,
         "locked": false
        }
       ],
       "scored": true,
       "setup": "",
       "teardown": "",
       "type": "doctest"
      }
     ]
    }
   }
  },
  "vscode": {
   "interpreter": {
    "hash": "aee8b7b246df8f9039afb4144a1f6fd8d2ca17a180786b69acc140d282b71a49"
   }
  }
 },
 "nbformat": 4,
 "nbformat_minor": 4
}

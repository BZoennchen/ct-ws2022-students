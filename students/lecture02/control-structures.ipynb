{
 "cells": [
  {
   "cell_type": "code",
   "execution_count": null,
   "metadata": {
    "deletable": false,
    "editable": false
   },
   "outputs": [],
   "source": [
    "# Initialize Otter\n",
    "import otter\n",
    "grader = otter.Notebook(\"control-structures.ipynb\")"
   ]
  },
  {
   "cell_type": "markdown",
   "metadata": {},
   "source": [
    "# 3 Kontrollstrukturen\n",
    "\n",
    "**Computational Thinking WS2022/21** \n",
    "\n",
    "*Prof. Dr.-Ing. Martin Hobelsberger, Dr. Benedikt Zönnchen*\n",
    "\n",
    "[CT-Buch Kapitel 17. Kontrollstukturen](https://bzoennchen.github.io/ct-book/chapters/03-7/intro.html) \n",
    "\n",
    "***"
   ]
  },
  {
   "cell_type": "markdown",
   "metadata": {},
   "source": [
    "Es gibt zwei wesentliche Kontrollstrukturen:\n",
    "\n",
    "1. **Fallunterscheidungen:** Führe entweder Codeabschnitt A oder B oder C ... aus\n",
    "2. **Schleifen:** Führe Codeabschnitt A wiederholt aus"
   ]
  },
  {
   "cell_type": "markdown",
   "metadata": {},
   "source": [
    "## 3.1 Fallunterscheidungen\n",
    "\n",
    "[CT-Buch Kapitel 17.1 Fallunterscheidungen](https://bzoennchen.github.io/ct-book/chapters/03-7/1-cases.html) \n",
    "\n",
    "Über sogenannte `if`-*Statements* kann der Programmablauf gesteuert werden.\n",
    "Dabei wird eine *Befehlsfolge* an eine **Bedingungen** geknüpft: \n",
    "\n",
    "*Computer, nur wenn Bedingung A zutrifft führe Codezeilen 4-6 aus!*\n",
    "\n",
    "```python\n",
    "if Bedingung A:\n",
    "    Befehl 1\n",
    "    Befehl 2\n",
    "    ...\n",
    "elif Bedingung B: #und nicht Bedingung A\n",
    "    Befehl 3\n",
    "    Befehl 4\n",
    "    ...\n",
    "else: # weder Bedingung A noch Bedingung B\n",
    "    Befehl 5\n",
    "    Befehl 6\n",
    "    ...\n",
    "```\n",
    "\n",
    "<span style='color:#C70039'>**Wichtig: Die Einrückung und der ``:`` spielen DIE entscheidende Rolle!**</span>"
   ]
  },
  {
   "cell_type": "code",
   "execution_count": null,
   "metadata": {},
   "outputs": [],
   "source": [
    "# if\n"
   ]
  },
  {
   "cell_type": "code",
   "execution_count": null,
   "metadata": {},
   "outputs": [],
   "source": [
    "# if-else\n"
   ]
  },
  {
   "cell_type": "code",
   "execution_count": null,
   "metadata": {},
   "outputs": [],
   "source": [
    "# if-elif-elif\n"
   ]
  },
  {
   "cell_type": "code",
   "execution_count": null,
   "metadata": {},
   "outputs": [],
   "source": [
    "# if-elif-elif-else\n"
   ]
  },
  {
   "cell_type": "code",
   "execution_count": null,
   "metadata": {},
   "outputs": [],
   "source": [
    "# if if if-else\n"
   ]
  },
  {
   "cell_type": "code",
   "execution_count": null,
   "metadata": {},
   "outputs": [],
   "source": [
    "# if inside if\n"
   ]
  },
  {
   "cell_type": "markdown",
   "metadata": {},
   "source": [
    "#### Anmerkung:\n",
    "* Die Doppelpunkte nicht vergessen!\n",
    "* Es gibt **IMMER** eine else-Verzweigung (default)\n",
    "* Die Einrückung ist sehr wichtig!!"
   ]
  },
  {
   "cell_type": "markdown",
   "metadata": {},
   "source": [
    "***\n",
    "***Aufgabe 3.1*** Schreiben Sie ein Programm um *Schere-Stein-Papier* zu spielen."
   ]
  },
  {
   "cell_type": "code",
   "execution_count": null,
   "metadata": {
    "tags": []
   },
   "outputs": [],
   "source": [
    "scissors = 'Schere'\n",
    "stone = 'Stein'\n",
    "paper = 'Papier'\n",
    "\n",
    "player1 = input(f'Spieler 1: {scissors}, {stone}, {paper}? ')\n",
    "player2 = input(f'Spieler 2: {scissors}, {stone}, {paper}? ')\n",
    "\n",
    "..."
   ]
  },
  {
   "cell_type": "markdown",
   "metadata": {},
   "source": [
    "***"
   ]
  },
  {
   "cell_type": "markdown",
   "metadata": {},
   "source": [
    "## 3.2 Schleifen\n",
    "\n",
    "[CT-Buch Kapitel 17.2 Schleifen](https://bzoennchen.github.io/ct-book/chapters/03-7/2-loops.html) \n",
    "\n",
    "Erst durch die Wiederholen werden Computer zu mächtigen Rechenmaschine und *Schleifen* verkörpern diese Wiederholung wie kaum eine Struktur. Dabei gibt es in ``Python`` zwei Typen von Schleifen:\n",
    "\n",
    "1. ``for``-Schleifen\n",
    "2. ``while``-Schleifen"
   ]
  },
  {
   "cell_type": "markdown",
   "metadata": {},
   "source": [
    "### 3.2.1 Die For-Schleife\n",
    "\n",
    "Mit der ``for``-Schleife können Sie eine Folge an Befehlen (*Statements*) für eine, **vor dem Eintritt in die Wiederholung bekannte Anzahl**, ausführen.\n",
    "Sie können die ``for``-Schleife jedoch abhängig von einer Bedingung frühzeitig verlassen/abbrechen.\n",
    "\n",
    "Dabei *iteriert* die ``for``-Schleife über eine *iterierbare* Ansammlung (*Collection*) an Objekten (z.B. Zahlen, Zeichen, etc.).\n",
    "Der Codeblock der Schleife erlangt für jede Wiederholung Zugriff auf das nächste Element der Ansammlung.\n",
    "In welcher Reihenfolge, hängt von der Datenstruktur ab, welche diese Ansammlung repräsentiert. \n",
    "\n",
    "```python\n",
    "for element in elements: #Für jedes Element in der Menge Elemente\n",
    "    # führe folgenden Codeblock abhängig von element aus\n",
    "    pass\n",
    "```"
   ]
  },
  {
   "cell_type": "code",
   "execution_count": null,
   "metadata": {},
   "outputs": [],
   "source": [
    "# for liste\n"
   ]
  },
  {
   "cell_type": "code",
   "execution_count": null,
   "metadata": {},
   "outputs": [],
   "source": [
    "# for range\n"
   ]
  },
  {
   "cell_type": "markdown",
   "metadata": {},
   "source": [
    "***\n",
    "***Aufgabe 3.2*** Schreiben Sie ein Programm was Ihnen die Summe ``sum_squares`` der Quadratzahlen von ``1`` bis ``n`` berechnet."
   ]
  },
  {
   "cell_type": "code",
   "execution_count": null,
   "metadata": {},
   "outputs": [],
   "source": [
    "n = 12"
   ]
  },
  {
   "cell_type": "code",
   "execution_count": null,
   "metadata": {
    "tags": []
   },
   "outputs": [],
   "source": [
    "sum_squares = 0\n",
    "...\n",
    "sum_squares"
   ]
  },
  {
   "cell_type": "code",
   "execution_count": null,
   "metadata": {
    "deletable": false,
    "editable": false
   },
   "outputs": [],
   "source": [
    "grader.check(\"q2\")"
   ]
  },
  {
   "cell_type": "markdown",
   "metadata": {},
   "source": [
    "***"
   ]
  },
  {
   "cell_type": "code",
   "execution_count": null,
   "metadata": {},
   "outputs": [],
   "source": [
    "# for _"
   ]
  },
  {
   "cell_type": "code",
   "execution_count": null,
   "metadata": {},
   "outputs": [],
   "source": [
    "names = ['Sarah', 'Sebastian', 'Bene', 'Anna', 'Martin', 'Sabine']\n",
    "\n",
    "# for"
   ]
  },
  {
   "cell_type": "code",
   "execution_count": null,
   "metadata": {},
   "outputs": [],
   "source": [
    "# for chars\n"
   ]
  },
  {
   "cell_type": "markdown",
   "metadata": {},
   "source": [
    "Mit ``break`` können wir eine Schleife frühzeitig verlassen."
   ]
  },
  {
   "cell_type": "code",
   "execution_count": null,
   "metadata": {},
   "outputs": [],
   "source": [
    "# break\n",
    "\n",
    "for char in 'Bene':    \n",
    "    if char == 'n':\n",
    "        break\n",
    "    print(char)"
   ]
  },
  {
   "cell_type": "markdown",
   "metadata": {},
   "source": [
    "Mit ``continue`` können wir die Ausführung des aktuellen Wiederholung abbrechen."
   ]
  },
  {
   "cell_type": "code",
   "execution_count": null,
   "metadata": {},
   "outputs": [],
   "source": [
    "# continue\n",
    "\n",
    "for char in 'Bene':\n",
    "    if char == 'n':\n",
    "        continue\n",
    "    print(char)"
   ]
  },
  {
   "cell_type": "markdown",
   "metadata": {},
   "source": [
    "***\n",
    "***Aufgabe 3.3*** Schreiben Sie eine Funktion ``is_prime(n)``, die testet ob ``n`` eine Primzahl ist oder nicht."
   ]
  },
  {
   "cell_type": "code",
   "execution_count": null,
   "metadata": {
    "tags": []
   },
   "outputs": [],
   "source": [
    "def is_prime(n):\n",
    "    ..."
   ]
  },
  {
   "cell_type": "code",
   "execution_count": null,
   "metadata": {
    "tags": []
   },
   "outputs": [],
   "source": [
    "print(is_prime(2)) # True\n",
    "print(is_prime(3)) # True\n",
    "print(is_prime(23)) # True\n",
    "print(is_prime(55)) # False\n",
    "print(is_prime(1)) # False"
   ]
  },
  {
   "cell_type": "code",
   "execution_count": null,
   "metadata": {
    "deletable": false,
    "editable": false
   },
   "outputs": [],
   "source": [
    "grader.check(\"q3\")"
   ]
  },
  {
   "cell_type": "markdown",
   "metadata": {},
   "source": [
    "***"
   ]
  },
  {
   "cell_type": "markdown",
   "metadata": {},
   "source": [
    "### 3.2.2 Die While-Schleife\n",
    "\n",
    "Mit der ``while``-Schleife können Sie eine Folge an Befehlen (*Statements*) solange ausführen, wie eine festgelegt Bedingung zutrifft.\n",
    "Sie können die ``while``-Schleife jedoch abhängig von einer anderen Bedingung auch frühzeitig verlassen/abbrechen.\n",
    "\n",
    "Sie müssen nicht wissen wann die Bedingung erfüllt ist, doch sollten sie irgendwann erfüllt sein!\n",
    "Anderfalls endet die Wiederholung niemals.\n",
    "\n",
    "Dies macht die ``while``-Schleife mächtiger und zugleich fehleranfälliger als die ``for``-Schleife. \n",
    "\n",
    "```python\n",
    "while condtion: #Solange Bedingung erfüllt\n",
    "    # führe folgenden Codeblock aus\n",
    "    pass\n",
    "```\n",
    "\n",
    "Jede ``for``-Schleife lässt sich in eine ``while``-Schleife umwandeln, umgekehrt gilt dies nicht."
   ]
  },
  {
   "cell_type": "code",
   "execution_count": null,
   "metadata": {},
   "outputs": [],
   "source": [
    "# for into while\n"
   ]
  },
  {
   "cell_type": "code",
   "execution_count": null,
   "metadata": {},
   "outputs": [],
   "source": [
    "# for \n"
   ]
  },
  {
   "cell_type": "markdown",
   "metadata": {},
   "source": [
    "**Faustregel:** Verwenden Sie die ``for``-Schleife wenn immer Sie sich eignet."
   ]
  },
  {
   "cell_type": "markdown",
   "metadata": {},
   "source": [
    "***\n",
    "***Aufgabe 3.4*** Berechnen Sie die größte Primzahl ``prime``, die kleiner als ``1000`` ist."
   ]
  },
  {
   "cell_type": "code",
   "execution_count": null,
   "metadata": {
    "tags": []
   },
   "outputs": [],
   "source": [
    "# solve it\n"
   ]
  },
  {
   "cell_type": "markdown",
   "metadata": {},
   "source": [
    "***Aufgabe 3.5*** Addieren Sie alle Primzahlen von ``2`` aufsteigend auf bis die Summe durch ``42`` teilbar ist."
   ]
  },
  {
   "cell_type": "code",
   "execution_count": null,
   "metadata": {
    "tags": []
   },
   "outputs": [],
   "source": [
    "prime_sum = ...\n",
    "...\n",
    "print(prime_sum)\n",
    "print(prime_sum % 42 == 0)"
   ]
  },
  {
   "cell_type": "markdown",
   "metadata": {},
   "source": [
    "***"
   ]
  },
  {
   "cell_type": "code",
   "execution_count": null,
   "metadata": {},
   "outputs": [],
   "source": [
    "# endless game\n",
    "\n",
    "    "
   ]
  },
  {
   "cell_type": "code",
   "execution_count": null,
   "metadata": {},
   "outputs": [],
   "source": []
  },
  {
   "cell_type": "markdown",
   "metadata": {
    "deletable": false,
    "editable": false
   },
   "source": [
    "## Abgabe"
   ]
  },
  {
   "cell_type": "code",
   "execution_count": null,
   "metadata": {
    "deletable": false,
    "editable": false
   },
   "outputs": [],
   "source": [
    "grader.export(pdf=False, force_save=True, run_tests=True)"
   ]
  },
  {
   "cell_type": "markdown",
   "metadata": {},
   "source": [
    " "
   ]
  }
 ],
 "metadata": {
  "kernelspec": {
   "display_name": "Python 3 (ipykernel)",
   "language": "python",
   "name": "python3"
  },
  "language_info": {
   "codemirror_mode": {
    "name": "ipython",
    "version": 3
   },
   "file_extension": ".py",
   "mimetype": "text/x-python",
   "name": "python",
   "nbconvert_exporter": "python",
   "pygments_lexer": "ipython3",
   "version": "3.10.4"
  },
  "otter": {
   "OK_FORMAT": true,
   "tests": {
    "q2": {
     "name": "q2",
     "points": null,
     "suites": [
      {
       "cases": [
        {
         "code": ">>> sum_squares == sum(map(lambda x: x**2, range(n)))\nTrue",
         "hidden": false,
         "locked": false
        }
       ],
       "scored": true,
       "setup": "",
       "teardown": "",
       "type": "doctest"
      }
     ]
    },
    "q3": {
     "name": "q3",
     "points": null,
     "suites": [
      {
       "cases": [
        {
         "code": ">>> is_prime(1) == False\nTrue",
         "hidden": false,
         "locked": false
        },
        {
         "code": ">>> is_prime(2) == True\nTrue",
         "hidden": false,
         "locked": false
        },
        {
         "code": ">>> is_prime(71) == True\nTrue",
         "hidden": false,
         "locked": false
        },
        {
         "code": ">>> is_prime(24) == False\nTrue",
         "hidden": false,
         "locked": false
        },
        {
         "code": ">>> is_prime(39) == False\nTrue",
         "hidden": false,
         "locked": false
        }
       ],
       "scored": true,
       "setup": "",
       "teardown": "",
       "type": "doctest"
      }
     ]
    }
   }
  },
  "vscode": {
   "interpreter": {
    "hash": "aee8b7b246df8f9039afb4144a1f6fd8d2ca17a180786b69acc140d282b71a49"
   }
  }
 },
 "nbformat": 4,
 "nbformat_minor": 4
}

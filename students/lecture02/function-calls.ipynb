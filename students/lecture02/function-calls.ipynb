{
 "cells": [
  {
   "cell_type": "code",
   "execution_count": null,
   "id": "fe3f416a",
   "metadata": {
    "deletable": false,
    "editable": false
   },
   "outputs": [],
   "source": [
    "# Initialize Otter\n",
    "import otter\n",
    "grader = otter.Notebook(\"function-calls.ipynb\")"
   ]
  },
  {
   "cell_type": "markdown",
   "id": "ee1a5125",
   "metadata": {},
   "source": [
    "# 4 Funktionsaufrufe\n",
    "\n",
    "[CT-Buch Kapitel 13.3 Funktionsaufrufe](https://bzoennchen.github.io/ct-book/chapters/03-3/3-invoking-functions.html)\n",
    "\n",
    "Funktionen kapseln eine Folge von Befehlen, welche wir immer wieder ausführen können.\n",
    "Sie erhalten ihren eigenen sog. Namensraum.\n",
    "Das bedeutet, dass Variablen, die innerhalb der Funktion initialisiert werden, auch nur innerhalb dieser Funktion gültig sind -- ihr Lebensbereich ist auf die Funktion begrenzt.\n"
   ]
  },
  {
   "cell_type": "markdown",
   "id": "c9dc5ddd",
   "metadata": {},
   "source": [
    "Benutzten wir bereits existierende Funktionen, so kennen wir (jedenfalls sollte das so sein) das **WAS** aber nicht unbedingt das **WIE**. \n",
    "Das bedeutet für geübte Programmierer*innen, dass diese sich viel mit Dokumentationen diverser Module beschäftigen. \n",
    "Einerseits um das **WAS** in Erfahrung zu bringen und andererseits um eine Vorstellung vom **WIE** zu erhalten."
   ]
  },
  {
   "cell_type": "markdown",
   "id": "ef72e5a0",
   "metadata": {},
   "source": [
    "Wir rufen eine Funktion mit dem Namen ``name`` auf, indem wir an den Namen runde Klammern anfügen: \n",
    "\n",
    "```python\n",
    "name(par1, par2). \n",
    "```\n",
    "\n",
    "Funktionen erwarten eine bestimmte Anzahl an Parametern (hier ``par1``, ``par2``), wobei es manchmal auch optionale Parameter geben kann.\n",
    "Die Werte, die diese *Parameter* beim Funktionsaufruf annehmen, nennen wir *Argumente*."
   ]
  },
  {
   "cell_type": "code",
   "execution_count": null,
   "id": "7138f332",
   "metadata": {},
   "outputs": [],
   "source": [
    "help(print)"
   ]
  },
  {
   "cell_type": "markdown",
   "id": "b06700d4",
   "metadata": {},
   "source": [
    "``print`` hat die *Parameter*\n",
    "\n",
    "+ ``value``\n",
    "+ ``sep``\n",
    "+ ``end``\n",
    "+ ``file``\n",
    "+ ``flush``\n",
    "\n",
    "rufen wir "
   ]
  },
  {
   "cell_type": "code",
   "execution_count": null,
   "id": "f28a7713",
   "metadata": {},
   "outputs": [],
   "source": [
    "print(\"Hallo Welt!\")"
   ]
  },
  {
   "cell_type": "markdown",
   "id": "e2540468",
   "metadata": {},
   "source": [
    "auf, dann nimmt der *Parameter* ``value`` den Wert ``\"Hallo Welt!\"`` an.\n",
    "Wir sagen auch: Das erste *Argument* des Aufrufs ist ``\"Hallo Welt!\"``.\n",
    "\n",
    "``Python`` bietet uns viele vordefinierte *Funktionen* an.\n",
    "Diese befinden sich in der sog. Standardbibliothek unserer ``Python``-Implementierung."
   ]
  },
  {
   "cell_type": "code",
   "execution_count": null,
   "id": "9587f662",
   "metadata": {},
   "outputs": [],
   "source": [
    "# abs\n"
   ]
  },
  {
   "cell_type": "code",
   "execution_count": null,
   "id": "127c975c",
   "metadata": {},
   "outputs": [],
   "source": [
    "# round\n"
   ]
  },
  {
   "cell_type": "code",
   "execution_count": null,
   "id": "e14f4c62",
   "metadata": {},
   "outputs": [],
   "source": [
    "# max\n"
   ]
  },
  {
   "cell_type": "code",
   "execution_count": null,
   "id": "b4729998",
   "metadata": {},
   "outputs": [],
   "source": [
    "# max\n"
   ]
  },
  {
   "cell_type": "markdown",
   "id": "a1b72b25",
   "metadata": {},
   "source": [
    "Ein *Funktionsaufruf* ist ebenfalls ein *Ausdruck* und, wie beim Rechnen, werden Ausdrücke von innen nach außen *ausgewertet*.\n",
    "Blicken Sie auf folgenden Ausdruck:"
   ]
  },
  {
   "cell_type": "code",
   "execution_count": null,
   "id": "95ad8c4c",
   "metadata": {},
   "outputs": [],
   "source": [
    "round(max(abs(-abs(-3)), 3, 5 + 3) - 0.6)"
   ]
  },
  {
   "cell_type": "markdown",
   "id": "73de8258",
   "metadata": {},
   "source": [
    "<img src=\"./figs/eval.png\"\n",
    "     alt=\"Auswertungsreihenfolge\"\n",
    "     style=\"float: left; margin-right: 10px; height:700px\" />"
   ]
  },
  {
   "cell_type": "code",
   "execution_count": null,
   "id": "5be021c6",
   "metadata": {},
   "outputs": [],
   "source": [
    "# np random help\n"
   ]
  },
  {
   "cell_type": "code",
   "execution_count": null,
   "id": "5f1a8dc5",
   "metadata": {},
   "outputs": [],
   "source": [
    "# np.random.random\n"
   ]
  },
  {
   "cell_type": "markdown",
   "id": "a6072f67",
   "metadata": {},
   "source": [
    "***\n",
    "***Aufgabe 2.1*** Nutzten Sie die eingebaute Hilfe und betrachten Sie die Ausgabe von ``help(max)`` bzw. ``max``?. \n",
    "Beschreiben Sie die möglichen Argumente der Funktion ``max`` und das **WAS** jener Funktion. \n",
    "Sie müssen nicht jedes Wort verstehen aber ziehen Sie ihre Schlüsse."
   ]
  },
  {
   "cell_type": "markdown",
   "id": "0e878708",
   "metadata": {},
   "source": [
    "_Ersetzen Sie diesen Text durch Ihre Antwort._"
   ]
  },
  {
   "cell_type": "markdown",
   "id": "c4e4ed8a",
   "metadata": {
    "deletable": false,
    "editable": false
   },
   "source": [
    "## Abgabe"
   ]
  },
  {
   "cell_type": "code",
   "execution_count": null,
   "id": "aebed8de",
   "metadata": {
    "deletable": false,
    "editable": false
   },
   "outputs": [],
   "source": [
    "grader.export(pdf=False, force_save=True, run_tests=True)"
   ]
  },
  {
   "cell_type": "markdown",
   "id": "741abe45",
   "metadata": {},
   "source": [
    " "
   ]
  }
 ],
 "metadata": {
  "kernelspec": {
   "display_name": "Python 3 (ipykernel)",
   "language": "python",
   "name": "python3"
  },
  "language_info": {
   "codemirror_mode": {
    "name": "ipython",
    "version": 3
   },
   "file_extension": ".py",
   "mimetype": "text/x-python",
   "name": "python",
   "nbconvert_exporter": "python",
   "pygments_lexer": "ipython3",
   "version": "3.10.4"
  },
  "otter": {
   "OK_FORMAT": true,
   "tests": {}
  },
  "vscode": {
   "interpreter": {
    "hash": "aee8b7b246df8f9039afb4144a1f6fd8d2ca17a180786b69acc140d282b71a49"
   }
  }
 },
 "nbformat": 4,
 "nbformat_minor": 5
}

{
 "cells": [
  {
   "cell_type": "markdown",
   "metadata": {},
   "source": [
    "# Vorlesung \"Computational Thinking\" \n",
    "## CT_3\n",
    "#### Prof. Dr.-Ing. Martin Hobelsberger, Dr. Benedikt Zönnchen"
   ]
  },
  {
   "cell_type": "markdown",
   "metadata": {},
   "source": [
    "***\n",
    "### Lernziele dieser Einheit\n",
    "* Dateien Öffnen/Lesen/Schreiben\n",
    "* Sequenzielle Datentypen und ausgewählte Operationen auf diese\n",
    "\n",
    "\n",
    "#### Was Sie bisher schon Wissen/Können sollten\n",
    "\n",
    "* Variablen\n",
    "* Einfache Datentypen\n",
    "* Arithmetische Ausdrücke und Vergleiche\n",
    "* Kontrollstrukturen\n",
    "***"
   ]
  },
  {
   "cell_type": "markdown",
   "metadata": {},
   "source": [
    "## Wiederholung zu Kontrollstrukturen - Ein Beispiel\n",
    "\n",
    "Wir wurden beauftragt einen [Datensatz wirrer Kreaturen](https://www.kaggle.com/abcsds/pokemon/notebooks) zu analysieren. Dieser Datensatz ist zu umfangreich um mit \"der Hand\" analysiert zu werden. Um aber Analysen darauf durchzuführen müssen wir diesen zuallererst [öffnen](https://docs.python.org/3/library/functions.html#open) und einlesen. "
   ]
  },
  {
   "cell_type": "markdown",
   "metadata": {},
   "source": [
    "### Exkurs: Zugriff auf Dateien (Files)"
   ]
  },
  {
   "cell_type": "markdown",
   "metadata": {},
   "source": [
    "```shell\n",
    "\\\n",
    "|\n",
    "|--data\\\n",
    "|  |\n",
    "|  |-- hallowelt.txt\n",
    "|  |-- pokemon.csv\n",
    "|\n",
    "|--img\n",
    "|  |\n",
    "|  |-- bulbasaur.png\n",
    "```"
   ]
  },
  {
   "cell_type": "code",
   "execution_count": null,
   "metadata": {},
   "outputs": [],
   "source": [
    "# Files öffnen, lesen, schreiben, schließen\n",
    "\n"
   ]
  },
  {
   "cell_type": "code",
   "execution_count": null,
   "metadata": {},
   "outputs": [],
   "source": [
    "#Files öffnen mit 'with'\n"
   ]
  },
  {
   "cell_type": "markdown",
   "metadata": {},
   "source": [
    "<span style='color:blue '> **Homework:** </span>\n",
    "Lesen/Schreiben Sie in eine Datei *name.txt* Ihren Namen. Experimentieren Sie mit den verschiedenen Parametern `r, w, a, b` und diskutieren Sie diese mit Ihrer/Ihrem Teampartnerin/Teampartner."
   ]
  },
  {
   "cell_type": "markdown",
   "metadata": {},
   "source": [
    "Da es sich bei dem Datensatz um \"Comma Separeted Values\" (CSV) Daten handelt nutzen wir hierzu eine von Python [zur Verfügung gestellte Bibliothek](https://docs.python.org/3/library/csv.html)."
   ]
  },
  {
   "cell_type": "code",
   "execution_count": null,
   "metadata": {},
   "outputs": [],
   "source": [
    "# CSV Einlesen\n"
   ]
  },
  {
   "cell_type": "code",
   "execution_count": null,
   "metadata": {},
   "outputs": [],
   "source": [
    "# Some fun with Data\n"
   ]
  },
  {
   "cell_type": "code",
   "execution_count": null,
   "metadata": {},
   "outputs": [],
   "source": [
    "# Datensatz mit dem Modul Pandas einlesen --> Eigene Vorlesung dazu später im Semester\n",
    "\n",
    "import pandas as pd\n",
    "df = pd.read_csv('data\\pokemon.csv', nrows=100)\n",
    "df[:50]"
   ]
  },
  {
   "cell_type": "markdown",
   "metadata": {},
   "source": [
    "***"
   ]
  },
  {
   "cell_type": "markdown",
   "metadata": {},
   "source": [
    "## Variablen\n",
    "\n",
    "In der Programmiersprache Python ist die Variable ein Name bzw. ein Bezeichner mit dem man auf ein Objekt im Speicher zugreifen (referenzieren) kann. Diese Objekte können beliebige Datentypen sein. "
   ]
  },
  {
   "cell_type": "code",
   "execution_count": null,
   "metadata": {},
   "outputs": [],
   "source": [
    "# Zuweisung/Definition einer Variable\n",
    "x = 42  # Erzeugung eines Integer-Objektes 42 und Referenzierung dieses mit dem Namen x\n",
    "name = 'Martin Hobelsberger' # Erzeugung eines Str-objektes und Referenzierung dieses über name"
   ]
  },
  {
   "cell_type": "markdown",
   "metadata": {},
   "source": [
    "**Gültige Variablennamen**\n",
    "* Müssen mit einem Buchstaben oder Unterstrich \"_\" beginnen\n",
    "* Variablennamen sind \"Case-Sensitive\" (Unterscheidung zwischen Groß- und Kleinschreibung)\n",
    "* Es dürfen keine reservierten Befehlswörter verwendet werden\n",
    "* Keine Leerzeichen im Namen\n",
    "* Keine Symbole wie :'\",<>/?|\\()!@#$%^&*~-+\n",
    "* *Best Practice ([PEP8](https://www.python.org/dev/peps/pep-0008/#function-and-variable-names, \"PEP8\"))*: lowercase und sprechende Namen"
   ]
  },
  {
   "cell_type": "markdown",
   "metadata": {},
   "source": [
    "*Temporäre Variable*\n",
    "\n",
    "Ein einfacher Underscore `_` gibt an das eine Variable temporär oder \"nicht signifikant\" ist. "
   ]
  },
  {
   "cell_type": "code",
   "execution_count": null,
   "metadata": {
    "tags": []
   },
   "outputs": [],
   "source": [
    "for _ in range(5):\n",
    "  print(_)"
   ]
  },
  {
   "cell_type": "markdown",
   "metadata": {},
   "source": [
    "### Daten(typen)\n",
    "Ein Computer speichert Daten in digitaler Form in einer Folge von Nullen und Einsen.  \n",
    "\n",
    "Ein Bit (die kleineste Einheit) kann die Werte 0 oder 1 annehmen. Acht Bits werden zu einem Byte zusammengefasst. Mit einem Byte können wir damit 256 (2^8) verschiedene Werte speichern (jede mögliche Kombination aus acht Nullen und Einsen). Mit einem Byte im *Speicher* können wir also 256 Werte speichern! Mehrere Bytes werden wiederum zu größeren Einheiten zusammengefasst: \n",
    "\n",
    "| Name              | Bedeutung        |              |                                   |\n",
    "| :----------------- | :-------------- | :----------  | :-------------------------------- |\n",
    "| 1KB (Kilobyte)    | =1024 Byte       | =2^10 Byte   |  entspricht ca. 1024 Zeichen      |\n",
    "| 1MB (Megabyte)    | =1024 Kilobyte   | =2^20 Byte   |  entspricht ca. 1 Mill. Zeichen   |\n",
    "| 1GB (Gigabyte)    | =1024 Megabyte   | =2^30 Byte   |  entspricht ca. 1 Mrd. Zeichen    |\n",
    "| 1TB (Terabyte)    | =1024 Gigabyte   | =2^40 Byte   |  entspricht ca. 1 Bio. Zeichen    |\n",
    "\n",
    "\n",
    "Ein **Datentyp** (kurz Typ) legt fest, **wie viele Bytes für ein Attribut im Speicher verwendet werden** und **wie diese Bytes interpretiert werden** sollen. "
   ]
  },
  {
   "cell_type": "markdown",
   "metadata": {},
   "source": [
    "## Datentypen\n",
    "\n",
    "#### Gängige \"build-in\" Python Datentypen\n",
    "Siehe auch: [Python Datentypen](https://docs.python.org/3/library/stdtypes.html)\n",
    "\n",
    "| Name | Typ | Beschreibung | Beispiel |\n",
    "| :--- | :--- | :--- | :--- |\n",
    "| integer | `int` | positive/negative ganze Zahl | `42` |\n",
    "| floating point number | `float` | Reelle Zahl | `3.14159` |\n",
    "| complex | `complex` | Komplexe Zahl | reele Zahl die mit der imaginären Einheit `j` multipliziert wird |\n",
    "| boolean | `bool` | Wahr oder Falsch | `True` |\n",
    "| string | `str` | text | `\"Hallo Welt\"` |\n",
    "| list | `list` | eine Sammlung von Objekten - mutable & geordnet | `['Sarah','Simon','Babar','Sebastian','Martin']` |\n",
    "| tuple | `tuple` | eine Sammlung von Objekten - immutable & geordnet | `('Mittwoch',21,10,2020)` |\n",
    "| dictionary | `dict` | Mapping von Schlüssel-Wert Paaren | `{'name':'CT','code':42,'credits':10}` |\n",
    "| none | `NoneType` | Repräsentiert \"no value\" | `None` |\n",
    "\n",
    "### Numerische Datentypen und Arithmetische Operationen\n",
    "\n",
    "* für ganze Zahlen: `int`\n",
    "* für Gleitkommazahlen: `float`\n",
    "* für komplexe Zahlen: `complex`\n",
    "* für boolsche Werte: `bool`"
   ]
  },
  {
   "cell_type": "code",
   "execution_count": null,
   "metadata": {
    "tags": []
   },
   "outputs": [],
   "source": [
    "# Größe im Speicher\n",
    "# Nutzung des Modules \"Sys\" der Python Standard Library --> https://docs.python.org/3/library/sys.html \n",
    "\n",
    "import sys\n",
    "\n"
   ]
  },
  {
   "cell_type": "markdown",
   "metadata": {},
   "source": [
    "<span style='color:blue '> **Hausaufgabe:** </span>\n",
    "* Recherchieren welcher Zahlenraum auf einem 32-Bit System mit dem Datentyp Integer in der Programmiersprache C abgedeckt werden kann. \n",
    "* Wieviel Byte entsprechen 32-Bit bzw. 64-Bit?\n",
    "* Recherchieren Sie was die Zahl hinter dem 'e' bei der Exponential-Schreibweise angibt. "
   ]
  },
  {
   "cell_type": "markdown",
   "metadata": {},
   "source": [
    "## Dynamische und Statische Typdeklaration\n",
    "\n",
    "*Vorteile:*\n",
    "* Einfach in der Verwendung\n",
    "\n",
    "*Nachteil:*\n",
    "* Mögliche Fehlerquelle (Verwenden Sie `type()`)\n",
    "\n",
    "**Effizient betriebene Datenanalyse und Computation** benötigt ein Verständnis dafür wie Daten gespeichert und manipuliert werden. Python wird oft als \"leicht zu erlernende\" Sprache verstanden - ein Grund dafür ist die dynamische Typdeklaration. In Sprachen mit statischer Typdeklaration (wie C oder auch Java) muss jede Variable explizit deklariert werden. \n",
    "\n",
    "Ein Beispiel in C wäre:\n",
    "\n",
    "```C\n",
    "/* C code */\n",
    "int result = 0;\n",
    "for(int i=0; i<10; i++){\n",
    "    result += i;\n",
    "}\n",
    "```\n",
    "\n",
    "Das Äquivalent in Python sieht dagegen so aus:\n",
    "\n",
    "```python\n",
    "# Python code\n",
    "result = 0\n",
    "for i in range(10)\n",
    "    result += i\n",
    "```\n",
    "\n",
    "In Python können wir jede Art von Daten einer Variable zuweisen:\n",
    "\n",
    "```python\n",
    "# Python code\n",
    "x = 4\n",
    "x = \"four\"\n",
    "```\n",
    "\n",
    "Hier wurde der Inhalt von ``x`` von einem Integer zu einem String verändert. Das selbe in C würde zu einem Error (Abhängig von den Compilerflags) führen: \n",
    "\n",
    "```C\n",
    "/* C code */\n",
    "int x = 4;\n",
    "x = \"four\";  // FAILS\n",
    "```\n"
   ]
  },
  {
   "cell_type": "code",
   "execution_count": null,
   "metadata": {},
   "outputs": [],
   "source": [
    "# Fehlersuche mit type(), TypeError, Typumwandlung\n",
    "\n",
    "\n"
   ]
  },
  {
   "cell_type": "markdown",
   "metadata": {},
   "source": [
    "## Sequenzielle Datentypen\n",
    "\n",
    "In die Kategorie der sequenziellen Datentypen fallen Datentypen, die **Folgen von Elementen** zusammenfassen. Die Elemente müssen nicht zwingend vom gleichen Datentyp *(ausgenommen String)* sein. Innerhalb des sequenziellen Datentyps haben die Elemente eine definierte Reihenfolge. Auf die Elemente kann über einen Index zugegriffen werden.\n",
    "\n",
    "Zur Kategorie der sequenziellen Datennntypen gehören:\n",
    "\n",
    "* `str` für die Verarbeitung von Zeichenketten\n",
    "* `list` und `tuple` für die Speicherung beliebiger Instanzen. Wobei eine `list` nach ihrer Erzeugung verändert werden kann *(mutable)*, ein `tuple` hingegen ist nach der Erzeugung nicht mehr veränderbar *(immutable)*.\n",
    "\n",
    "\n",
    "## Zeichenketten (Strings)"
   ]
  },
  {
   "cell_type": "code",
   "execution_count": null,
   "metadata": {},
   "outputs": [],
   "source": [
    "#Eingabe über Input... Martin, Sarah, Bene -> String\n",
    "\n"
   ]
  },
  {
   "cell_type": "code",
   "execution_count": null,
   "metadata": {},
   "outputs": [],
   "source": [
    "# String erzeugen, ausgeben\n",
    "\n"
   ]
  },
  {
   "cell_type": "markdown",
   "metadata": {},
   "source": [
    "**Steuerzeichen** \n",
    "* `\\n` für Zeilenumbruch, \n",
    "* `\\t` für horizontaler Tab, \n",
    "* `\\v` für vertikaler Tab, \n",
    "* `\\b` für Backspace, \n",
    "* `\\\"` für Doppeltes Hochkomma innerhalb eines String, \n",
    "* `\\'` für Einfaches Hochkomma innerhalb eines String"
   ]
  },
  {
   "cell_type": "code",
   "execution_count": null,
   "metadata": {
    "tags": []
   },
   "outputs": [],
   "source": [
    "# String Ausgabe mit Steuerzeichen\n"
   ]
  },
  {
   "cell_type": "markdown",
   "metadata": {},
   "source": [
    "**Für alle sequenziellen Datentypen sind folgende Operationen definiert:**\n",
    "\n",
    "* `x in s` prüft ob sich x in s befindet (Booelesches Ergebnis),\n",
    "* `x not in s` prüft ob sich x nicht in s befindet (Booelesches Ergebnis),\n",
    "* `s+t` erzeugt Verkettung von s und t als neue Sequenz,\n",
    "* `s+=t` hängt das Elenent t an die Sequenz s an,\n",
    "* `s*n` liefert neue Sequenz in der die Sequenz s n-fach kopiert ist,\n",
    "* `s[i]` liefert das i.te Element der Sequenz s,\n",
    "* `s[i:j]` liefert den Ausschnitt von Index i bis Index j von s. Bitte beachten das der j-te Index nicht inkludiert ist!\n",
    "* `s[i:j:k]` liefert den Ausschnitt von Index i bis Index j von s, wobei nur jedes k.te Element innerhalb dieses Ausschnitts beachtet wird,\n",
    "* `len(s)` liefert die Anzahl der Elemente in s,\n",
    "* `min(s)` liefert das kleinste Element von s, falls für die Elemente von s eine Ordnungsrelation definiert ist,\n",
    "* `max(s)` liefert das grösste Element von s, falls für die Elemente von s eine Ordnungsrelation definiert ist.\n"
   ]
  },
  {
   "cell_type": "code",
   "execution_count": null,
   "metadata": {},
   "outputs": [],
   "source": [
    "# Strings sind immutable! Operationen auf Strings,  indizieren (inkl. negativ Indexing), Teilbereichsoperator verwenden\n",
    "\n",
    "\n"
   ]
  },
  {
   "cell_type": "markdown",
   "metadata": {},
   "source": [
    "### String Methoden\n",
    "Objekte in Python haben in der Regel \"built-in\" Methoden. Diese Methoden sind Funktionen innerhalb des Objektes (mehr dazu später!) welche Aktionen auf das Objekt selber anwenden. Methodenaufrufe sind immer in der Form:\n",
    "\n",
    "`objekt.methode(parameter)`\n",
    "\n",
    "Parameter sind dabei Argumente welche der Methode übergeben werden können. Die einzelnen Methoden können Sie der Python Doku entnehmen. Beispiele für Methoden sind u.a.:\n",
    "\n",
    "**Aufspalten von Strings**\n",
    "* `s.split(sep)`:  trennt den String s an den Stellen, wo das Trennzeichen `sep` in `s` vorkommt. Wird der Methode kein Trennzeichen als Argument übergeben, dann wird s an allen Whitespaces getrennt. Die Methode gibt eine Liste von Strings zurück.\n",
    "* `s.splitlines()`:  Spaltet den String an den Zeilenumbruchstellen (\\n oder \\r) auf und gibt eine Liste mit der einzelnen Zeilen zurück."
   ]
  },
  {
   "cell_type": "code",
   "execution_count": null,
   "metadata": {},
   "outputs": [],
   "source": [
    "# String Methoden: Aufspalten von Strings\n",
    "\n"
   ]
  },
  {
   "cell_type": "markdown",
   "metadata": {},
   "source": [
    "**Suchen in Strings**\n",
    "* `s.find(x, *start*, *end*)`: liefert den Index des ersten Vorkommens von `x` im String `s`\n",
    "* `s.rfind(x, start*, *end*)`: liefert den Index des letzten Vorkommens von `x` im String `s`"
   ]
  },
  {
   "cell_type": "code",
   "execution_count": null,
   "metadata": {},
   "outputs": [],
   "source": [
    "# String Methoden: Suchen in String\n",
    "\n",
    "s = '<span>Text aus einem Dokument <br> das automatisiert <br> von einer Website \\'gescraped\\' wurde'\n",
    "\n"
   ]
  },
  {
   "cell_type": "markdown",
   "metadata": {},
   "source": [
    "**Ersetzen von Teilstrings und Entfernen von Zeichen**\n",
    "* `s.replace(old,new)`: ersetzt alle Vorkommen von old durch new\n",
    "* `s.lower()`: ersetzt alle Grossbuchstaben in `s` durch Kleinbuchstaben\n",
    "* `s.upper()`: ersetzt alle Kleinbuchstaben in `s` durch Grossbuchstaben\n",
    "* `s.strip([char])`: entfernt die in `[char]` definierten Zeichen am linken und rechten Rand von `s`"
   ]
  },
  {
   "cell_type": "code",
   "execution_count": null,
   "metadata": {},
   "outputs": [],
   "source": [
    "# String Methoden: Ersetzen/Entfernen von Zeichen\n",
    "\n",
    "s = '<span>Text aus einem Dokument <br> das automatisiert <br> von einer Website \\'gescraped\\' wurde'\n",
    "s.replace('<br> ','')\n",
    "\n",
    "t='<tag>Informationen die alleine stehen sollen<tag>'\n",
    "t.strip('<tag>')\n",
    "\n",
    "t.upper()\n"
   ]
  },
  {
   "cell_type": "markdown",
   "metadata": {},
   "source": [
    "**Pre-/Postfix, NEU und NUR in Python >3.9**\n",
    "`s.removeprefix()`: entfernt einen mit Hochkomma übergebenen Prefix\n",
    "`s.removesuffix()`: entfernt einen mit Hochkomma übergebenen Suffix\n"
   ]
  },
  {
   "cell_type": "code",
   "execution_count": null,
   "metadata": {},
   "outputs": [],
   "source": [
    "# String Methoden: Remove Pre-/Suffix\n",
    "\n",
    "\"foo bar\".removeprefix(\"fo\")\n",
    "\"foo bar\".removesuffix(\"ar\")"
   ]
  },
  {
   "cell_type": "markdown",
   "metadata": {},
   "source": [
    "### String Formatierung\n",
    "Bisher haben wir Strings miteinander verkettet oder über Index/Slicing verändert. Mit der sogenannten *String Formatierung* lassen sich Elemente in Strings einfügen. Ein kleines Beispiel:\n",
    "\n",
    "Es soll eine Nachricht an alle Studierenden mit Ihrer Punktezahl im LiveProgramming geschickt werden in der Form: \n",
    "\n",
    "Der Studierende XXX erreichte XXX Punkte\n",
    "\n",
    "```\n",
    "studierender = 'Martin Hobelsberger'\n",
    "lp_punkte = 98\n",
    "\n",
    "```\n",
    "\n",
    "Es gibt (aktuell) mehrere Wege für die String Formatierung:\n",
    "* *Concatenation* durch Verbindung mit `+`\n",
    "* Eine weit verbreitete Methode nutzt die `.format()` String Methode --> [Python Doku](https://docs.python.org/3/library/string.html#formatstrings)\n",
    "* Mit Python 3.6 wurden sogenannte *formatted string literals* (als f-strings bezeichnet) eingeführt --> [Python Doku](https://docs.python.org/3/reference/lexical_analysis.html#f-strings)"
   ]
  },
  {
   "cell_type": "code",
   "execution_count": null,
   "metadata": {},
   "outputs": [],
   "source": [
    "# String Formatierung\n",
    "\n",
    "studierender = 'Martin Hobelsberger'\n",
    "lp_punkte = 98\n",
    "\n",
    "print('Der Studierende ' + studierender + ' erreichte ' + str(lp_punkte) + ' Punkte')\n",
    "print('Der Studierende {0} erreichte {1} Punkte'.format(studierender, lp_punkte))\n",
    "print(f'Der Studierende {studierender} erreichte {lp_punkte} Punkte')\n",
    "\n",
    "print(f'Max Punkte: {lp_punkte*2}')\n"
   ]
  },
  {
   "cell_type": "markdown",
   "metadata": {},
   "source": [
    "## Listen\n",
    "\n",
    "Eine Liste (`list`) kann Elemente unterschiedlichen Datentyps enthalten. **Eine Liste kann auch nach ihrer Erzeugung verändert werden (mutable).** Da die Liste ein sequenzieller Datentyp ist, können auf Instanzen diesen Typs alle bisher definierten Operationen angewandt werden. Zusätzlich zu den bereits bekannten Operatoren, sind für Listen folgende definiert:\n",
    "\n",
    "\n",
    "* `s[i]=x` das i-te Element der Liste `s` wird durch `x` ersetzt,\n",
    "* `s[i:j]=t` der Ausschnitt von Element `i` bis Element `j` wird durch `t` ersetzt\n",
    "* `s[i:j:k]=t` die Elemente von `s[i:j:k]` werden durch `t` ersetzt,\n",
    "* `del s[i]` das i.te Element wird aus `s` entfernt\n",
    "* `del s[i:j]` die Elemente `s[i:j]` werden aus `s` entfernt\n",
    "* `del s[i:j:k]` die Elemente `s[i:j:k]` werden aus `s` entfernt"
   ]
  },
  {
   "cell_type": "code",
   "execution_count": null,
   "metadata": {},
   "outputs": [],
   "source": [
    "# Listen indizierung/slicing\n",
    "studi_list = ['Sarah', 'Martin', 'Babar', 'Sebastian', 'Simon', 'Eve']\n",
    "\n",
    "\n"
   ]
  },
  {
   "cell_type": "markdown",
   "metadata": {},
   "source": [
    "### Kopien (von Listen und anderen Objekten)\n",
    "\n",
    "Ist `L` eine Liste, dann wird durch `C=L` eine **Kopie der Referenz auf die Liste**, auf welche `L` zeigt, angelegt. D.h. `C` zeigt auf den gleichen *Speicher* wie `L`, jedoch werden **nicht die Listenelemente kopiert**. Eine *flache Kopie* einer Liste kann mit `C=L[:]` angelegt werden. Um tiefe Kopien von Listen (allgemein von Objekten) zu erstellen kann die Funktion `copy.deepcopy()` aus dem *Paket `copy`* verwendet werden (das Paket muss zuvor importiert werden).\n",
    "\n",
    "Listen können nicht nur mit den genannten Operationen manipuliert werden. Für Referenzen auf Listen können auch Methoden aufgerufen werden."
   ]
  },
  {
   "cell_type": "code",
   "execution_count": null,
   "metadata": {},
   "outputs": [],
   "source": [
    "# Kopieren einer Liste\n"
   ]
  },
  {
   "cell_type": "markdown",
   "metadata": {},
   "source": [
    "####  <span style='color:blue '> Hausaufgabe </span>\n",
    "Recherchieren Sie den *Unterschied zwischen flacher und tiefer Kopie*! Was ist das Anwendungsgebiet? Überlegen Sie sich ein (Code)Beispiel an dem Sie den Unterschied demonstrieren können. "
   ]
  },
  {
   "cell_type": "markdown",
   "metadata": {},
   "source": [
    "### Methoden auf Listen und Verschachtelung\n",
    "\n",
    "* `s.append(x)`: hängt `x` an das Ende der Liste an,\n",
    "* `s.extend(x)`: hängt die Elemente von `x` an das Ende der Liste an,\n",
    "* `s.count(x)`: zählt wie häufig das Element `x` in `s` vorkommt,\n",
    "* `s.index(x)`: liefert den Index an dem der Wert `x` erstmalig in `s` auftritt,\n",
    "* `s.insert(i, x)`: fügt `x` am Index `i` in `s` ein,\n",
    "* `s.pop(i)`: liefert das i.te Element der Liste und entfernt es aus dieser. Ohne Argument wird einfach das letzte Element herausgenommen,\n",
    "* `s.remove(x)`: entfernt das erste Vorkommen von `x` aus `s`,\n",
    "* `s.reverse()`: Kehrt die Reihenfolge der Elemente in `s` um,\n",
    "* `s.sort()`: sortiert Liste nach aufsteigenden Werten. Mit `s.sort(reverse=True)` wird Liste absteigend sortiert.\n"
   ]
  },
  {
   "cell_type": "code",
   "execution_count": null,
   "metadata": {},
   "outputs": [],
   "source": [
    "# Listen Methoden und verschachtelte Listen\n"
   ]
  },
  {
   "cell_type": "code",
   "execution_count": null,
   "metadata": {
    "tags": []
   },
   "outputs": [],
   "source": [
    "# Mit der range() Methode eine Liste mit ganzen Zahlen erstellen\n",
    "\n"
   ]
  },
  {
   "cell_type": "code",
   "execution_count": null,
   "metadata": {},
   "outputs": [],
   "source": [
    "# Zweidimensionale Listen\n",
    "\n"
   ]
  },
  {
   "cell_type": "markdown",
   "metadata": {},
   "source": [
    "## Tuple\n",
    "Im Gegensatz zu Listen sind Tuple **immutable**, sie können also *nach dem Erzeugen nicht mehr verändert werden*. Genauer: Beim Erzeugen eines Tuple werden die Element-Referenzen festgelegt, die sich danach nicht mehr ändern können. Verweist jedoch eine Referenz auf ein Objekt vom Typ mutable, und ändert sich dieses Objekt, dann ändert sich auch der Inhalt der Liste.\n",
    "\n",
    "Man verwendet Tuple für Inhalte die sich nicht ändern sollen wie z.B.: Wochentage oder feste Termine im Kalender. Tuple werden nicht so oft wie Listen verwendet aber sind nützlich um z.B. Objekte zu übergeben die sich nicht ändern dürfen. \n",
    "\n",
    "Tuple werden nicht mit eckigen, sondern mit runden Klammern angelegt. Der Zugriff auf einzelne Elemente wird jedoch wie im Fall der Listen mit eckigen Klammern realisiert. Lässt man die umschliessenden Klammern weg, wird die Sequenz aus mit Komma getrennten Elementen inherent als Tuple angelegt."
   ]
  },
  {
   "cell_type": "code",
   "execution_count": null,
   "metadata": {},
   "outputs": [],
   "source": [
    "# Tuple Beispiele\n",
    "\n"
   ]
  },
  {
   "cell_type": "markdown",
   "metadata": {},
   "source": [
    "## Mengen (Sets)\n",
    "Eine Menge ist ein *ungeordneter Zusammenschluss* von Elementen, wobei **jedes Element nur einmal** vorkommen kann. In Python gibt es für mutable Mengen den Typ `set`, für immutable Mengen den Typ `frozenset`."
   ]
  },
  {
   "cell_type": "code",
   "execution_count": null,
   "metadata": {},
   "outputs": [],
   "source": [
    "# leere Menge\n",
    "\n",
    "\n"
   ]
  },
  {
   "cell_type": "markdown",
   "metadata": {},
   "source": [
    "**Operationen auf Sets**\n",
    "\n",
    "* `len(m)`: liefert die Anzahl der Elemente in `m`\n",
    "* `x in m`: ist True, wenn `x` in `m` enthalten ist\n",
    "* `m<=t`: ist True, wenn `m` eine Teilmenge von `t` ist\n",
    "* `m<t`: ist True, wenn `m` eine echte Teilmenge von `t` ist\n",
    "* `m|t`: erzeugt eine neue Menge, die alle Elemente von `m` und `t` enthält (Vereiningungsmenge)\n",
    "* `m&t`: enthält eine neue Menge, die alle Elemente, welche in `m` und `t` vorkommen enthält (Schnittmenge)\n",
    "* `m-t`: erzeugt eine neue Menge mit allen Elementen aus `m`, ausser den in `t` enthaltenen\n",
    "* `m^t`: erzeugt eine neue Menge mit allen Elementen aus `m` und `t`, ausser denen die in beiden Mengen vorkommen\n",
    "\n",
    "Nur für Objekte der veränderlichen Mengen vom Typ `set` sind folgende Methoden definiert:\n",
    "\n",
    "* `m.add(t)`: fügt das Element `t` in das Set `m` ein\n",
    "* `m.discard(t)`: löscht das Element `t` aus dem Set `m` (wird ignoriert falls `t` in `m` nicht vorhanden\n",
    "* `m.clear()`: löscht alle Elemente aus `m`\n",
    "\n",
    "Auf die Elemente einer Menge kann nicht direkt über einen Index zugegriffen werden. Hierfür muss die Menge m wieder in eine Liste `l` mit `l=sorted(m)` transformiert werden."
   ]
  },
  {
   "cell_type": "code",
   "execution_count": null,
   "metadata": {},
   "outputs": [],
   "source": [
    "# Fun with sets"
   ]
  }
 ],
 "metadata": {
  "kernelspec": {
   "display_name": "Python 3.10.2 64-bit",
   "language": "python",
   "name": "python3"
  },
  "language_info": {
   "codemirror_mode": {
    "name": "ipython",
    "version": 3
   },
   "file_extension": ".py",
   "mimetype": "text/x-python",
   "name": "python",
   "nbconvert_exporter": "python",
   "pygments_lexer": "ipython3",
   "version": "3.10.2"
  },
  "vscode": {
   "interpreter": {
    "hash": "e7ccb2a435b656723dafd2fb88eb02b6891256ab8b77d2cf3044cea9811453d0"
   }
  }
 },
 "nbformat": 4,
 "nbformat_minor": 2
}

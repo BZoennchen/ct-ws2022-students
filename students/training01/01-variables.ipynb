{
 "cells": [
  {
   "cell_type": "code",
   "execution_count": null,
   "id": "c98bd65b",
   "metadata": {
    "deletable": false,
    "editable": false
   },
   "outputs": [],
   "source": [
    "# Initialize Otter\n",
    "import otter\n",
    "grader = otter.Notebook(\"01-variables.ipynb\")"
   ]
  },
  {
   "cell_type": "markdown",
   "id": "269a2ed0",
   "metadata": {},
   "source": [
    "# 1 Grundlagen - Variablen\n",
    "\n",
    "[CT-Buch Kapitel 13.1 Variablen](https://bzoennchen.github.io/ct-book/chapters/03-3/1-variables.html)\n",
    "\n",
    "*Variablen* können wir uns intuitiv zunächst als Namen oder Bezeichnung eines Wertes vorstellen.\n",
    "Mit diesem Namen können wir einen Wert im *Arbeitsspeicherspeicher* des Computers identifizieren.\n",
    "So können wir uns Zwischenergebnisse merken und damit weiter rechnen.\n",
    "\n",
    "## 1.1 Initialisierung und Zuweisung\n",
    "\n",
    "Durch das ``=`` Zeichen weisen wir einer *Variablen* auf der linken Seite den Wert des *Ausdrucks* auf der rechten Seite zu: ``[Variable] = [Ausdruck]``.\n",
    "Zum Beispiel, weist"
   ]
  },
  {
   "cell_type": "code",
   "execution_count": null,
   "id": "900927d5",
   "metadata": {},
   "outputs": [],
   "source": [
    "x = 3 + 10"
   ]
  },
  {
   "cell_type": "markdown",
   "id": "334fd78d",
   "metadata": {},
   "source": [
    "den ausgewerteten Wert ``3 + 10``, also ``13`` der Variablen ``x`` zu.\n",
    "Der Ausdruck ``3 + 10`` wird vor der Zuweisung ausgewertet / berechnet.\n",
    "Es ist äußerst wichtig, dass Sie zwischen dem ``=`` (Zuweisung) und dem mathematischen $=$ (Vergleich) unterscheiden.\n",
    "\n",
    "$$x = 13$$\n",
    "\n",
    "bedeutet, dass $x$ gleich $13$ ist, wohingegen"
   ]
  },
  {
   "cell_type": "code",
   "execution_count": null,
   "id": "f793b95f",
   "metadata": {},
   "outputs": [],
   "source": [
    "x = 13"
   ]
  },
  {
   "cell_type": "markdown",
   "id": "c402f740",
   "metadata": {},
   "source": [
    "den Wert der Variablen ``x`` auf ``13`` setzt oder genaue die Variable auf einen Speicherbereich verweisen lässt, welcher den Wert ``13`` enthält.\n",
    "Um das mathematisch auszurücken verwendet man oft eine Pfeil $\\leftarrow$, also \n",
    "\n",
    "$$x \\leftarrow 13.$$\n",
    "\n",
    "Der Pfeil soll verdeutlichen, dass es sich um eine *Zuweisung* handelt. Mit"
   ]
  },
  {
   "cell_type": "code",
   "execution_count": null,
   "id": "ebde1009",
   "metadata": {},
   "outputs": [],
   "source": [
    "x = None"
   ]
  },
  {
   "cell_type": "markdown",
   "id": "4dd829e0",
   "metadata": {},
   "source": [
    "weisen wir ``x`` den Wert ``None`` d.h. 'Nichts' zu. Doch ist dieses 'Nichts' nicht nichts ;) sondern **repräsentiert** das Nichts.\n",
    "\n",
    "Versuchen wir eine *Variable* zu verarbeiten, die noch nicht initialisiert wurde, so erhalten wir einen Fehler:"
   ]
  },
  {
   "cell_type": "code",
   "execution_count": null,
   "id": "15f3aba0",
   "metadata": {},
   "outputs": [],
   "source": [
    "v + 20"
   ]
  },
  {
   "cell_type": "markdown",
   "id": "f25db117",
   "metadata": {},
   "source": [
    "Die Fehlermeldung des Interpreters ``name 'v' is not defined`` weist uns darauf hin, dass die *Variable* ``v`` noch nicht *initialisiert* wurde.\n",
    "\n",
    "In ``Python`` reicht es wenn Sie der *Variablen* einen Wert zuweisen.\n",
    "Sie wird automatisch erzeugt, d.h., *initialisiert*.\n",
    "Besitzt sie noch keinen Wert, so existiert sie auch nicht bzw. ist noch nicht *initialisiert*.\n",
    "\n",
    "Variablen können nicht beliebig benannt werden. \n",
    "\n",
    "+ Sie können **keine** Leerzeichen enthalten (falsch: ``test var``)\n",
    "+ Sie dürfen lediglich Buchstaben, Zahlen und den Unterstrich enthalten (falsch: ``test_var!``)\n",
    "+ Sie müssen mit einem Buchstaben oder dem Unterstrich starten (falsch: ``1_test_var``)\n",
    "\n",
    "Gut und konsistent benannte Variablen helfen Ihnen und anderen dabei Programmcode besser zu verstehen.\n",
    "\n",
    "Mit der ``print()``-Funktion, können Sie sich jederzeit den Wert der Variablen ausgeben lassen."
   ]
  },
  {
   "cell_type": "code",
   "execution_count": null,
   "id": "d27693bd",
   "metadata": {},
   "outputs": [],
   "source": [
    "x = 42\n",
    "print(x)"
   ]
  },
  {
   "cell_type": "markdown",
   "id": "d15f5d01",
   "metadata": {},
   "source": [
    "In der Notebookumgebung wird der Wert der letzten Zeile einer Zelle immer ausgegeben (außer dieser ist gleich ``None``)."
   ]
  },
  {
   "cell_type": "code",
   "execution_count": null,
   "id": "681f2371",
   "metadata": {},
   "outputs": [],
   "source": [
    "'gib diese Zeichenkette aus'"
   ]
  },
  {
   "cell_type": "code",
   "execution_count": null,
   "id": "c2c2860e",
   "metadata": {},
   "outputs": [],
   "source": [
    "None # keine Aussgabe"
   ]
  },
  {
   "cell_type": "markdown",
   "id": "f3cadc50",
   "metadata": {},
   "source": [
    "***\n",
    "***Aufgabe 1.1*** Initialisieren Sie die *Variable* ``number`` sodass folgender Code das Ergebnis ``42`` ausgibt."
   ]
  },
  {
   "cell_type": "code",
   "execution_count": null,
   "id": "79ea2628",
   "metadata": {
    "tags": []
   },
   "outputs": [],
   "source": [
    "number = ...\n",
    "number = number + 10\n",
    "print(number)"
   ]
  },
  {
   "cell_type": "code",
   "execution_count": null,
   "id": "4991907f",
   "metadata": {
    "deletable": false,
    "editable": false
   },
   "outputs": [],
   "source": [
    "grader.check(\"q1\")"
   ]
  },
  {
   "cell_type": "markdown",
   "id": "1c06687f",
   "metadata": {},
   "source": [
    "***Aufgabe 1.2*** Erklären Sie die Ausgabe des folgenden Codes."
   ]
  },
  {
   "cell_type": "code",
   "execution_count": null,
   "id": "2d4d12a9",
   "metadata": {},
   "outputs": [],
   "source": [
    "print(print(42))"
   ]
  },
  {
   "cell_type": "markdown",
   "id": "defb66e1",
   "metadata": {},
   "source": [
    "_Ersetzen Sie diesen Text durch Ihre Antwort._"
   ]
  },
  {
   "cell_type": "markdown",
   "id": "dd61678f",
   "metadata": {},
   "source": [
    "***"
   ]
  },
  {
   "cell_type": "markdown",
   "id": "46402e33",
   "metadata": {},
   "source": [
    "## 1.2 Veränderung\n",
    "\n",
    "In ``Python`` können Sie den Wert einer Variablen jederzeit verändern, indem Sie ihren aktuellen Wert **überschreiben**."
   ]
  },
  {
   "cell_type": "code",
   "execution_count": null,
   "id": "ffe216e9",
   "metadata": {},
   "outputs": [],
   "source": [
    "x = 42\n",
    "print(x)\n",
    "x = 100\n",
    "print(x)"
   ]
  },
  {
   "cell_type": "markdown",
   "id": "b2776a14",
   "metadata": {},
   "source": [
    "In den Jupyter-Notebooks bleibt der Wert einer Variable für nachfolgende Zellen erhalten, allerdings spielt die Reihenfolge in der Sie die Zellen ausgeführt haben eine wichtige Rolle!"
   ]
  },
  {
   "cell_type": "code",
   "execution_count": null,
   "id": "ae75e24a",
   "metadata": {},
   "outputs": [],
   "source": [
    "x = 111"
   ]
  },
  {
   "cell_type": "code",
   "execution_count": null,
   "id": "049af038",
   "metadata": {},
   "outputs": [],
   "source": [
    "print(x)"
   ]
  },
  {
   "cell_type": "code",
   "execution_count": null,
   "id": "b0950370",
   "metadata": {},
   "outputs": [],
   "source": [
    "x = x + 3"
   ]
  },
  {
   "cell_type": "markdown",
   "id": "71bddbd1",
   "metadata": {},
   "source": [
    "***\n",
    "***Aufgabe 1.3.*** Werten Sie folgende Zeilen in beliebiger Reihenfolge wiederholt aus, bis die Variable ``z`` den Wert ``100`` enthält. Wie viele Auswertungen benötigen sie mindestens?"
   ]
  },
  {
   "cell_type": "code",
   "execution_count": null,
   "id": "8e941cc2",
   "metadata": {},
   "outputs": [],
   "source": [
    "z = 15"
   ]
  },
  {
   "cell_type": "code",
   "execution_count": null,
   "id": "7d57f170",
   "metadata": {},
   "outputs": [],
   "source": [
    "z = z + z\n",
    "print(z)"
   ]
  },
  {
   "cell_type": "code",
   "execution_count": null,
   "id": "26370b37",
   "metadata": {},
   "outputs": [],
   "source": [
    "z = z - 5\n",
    "print(z)"
   ]
  },
  {
   "cell_type": "markdown",
   "id": "a24ac135",
   "metadata": {},
   "source": [
    "_Ersetzen Sie diesen Text durch Ihre Antwort._"
   ]
  },
  {
   "cell_type": "markdown",
   "id": "a1795004",
   "metadata": {},
   "source": [
    "***"
   ]
  },
  {
   "cell_type": "markdown",
   "id": "7205cb9d",
   "metadata": {},
   "source": [
    "## 1.3 Mehrere Variablen\n",
    "\n",
    "Normalerweise benötigen wir mehr als eine Variable. Mit gut gewählten Namen geben Variablen die Semantik (**Was berechnet wird**) preis ohne dass wir den Code im Detail betrachten müssen.\n",
    "\n",
    "Im folgenden Beispiel berechnen wir die Anzahl der Sekunden die innerhalb von vier Jahren vertreichen. Dabei verwenden wir fünf Variablen:"
   ]
  },
  {
   "cell_type": "code",
   "execution_count": null,
   "id": "be5de36b",
   "metadata": {},
   "outputs": [],
   "source": [
    "# Create variables\n",
    "num_years = 4\n",
    "days_per_year = 365 \n",
    "hours_per_day = 24\n",
    "mins_per_hour = 60\n",
    "secs_per_min = 60\n",
    "\n",
    "# Calculate number of seconds in four years\n",
    "total_secs = secs_per_min * mins_per_hour * hours_per_day * days_per_year * num_years\n",
    "print(total_secs)"
   ]
  },
  {
   "cell_type": "markdown",
   "id": "1da137a1",
   "metadata": {},
   "source": [
    "Die obige Berechnung lässt sich auch mit nur einer (oder keiner) Variablen ausdrücken:"
   ]
  },
  {
   "cell_type": "code",
   "execution_count": null,
   "id": "43c50825",
   "metadata": {},
   "outputs": [],
   "source": [
    "total_secs = 60 * 60 * 24 * 365 * 4\n",
    "print(total_secs)"
   ]
  },
  {
   "cell_type": "markdown",
   "id": "39b90705",
   "metadata": {},
   "source": [
    "In diesem Fall verschlechtert sich die Lesbarkeit nicht unbedingt. Es kommt hierbei auf die Leserschaft Ihres Codes an.\n",
    "\n",
    "Folgende Zwischenlösung finden wir einfacher zu lesen:"
   ]
  },
  {
   "cell_type": "code",
   "execution_count": null,
   "id": "3f980697",
   "metadata": {},
   "outputs": [],
   "source": [
    "secs_per_year = 365 * 24 * 60 * 60\n",
    "total_secs = secs_per_year * 4\n",
    "print(total_secs)"
   ]
  },
  {
   "cell_type": "markdown",
   "id": "c7f97367",
   "metadata": {},
   "source": [
    "In den beiden Beispielen ändern sich unsere Variablen nicht. ``secs_per_year`` beschreibt, aus wie vielen Sekunden ein Jahr besteht. Dies wird sich niemals ändern.\n",
    "Um Lesern dies zu signalisieren schreiben wir derartige Variablen in Großbuchstaben:"
   ]
  },
  {
   "cell_type": "code",
   "execution_count": null,
   "id": "df98bb18",
   "metadata": {},
   "outputs": [],
   "source": [
    "SECS_PER_YEAR = 365 * 24 * 60 * 60\n",
    "years = 4\n",
    "total_secs = SECS_PER_YEAR * years\n",
    "print(total_secs)"
   ]
  },
  {
   "cell_type": "markdown",
   "id": "5f4f343a",
   "metadata": {},
   "source": [
    "**Merke**: Variablen die sich niemals ändern (sog. Konstanten) schreiben wir gewöhnlich in Großbuchstaben.\n",
    "\n",
    "Variablen sind immer dann besonders nützlich wenn sich ihr Wert ändert."
   ]
  },
  {
   "cell_type": "markdown",
   "id": "34301b4c",
   "metadata": {},
   "source": [
    "***\n",
    "***Aufgabe 1.4*** Ändern Sie den Wert eine der Variablen im folgenden Code um die Sekundenanzahl zu berechnen welche innerhalb von 7 Jahren verstreicht."
   ]
  },
  {
   "cell_type": "code",
   "execution_count": null,
   "id": "6c787dfa",
   "metadata": {
    "tags": []
   },
   "outputs": [],
   "source": [
    "SECS_PER_YEAR = 365 * 24 * 60 * 60\n",
    "years = 4\n",
    "years = ...\n",
    "total_secs = SECS_PER_YEAR * years\n",
    "print(total_secs)"
   ]
  },
  {
   "cell_type": "code",
   "execution_count": null,
   "id": "2810d15f",
   "metadata": {
    "deletable": false,
    "editable": false
   },
   "outputs": [],
   "source": [
    "grader.check(\"q4\")"
   ]
  },
  {
   "cell_type": "markdown",
   "id": "7435e794",
   "metadata": {},
   "source": [
    "***"
   ]
  },
  {
   "cell_type": "markdown",
   "id": "9b5239d7",
   "metadata": {},
   "source": [
    "Angenommen wir möchten den Flächeninhalt eines Rechtecks berechnen:"
   ]
  },
  {
   "cell_type": "code",
   "execution_count": null,
   "id": "abc1540c",
   "metadata": {},
   "outputs": [],
   "source": [
    "width = 100\n",
    "height = 132.2\n",
    "volume = width * height\n",
    "print(volume)"
   ]
  },
  {
   "cell_type": "markdown",
   "id": "7177cf20",
   "metadata": {},
   "source": [
    "Ändern wir nun die Breite ``width``, so ergibt sich ein anderer Flächeninhalt, sofern wir diesen erneut berechnen."
   ]
  },
  {
   "cell_type": "code",
   "execution_count": null,
   "id": "f8a3bbc9",
   "metadata": {},
   "outputs": [],
   "source": [
    "width = 200\n",
    "volume = width * height\n",
    "print(volume)"
   ]
  },
  {
   "cell_type": "markdown",
   "id": "755abd3f",
   "metadata": {},
   "source": [
    "Beachten Sie, dass wir eine sog. *Gleitkommazahl* ``float`` als Ergebnis erhalten. Die Variable besitzt einen anderen *Datentyp* als z.B. ``width``. Mehr dazu später."
   ]
  },
  {
   "cell_type": "markdown",
   "id": "123ca293",
   "metadata": {},
   "source": [
    "## Debugging (Einschub)\n",
    "\n",
    "Debugging ist ein Prozess bei dem Sie sich ansehen welche Werte Ihre Variablen zu welchem Zeitpunkt haben.\n",
    "In anderen Worten, Sie verfolgen den *Zustand* aller Variablen Ihres Programms über den Programmablauf hinweg.\n",
    "Zu Beginn Ihrer Programmierreise ist es hilfreich sich die Werte der Variablen durch den ``print()``-Befehl auszugeben."
   ]
  },
  {
   "cell_type": "markdown",
   "id": "a15c735c",
   "metadata": {},
   "source": [
    "***\n",
    "***Aufgabe 1.5*** Bestimmen Sie was die Operation ``b**0.5`` berechnet."
   ]
  },
  {
   "cell_type": "code",
   "execution_count": null,
   "id": "8fd29057",
   "metadata": {},
   "outputs": [],
   "source": [
    "a = 13\n",
    "b = 25\n",
    "c = ((b**0.5 + a) * 7) * 7\n",
    "c"
   ]
  },
  {
   "cell_type": "markdown",
   "id": "3f020ff6",
   "metadata": {},
   "source": [
    "_Ersetzen Sie diesen Text durch Ihre Antwort._"
   ]
  },
  {
   "cell_type": "markdown",
   "id": "44cf8ca7",
   "metadata": {},
   "source": [
    "***\n",
    "Oftmals machen wir dies um Fehler zu finden.\n",
    "Einer der einfachsten Fehler die sich einschleichen können sind Typos, z.B.:"
   ]
  },
  {
   "cell_type": "code",
   "execution_count": null,
   "id": "958aaef9",
   "metadata": {},
   "outputs": [],
   "source": [
    "print(volum)"
   ]
  },
  {
   "cell_type": "markdown",
   "id": "fed5b23d",
   "metadata": {},
   "source": [
    "Sobald der ``Python``-*Interpreter* eine Anweidung nicht versteht bzw. nicht ausführen kann, kommt es zu einem Fehler.\n",
    "Diese Fehler sind Hinweise woran es liegen könnte, dass unser Prorgamm abgebrochen wurde.\n",
    "Diese Meldungen mögen manchmal irritierend sein, da der Fehler nicht zwangsläufig dort zu finden ist, wo der Programmablauf endet."
   ]
  },
  {
   "cell_type": "markdown",
   "id": "0b28833e",
   "metadata": {},
   "source": [
    "## Jupyter Notebooks (Einschub)\n",
    "\n",
    "*Jupyter Notebooks* helfen uns beim Lernen der ``Python``-Grundlagen, da wir Code interaktiv ausführen können.\n",
    "Sie erhalten ein sofortiges Feedback und können schnell und zyklisch *Code verändern* und *Code ausführen*.\n",
    "Größere ``Python``-Programme schreiben wir üblicherweise in eine simplen Textdatei.\n",
    "\n",
    "Die ``Python``-Zellen eines Notebooks bilden ein ``Python``-Programm.\n",
    "Dabei spielt die Reihenfolge wie Sie die Zellen ausführen eine Rolle.\n",
    "\n",
    "Blicken Sie auf folgendes Beispiel, bestehend aus 4 Zellen.\n",
    "Nehmen wir nun an, wir werten Zelle 1 dann 4 dann 3 und dann 2 aus.\n",
    "Welchen Wert hat dann die Variable ``x``?"
   ]
  },
  {
   "cell_type": "code",
   "execution_count": null,
   "id": "2e083211",
   "metadata": {},
   "outputs": [],
   "source": [
    "y = -3      # Zelle 1"
   ]
  },
  {
   "cell_type": "code",
   "execution_count": null,
   "id": "570e97dc",
   "metadata": {},
   "outputs": [],
   "source": [
    "x = z + y   # Zelle 2"
   ]
  },
  {
   "cell_type": "code",
   "execution_count": null,
   "id": "4e339535",
   "metadata": {},
   "outputs": [],
   "source": [
    "z = 5       # Zelle 3"
   ]
  },
  {
   "cell_type": "code",
   "execution_count": null,
   "id": "5f050a61",
   "metadata": {},
   "outputs": [],
   "source": [
    "y = 20      # Zelle 4"
   ]
  },
  {
   "cell_type": "markdown",
   "id": "e5692c0d",
   "metadata": {},
   "source": [
    "Wir erhalten das gleiche Ergebnis indem wir den Zelleninhalt in dieser Reihenfolge in eine Zelle kopieren:"
   ]
  },
  {
   "cell_type": "code",
   "execution_count": null,
   "id": "8e117d7d",
   "metadata": {},
   "outputs": [],
   "source": [
    "y = -3      # Zelle 1\n",
    "y = 20      # Zelle 4\n",
    "z = 5       # Zelle 3\n",
    "x = z + y   # Zelle 2\n",
    "print(x)"
   ]
  },
  {
   "cell_type": "markdown",
   "id": "c807fe87",
   "metadata": {},
   "source": [
    "Demnach ist ``x = 5 + 20`` und ``y = 20``. Führen wir daraufhin Zelle 1 dananch 2 aus, erhalten wir für ``x``: ``x = 5 + (-3) = 2``"
   ]
  },
  {
   "cell_type": "code",
   "execution_count": null,
   "id": "a9fb07ba",
   "metadata": {},
   "outputs": [],
   "source": [
    "y = -3      # Zelle 1\n",
    "y = 20      # Zelle 4\n",
    "z = 5       # Zelle 3\n",
    "x = z + y   # Zelle 2\n",
    "y = -3      # Zelle 1\n",
    "x = z + y   # Zelle 2\n",
    "print(x)"
   ]
  },
  {
   "cell_type": "markdown",
   "id": "647dfb77",
   "metadata": {},
   "source": [
    "**Füllen Sie Ihr Notebook immer so, sodass es das erwartete Ergebnis liefert wenn es von oben nach unten ausgeführt wird!**"
   ]
  },
  {
   "cell_type": "markdown",
   "id": "9ec90c8b",
   "metadata": {},
   "source": [
    "Es kann passieren, dass Sie Ihr Notebook manuell terminieren müssen, z.B. wenn Sie versehentlich eine sog. Endlosschleife programmiert haben.\n",
    "Die Terminierung hat den gleichen Effekt wie wenn es zu einem Fehler gekommen wäre.\n",
    "Der Code wird bis zur Terminierung ausgeführt."
   ]
  },
  {
   "cell_type": "markdown",
   "id": "aab51eb6",
   "metadata": {},
   "source": [
    "***\n",
    "***Aufgabe 1.6*** Werten Sie folgende Zelle aus. Terminieren Sie die Ausführung nach einer kurzen Zeit. Lassen Sie sich die Variable ``k`` ausgeben. Ersetzen Sie anschließend die Zeile\n",
    "\n",
    "```python\n",
    "while True:\n",
    "```\n",
    "\n",
    "durch \n",
    "\n",
    "```python\n",
    "while k < 10:\n",
    "```\n",
    "\n",
    "Führen Sie die Zelle erneut aus und prüfen Sie den Wert von ``k``."
   ]
  },
  {
   "cell_type": "code",
   "execution_count": null,
   "id": "fbd5e441",
   "metadata": {},
   "outputs": [],
   "source": [
    "k = 1\n",
    "while True:\n",
    "    k = k + 1"
   ]
  },
  {
   "cell_type": "code",
   "execution_count": null,
   "id": "eedcde31",
   "metadata": {},
   "outputs": [],
   "source": [
    "print(k)"
   ]
  },
  {
   "cell_type": "markdown",
   "id": "31ac6463",
   "metadata": {},
   "source": [
    "***Aufgabe 1.7*** Wandeln Sie folgende Zellen in eine einzige Zelle um indem Sie deren Zelleninhalt in eine Zelle verschieben, sodass nach der Ausführung ``x`` den Wert ``42`` hat."
   ]
  },
  {
   "cell_type": "code",
   "execution_count": null,
   "id": "a9ba08c0",
   "metadata": {},
   "outputs": [],
   "source": [
    "x = x - y * 2"
   ]
  },
  {
   "cell_type": "code",
   "execution_count": null,
   "id": "f381f8c7",
   "metadata": {},
   "outputs": [],
   "source": [
    "x = 0"
   ]
  },
  {
   "cell_type": "code",
   "execution_count": null,
   "id": "aa7288f9",
   "metadata": {},
   "outputs": [],
   "source": [
    "y = 2"
   ]
  },
  {
   "cell_type": "code",
   "execution_count": null,
   "id": "07380e7d",
   "metadata": {},
   "outputs": [],
   "source": [
    "x = y * 2"
   ]
  },
  {
   "cell_type": "code",
   "execution_count": null,
   "id": "f97b39b1",
   "metadata": {},
   "outputs": [],
   "source": [
    "x = x + 6"
   ]
  },
  {
   "cell_type": "code",
   "execution_count": null,
   "id": "be66156e",
   "metadata": {},
   "outputs": [],
   "source": [
    "y = 20"
   ]
  },
  {
   "cell_type": "code",
   "execution_count": null,
   "id": "17c06b0c",
   "metadata": {
    "tags": []
   },
   "outputs": [],
   "source": [
    "..."
   ]
  },
  {
   "cell_type": "code",
   "execution_count": null,
   "id": "56d87894",
   "metadata": {
    "deletable": false,
    "editable": false
   },
   "outputs": [],
   "source": [
    "grader.check(\"q7\")"
   ]
  },
  {
   "cell_type": "markdown",
   "id": "909a6db7",
   "metadata": {},
   "source": [
    "Notebooks sind besonders hilfreich im Bereich der *Datenvisualisierung*, da Graphen (Plots) direkt im Notebook angezeigt werden können.\n",
    "\n",
    "Im Folgenden sehen Sie ein Beispiel eines Plots der Sinusfunktion.\n",
    "Zunächst erzeugen wir ein sog. Array aus $n = 200$ Zahlen die alle zwischen $0$ und $2 \\pi$ liegen. \n",
    "Genauer gesagt erzeugen wir Werte $x_0, x_1, x_2, \\ldots, x_{n-1}$ mit \n",
    "\n",
    "$$x_i = \\frac{2 \\cdot \\pi \\cdot i }{n-1}.$$\n",
    "\n",
    "Dann generieren wir ein zweites Array bestehend aus Werten $y_0, y_1, y_2, \\ldots, y_{n-1}$ mit\n",
    "\n",
    "$$y_i = \\sin(x_i).$$\n",
    "\n",
    "Am Ende Zeichnen wir Linien, die durch die Punkte $(x_0, y_0), (x_1, y_1), \\ldots, (x_{n-1}, y_{n-1})$ gehen.\n",
    "\n",
    "**Hinweis**: Für die Ausführung des Code benötigen Sie die Pakete ``numpy`` und ``matplotlib``. Diese können Sie auf Ihrem System mit\n",
    "\n",
    "```\n",
    "conda install numpy\n",
    "conda install matplotlib\n",
    "```\n",
    "\n",
    "oder \n",
    "\n",
    "```\n",
    "pip install numpy\n",
    "pip install matplotlib\n",
    "```\n",
    "\n",
    "installieren."
   ]
  },
  {
   "cell_type": "code",
   "execution_count": null,
   "id": "616a641f",
   "metadata": {},
   "outputs": [],
   "source": [
    "import numpy as np\n",
    "import matplotlib.pyplot as plt"
   ]
  },
  {
   "cell_type": "code",
   "execution_count": null,
   "id": "69ff3a54",
   "metadata": {},
   "outputs": [],
   "source": [
    "n = 200\n",
    "X = np.linspace(0, 2*np.pi, n)\n",
    "Y = np.sin(X)\n",
    "plt.plot(X, Y)"
   ]
  },
  {
   "cell_type": "markdown",
   "id": "10b4df9c",
   "metadata": {},
   "source": [
    "***\n",
    "***Aufgabe 1.8*** Spielen Sie mit dem Code herum. Verändern Sie z.B. den Wert der Variablen ``n`` oder Plotten Sie anstatt des Sinus den Kosinus."
   ]
  },
  {
   "cell_type": "markdown",
   "id": "28e183d1",
   "metadata": {},
   "source": [
    "## Interpretation"
   ]
  },
  {
   "cell_type": "markdown",
   "id": "e6fd19b2",
   "metadata": {},
   "source": [
    "***Aufgabe 1.9*** In der Vorlesung haben wir Karten sortiert. Wir haben also eine Sammlung von mehreren Dingen sortiert. In ``Python`` gibt es sogenannte Listen. Folgender Code erzeugt eine Liste, welche die Zahlen 1 bis 12 enthält"
   ]
  },
  {
   "cell_type": "code",
   "execution_count": null,
   "id": "23117ec0",
   "metadata": {},
   "outputs": [],
   "source": [
    "numbers = [1, 2, 3, 4, 5, 6, 7, 8, 9, 10, 11, 12]\n",
    "numbers"
   ]
  },
  {
   "cell_type": "markdown",
   "id": "4f2b0534",
   "metadata": {},
   "source": [
    "Wie könnten wir damit unser Kartenset repräsentieren?"
   ]
  },
  {
   "cell_type": "markdown",
   "id": "e01847ec",
   "metadata": {},
   "source": [
    "_Ersetzen Sie diesen Text durch Ihre Antwort._"
   ]
  },
  {
   "cell_type": "markdown",
   "id": "49d2a343",
   "metadata": {},
   "source": [
    "***Aufgabe 1.10*** Wir konstruieren ein neues (unäres) Dot-Zahlensystem, was aus positiven ganzen Zahlen besteht. Jede Zahl wird aus einer Folge des Zeichens ``'.'`` gebildet. \n",
    "\n",
    "+ 5 wird beispielsweise durch ``.....``, \n",
    "+ 3 durch ``...`` und \n",
    "+ 0 durch ``''`` \n",
    "\n",
    "repräsentiert. In anderen Worten, eine Zahl $n$ wird durch $n$-Punkte (Dots) repräsentiert. Folgende Funktionen helfen uns dabei mit unserem Zahlensystem zu rechnen. Sie bilden einen Kontext."
   ]
  },
  {
   "cell_type": "code",
   "execution_count": null,
   "id": "73685dfa",
   "metadata": {},
   "outputs": [],
   "source": [
    "def add(a, b):\n",
    "    return a+b\n",
    "\n",
    "def sub(a, b):\n",
    "    return a[0:max(0, len(a)-len(b))]\n",
    "\n",
    "def div(a, b):\n",
    "    return to_dots(int(len(a) / len(b)))\n",
    "\n",
    "def mul(a, b):\n",
    "    return a * len(b)\n",
    "\n",
    "def to_dots(number):\n",
    "    return '.'*number\n",
    "\n",
    "def to_number(dots):\n",
    "    return len(dots)"
   ]
  },
  {
   "cell_type": "markdown",
   "id": "01db3c18",
   "metadata": {},
   "source": [
    "Rufen Sie die Funktionen auf und finden Sie heraus was die einzelnen Funktionen im Kontext unseres Zahlensystems machen.\n",
    "\n",
    "Beispielsweise können Sie die Funktion ``add`` (Addieren) durch folgenden Ausdruch aufrufen:"
   ]
  },
  {
   "cell_type": "code",
   "execution_count": null,
   "id": "acaae017",
   "metadata": {},
   "outputs": [],
   "source": [
    "add('..', '...')"
   ]
  },
  {
   "cell_type": "markdown",
   "id": "9d7247a8",
   "metadata": {},
   "source": [
    "_Ersetzen Sie diesen Text durch Ihre Antwort._"
   ]
  },
  {
   "cell_type": "markdown",
   "id": "2d0566de",
   "metadata": {},
   "source": [
    "***Aufgabe 1.11*** Berechnen Sie ``dots = ((5 + 8 - 4 * 2) + 1) / 3``, verwenden Sie dabei jedoch nur die Funktionen von oben und das Zeichen ``'.'``. ``dots`` soll aus ``'.'`` bestehen."
   ]
  },
  {
   "cell_type": "code",
   "execution_count": null,
   "id": "56d192cc",
   "metadata": {
    "tags": []
   },
   "outputs": [],
   "source": [
    "dots = ..."
   ]
  },
  {
   "cell_type": "code",
   "execution_count": null,
   "id": "c7adeebf",
   "metadata": {
    "deletable": false,
    "editable": false
   },
   "outputs": [],
   "source": [
    "grader.check(\"q11\")"
   ]
  },
  {
   "cell_type": "markdown",
   "id": "71d81426",
   "metadata": {},
   "source": [
    "***Aufgabe 1.12*** Warum glauben Sie ist dieses Dot-System nicht sonderlich praktikabel?"
   ]
  },
  {
   "cell_type": "markdown",
   "id": "9464ec13",
   "metadata": {},
   "source": [
    "_Ersetzen Sie diesen Text durch Ihre Antwort._"
   ]
  },
  {
   "cell_type": "markdown",
   "id": "aadac0c6",
   "metadata": {
    "deletable": false,
    "editable": false
   },
   "source": [
    "---\n",
    "\n",
    "**Hinweis**: Durch Auswertung der folgenden Zelle werden alle Tests ausgeführt.\n",
    "Sie sollten das Notebook zuvor bis hier hin von oben nach unten ausgewertet haben.\n",
    "\n"
   ]
  },
  {
   "cell_type": "code",
   "execution_count": null,
   "id": "40e5e1cd",
   "metadata": {
    "deletable": false,
    "editable": false
   },
   "outputs": [],
   "source": [
    "grader.check_all()"
   ]
  },
  {
   "cell_type": "markdown",
   "id": "2d27059b",
   "metadata": {
    "deletable": false,
    "editable": false
   },
   "source": [
    "## Abgabe\n",
    "\n",
    "Dieses Notebook ist zur reinen Übung gedacht und muss nicht abgegeben werden. Wir raten Ihnen eindringlich alle Aufgaben zu lösen!"
   ]
  },
  {
   "cell_type": "code",
   "execution_count": null,
   "id": "84f3161e",
   "metadata": {
    "deletable": false,
    "editable": false
   },
   "outputs": [],
   "source": [
    "grader.export(force_save=True, run_tests=True)"
   ]
  },
  {
   "cell_type": "markdown",
   "id": "bb839177",
   "metadata": {},
   "source": [
    " "
   ]
  }
 ],
 "metadata": {
  "kernelspec": {
   "display_name": "Python [conda env:ct] *",
   "language": "python",
   "name": "conda-env-ct-py"
  },
  "language_info": {
   "codemirror_mode": {
    "name": "ipython",
    "version": 3
   },
   "file_extension": ".py",
   "mimetype": "text/x-python",
   "name": "python",
   "nbconvert_exporter": "python",
   "pygments_lexer": "ipython3",
   "version": "3.10.4"
  },
  "otter": {
   "OK_FORMAT": false,
   "assignment_name": "training01",
   "tests": {
    "q1": "from otter.test_files import test_case\n\nOK_FORMAT = False\n\nname = \"q1\"\npoints = None\n\n@test_case(points=None, hidden=False, \n    success_message=\"Richtig!\")\ndef test_var_number(number):\n    expected = 42\n    assert number == expected, \"Die Variable number muss den Wert 42 enthalten.\"\n    \n",
    "q11": "from otter.test_files import test_case\n\nOK_FORMAT = False\n\nname = \"q11\"\npoints = None\n\n@test_case(points=None, hidden=False, \n    success_message=\"Exzellent! Das war keine so einfache Aufgabe!\")\ndef test_var_dots(dots):\n    expected = '..'\n    assert len(dots) == dots.count('.'), \"dots ist nicht im Dot-Format!\"\n    assert len(dots) <= len(expected), \"Zu viele dots!\"\n    assert len(dots) >= len(expected), \"Zu wenig dots!\"\n    assert dots == expected, \"Die Variable dots hat nicht den korrekten Wert!\"\n    \n",
    "q4": "from otter.test_files import test_case\n\nOK_FORMAT = False\n\nname = \"q4\"\npoints = None\n\n@test_case(points=None, hidden=False, \n    success_message=\"Richtig!\")\ndef test_var_total_secs(total_secs):\n    expected = 220752000\n    assert total_secs == expected, \"Die Variable total_secs hat nicht den korrekten Wert.\"\n    \n",
    "q7": "from otter.test_files import test_case\n\nOK_FORMAT = False\n\nname = \"q7\"\npoints = None\n\n@test_case(points=None, hidden=False, \n    success_message=\"Richtig!\")\ndef test_var_x(x):\n    expected = 42\n    assert x == expected, \"Die Variable x hat nicht den korrekten Wert.\"\n    \n"
   }
  },
  "vscode": {
   "interpreter": {
    "hash": "aee8b7b246df8f9039afb4144a1f6fd8d2ca17a180786b69acc140d282b71a49"
   }
  }
 },
 "nbformat": 4,
 "nbformat_minor": 5
}

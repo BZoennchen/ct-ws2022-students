{
 "cells": [
  {
   "cell_type": "markdown",
   "id": "1ce2502e",
   "metadata": {
    "tags": []
   },
   "source": [
    "# Anmerkungen\n",
    "\n",
    "Dieses Notebook ist eine **Abgabe**, die Sie bis zum **13. November um 23:00 Uhr** in Moodle abgegeben haben müssen, damit diese auch bewertet werden kann!\n",
    "\n",
    "Für einige Aufgaben haben wir Ihnen kleine Tests angefügt damit Sie sich selbst prüfen können.\n",
    "Diese Tests garantieren jedoch **nicht**, dass Ihre Lösung richtig ist, sondern sollen Ihnen eine Hilfestellung geben.\n",
    "\n",
    "Ihr Notebook wird bewertet indem es von oben nach unten ausgeführt wird.\n",
    "Führen Sie deshalb ebenfalls alle Zellen von oben nach unten aus."
   ]
  },
  {
   "cell_type": "code",
   "execution_count": null,
   "id": "2af4c71d",
   "metadata": {},
   "outputs": [],
   "source": [
    "import otter\n",
    "grader = otter.Notebook()"
   ]
  },
  {
   "cell_type": "markdown",
   "id": "6ff1c53a",
   "metadata": {},
   "source": [
    "# 1 Aufwärmen"
   ]
  },
  {
   "cell_type": "markdown",
   "id": "9e8f9ef7",
   "metadata": {},
   "source": [
    "***\n",
    "***Aufgabe 1 (Listen).*** Erstellen Sie auf mindestens zwei unterschiedliche Weisen je eine Liste ``lst1``, ``lst1``, welche die Zahlen 0 bis 9 enthält (beides inklusive)."
   ]
  },
  {
   "cell_type": "code",
   "execution_count": null,
   "id": "1487bbeb",
   "metadata": {
    "tags": []
   },
   "outputs": [],
   "source": [
    "lst1 = ...\n",
    "\n",
    "lst2 = ..."
   ]
  },
  {
   "cell_type": "code",
   "execution_count": null,
   "id": "493d03ac",
   "metadata": {
    "deletable": false,
    "editable": false
   },
   "outputs": [],
   "source": [
    "grader.check(\"q1\")"
   ]
  },
  {
   "cell_type": "markdown",
   "id": "94b02778",
   "metadata": {},
   "source": [
    "***Aufgabe 2 (Listen).*** Erstellen Sie eine Liste ``pyramid`` der Länge ``10``, die an der ``i``-ten Position eine Liste der Zahlen ``[0,1,...,i]`` enthält. Das Ergebnis ist eine Liste aus Listen."
   ]
  },
  {
   "cell_type": "code",
   "execution_count": null,
   "id": "0952735c",
   "metadata": {
    "scrolled": true,
    "tags": []
   },
   "outputs": [],
   "source": [
    "pyramid = ...\n",
    "...\n",
    "pyramid"
   ]
  },
  {
   "cell_type": "code",
   "execution_count": null,
   "id": "619554e6",
   "metadata": {
    "deletable": false,
    "editable": false
   },
   "outputs": [],
   "source": [
    "grader.check(\"q2\")"
   ]
  },
  {
   "cell_type": "markdown",
   "id": "3eb6d93f",
   "metadata": {},
   "source": [
    "***Aufgabe 3 (Zeichenketten).*** Wir bezeichnen eine Zeichenfolge Palindrom wenn sie vorwärts und rückwärts gelesen das gleiche Wort ergibt. Z.B. ist ``'anna'`` oder auch ``'aabaa'`` ein Palindrom. Schreiben Sie eine Funktion ``is_palindrome(text)`` die eine beliebige Zeichenkette ``text`` ``True`` zurückliefert wenn ``text`` ein Palindrom ist und sonst ``False`` zurückgibt."
   ]
  },
  {
   "cell_type": "code",
   "execution_count": null,
   "id": "4f4b9815",
   "metadata": {
    "tags": []
   },
   "outputs": [],
   "source": [
    "text = 'anna'\n",
    "\n",
    "def is_palindrome(text):\n",
    "    ...\n",
    "    \n",
    "is_palindrome(text)"
   ]
  },
  {
   "cell_type": "code",
   "execution_count": null,
   "id": "e6d60c63",
   "metadata": {
    "deletable": false,
    "editable": false
   },
   "outputs": [],
   "source": [
    "grader.check(\"q3\")"
   ]
  },
  {
   "cell_type": "markdown",
   "id": "e3b4bb63",
   "metadata": {},
   "source": [
    "***Aufgabe 4 (Funktionen).*** Schreiben Sie eine Funktion ``is_even(n)``, die Ihnen ``True`` zurückgibt wenn ``n`` eine gerade Zahl ist und sonst ``False``. Gehen Sie davon aus, dass ``n`` eine ganze Zahl ist."
   ]
  },
  {
   "cell_type": "code",
   "execution_count": null,
   "id": "dab657fe",
   "metadata": {
    "tags": []
   },
   "outputs": [],
   "source": [
    "def is_even(n):\n",
    "    ..."
   ]
  },
  {
   "cell_type": "markdown",
   "id": "b5a1fb7d",
   "metadata": {},
   "source": [
    "***Aufgabe 5 (Funktionen, Kontrollstruturen).*** Schreiben Sie eine Funktion ``specify_number(n)``, die ``0`` zurückliefert, falls ``n`` eine positive gerade Zahl ist, ``1`` zurückliefert falls ``n`` eine ungerade positive Zahl ist, ``2`` falls ``n`` eine negative gerade Zahl ist und sonst ``3`` zurückliefert. 0 werten wir als positiv. Denken Sie an Aufgabe 4."
   ]
  },
  {
   "cell_type": "code",
   "execution_count": null,
   "id": "d2b98c3d",
   "metadata": {
    "tags": []
   },
   "outputs": [],
   "source": [
    "def specify_number(n):\n",
    "    ..."
   ]
  },
  {
   "cell_type": "code",
   "execution_count": null,
   "id": "eea84dc1",
   "metadata": {
    "deletable": false,
    "editable": false
   },
   "outputs": [],
   "source": [
    "grader.check(\"q5\")"
   ]
  },
  {
   "cell_type": "markdown",
   "id": "b384a5fb",
   "metadata": {},
   "source": [
    "***Aufgabe 6 (Listen, Kontrollstrukturen).*** Erstellen Sie eine Liste ``numbers``, die ausschließlich alle ungeraden positiven Zahlen, welche durch 7 teilbar und kleiner als 1000 sind enthält."
   ]
  },
  {
   "cell_type": "code",
   "execution_count": null,
   "id": "3a835e4f",
   "metadata": {
    "scrolled": true,
    "tags": []
   },
   "outputs": [],
   "source": [
    "numbers = ...\n",
    "..."
   ]
  },
  {
   "cell_type": "code",
   "execution_count": null,
   "id": "33baa36b",
   "metadata": {
    "deletable": false,
    "editable": false
   },
   "outputs": [],
   "source": [
    "grader.check(\"q6\")"
   ]
  },
  {
   "cell_type": "markdown",
   "id": "c7e1a7bd",
   "metadata": {},
   "source": [
    "***Aufgabe 7 (Funktionen, Kontrollstrukturen).*** Schreiben Sie eine Funktion ``sum_squares(n)``, die Ihnen die Summe aller Quadratzahlen von 1 bis einschließlich ``n`` berechnet und zurückgibt. Gehen Sie davon aus, dass ``n`` eine natürliche Zahl $\\mathbb{N}$ (0 eingeschlossen) ist."
   ]
  },
  {
   "cell_type": "code",
   "execution_count": null,
   "id": "e95dc7b5",
   "metadata": {
    "tags": []
   },
   "outputs": [],
   "source": [
    "def sum_squares(n):\n",
    "    ..."
   ]
  },
  {
   "cell_type": "code",
   "execution_count": null,
   "id": "ff27a6c6",
   "metadata": {
    "deletable": false,
    "editable": false
   },
   "outputs": [],
   "source": [
    "grader.check(\"q7\")"
   ]
  },
  {
   "cell_type": "markdown",
   "id": "1a226314",
   "metadata": {},
   "source": [
    "***"
   ]
  },
  {
   "cell_type": "markdown",
   "id": "ce47d1e0",
   "metadata": {},
   "source": [
    "# 2 Münzliebhaber\\*in\n",
    "\n",
    "Sie möchten heute gerne einen bestimmten Geldbetrag ``money`` in Münzen ``coins`` umwandeln.\n",
    "Doch zuvor möchten Sie wissen wie viele Münzen Sie denn minimal benötigen, schließlich möchten Sie sich nicht zu Tode Schleppen.\n",
    "\n",
    "Unsere Währung ist der Euro. Es gibt 2 und 1 Euro Münzen (200, 100 Cent) sowie 50, 20, 10, 5, 2 und 1 Cent Münzen. Sie brauchen die wenigsten Münzen für einen bestimmten Geldbetrag wenn Sie die Anzahl der wertvollsten Münzen maximieren."
   ]
  },
  {
   "cell_type": "markdown",
   "id": "ce34ec47",
   "metadata": {},
   "source": [
    "***\n",
    "***Aufgabe 8 (Funktionen, Kontrollstrukturen).*** Schreiben Sie eine Funktion ``count_coins(money)``, die Ihnen die Anzahl der Münzen, die Sie **minimal** benötigen, berechnet! Dabei soll ``money`` der Geldbetrag in Euro sein, welchen Sie in Münzen umwandeln möchten. Gehen Sie davon aus, dass ``money`` eine positive Gleitkommazahl ``float`` ist und runden Sie (mit ``round()``) auf den nähersten Geldbetrag, z.B. ``100.2356`` wird auf ``100.24`` gerundet und ``50.224`` auf ``50.22``."
   ]
  },
  {
   "cell_type": "code",
   "execution_count": null,
   "id": "c0cb3766",
   "metadata": {
    "tags": []
   },
   "outputs": [],
   "source": [
    "def count_coins(money):\n",
    "    ..."
   ]
  },
  {
   "cell_type": "code",
   "execution_count": null,
   "id": "999f53a5",
   "metadata": {
    "deletable": false,
    "editable": false
   },
   "outputs": [],
   "source": [
    "grader.check(\"q8\")"
   ]
  },
  {
   "cell_type": "markdown",
   "id": "05f438c1",
   "metadata": {},
   "source": [
    "***"
   ]
  },
  {
   "cell_type": "markdown",
   "id": "c19ecafb",
   "metadata": {},
   "source": [
    "# 3 Pyramidenbau\n",
    "\n",
    "## 3.1 Einleitung\n",
    "\n",
    "Sie kennen vielleicht noch die alten sogenannten Jump & Run Konsolenspiele wie etwa Mario, Sonic und viele mehr.\n",
    "\n",
    "Das Spielprinzip ist einfach: In einer zweidimensionalen Welt, in der sich die Spielfigur nur nach vorne bzw. zurück und hoch bzw. runter bewegen kann, muss diese Figur ein bestimmtes (örtliches) Ziel erreichen. Auf dem Weg lauern Gefahren und Ihre Figur muss Hindernisse überspringen. Sie durchlaufen mehrere Levels, deren Schwierigkeitsgrad ansteigt.\n",
    "\n",
    "Interessanterweise gibt es diese Spiele heute immernoch - sie haben einen gewissen Kultstatus. Besonders begehrt sind Spiele bei denen Spieler\\*innen ihre eigenen Welten erstellen können und diese dann von anderen Spieler\\*innen gespielt und bewertet werden.\n",
    "\n",
    "Ist die Spielwelt aus einfachen Elementen welche in einem regulären Gitter angeordnet sind aufgebaut, so kann eine solche Welt als lesbarer Text in eine Datei geschrieben werden. Ein Beispiel: Stellen Sie sich vor, folgender Text stünde in einer Textdatei:\n",
    "\n",
    "```txt\n",
    "     #  #\n",
    "    ##  ##\n",
    " P ###  ###   *\n",
    "######  #### ###\n",
    "```\n",
    "\n",
    "Dabei könnten wir definieren, dass ``P`` die Startposition der Spielfigur ist, ``#`` quadratische Bauklötze und ``*`` das zu erreichende Ziel ist. Diese Information könnte von einem Programm in eine entsprechende Welt umgewandelt werden.\n",
    "\n",
    "![Jump & Run Gamescreenshot](figs/jump-and-run-screenshot.png)\n",
    "\n",
    "Auch hierbei handelt es sich um eine **Interpretation**, die eine ganze Spielewelt durch eine Folge von Zeichen **repräsentiert**! "
   ]
  },
  {
   "cell_type": "markdown",
   "id": "95021d10",
   "metadata": {},
   "source": [
    "## 3.2 Aufgabenbeschreibung\n",
    "\n",
    "Ihr Aufgabe ist es ein ``Python``-Programm zu schreiben, welches Ihnen eine Pyramide der Form\n",
    "\n",
    "```txt\n",
    "   #  #\n",
    "  ##  ##\n",
    " ###  ###\n",
    "####  ####\n",
    "```\n",
    "\n",
    "erzeugt, wobei die Höhe der Pyramide als Eingabeargument übergeben werden, und zwischen 1 und 8 liegen soll.\n"
   ]
  },
  {
   "cell_type": "markdown",
   "id": "7658644d",
   "metadata": {},
   "source": [
    "***\n",
    "***Aufgabe 9 (Funktionen, Kontrollstrukturen).*** Entwickeln Sie eine Funktion ``build_pyramid(height)``, die die oben beschriebene Pyramide der Höhe ``height`` als Zeichenkette ``str`` erzeugt und zurückgibt. Gehen Sie davon aus, dass ``height`` eine nicht zu große natürliche Zahl (0 ausgeschlossen) ist."
   ]
  },
  {
   "cell_type": "markdown",
   "id": "85ff052a",
   "metadata": {},
   "source": [
    "**Tipp**: Zeichenketten können Sie mit dem ``+``-Operator verketten. Eine neue Zeile können Sie mit der Zeichenkette ``'\\n'`` generieren. Zum Beispiel:"
   ]
  },
  {
   "cell_type": "code",
   "execution_count": null,
   "id": "e858f7a9",
   "metadata": {
    "scrolled": true
   },
   "outputs": [],
   "source": [
    "print('abcd' + 'efg' + '\\n' + 'hijk')"
   ]
  },
  {
   "cell_type": "markdown",
   "id": "dd28b01b",
   "metadata": {},
   "source": [
    "<span style='color:#C70039'>**Hinweis: Es dürfen keine unnötigen Zeichenketten, insbesondere keine unnötigen Leerzeichen am Zeilenende oder Zeilenumbrüche am Ende des Strings, enthalten sein.**</span>\n",
    "\n",
    "Hier ein Beispiel solcher unnötigen Leerzeichen:"
   ]
  },
  {
   "cell_type": "code",
   "execution_count": null,
   "id": "c64b3065",
   "metadata": {},
   "outputs": [],
   "source": [
    "print('abcd' + 'efg   ' + '\\n' + 'hijk\\n\\n\\n')"
   ]
  },
  {
   "cell_type": "code",
   "execution_count": null,
   "id": "6f3a4045",
   "metadata": {
    "tags": []
   },
   "outputs": [],
   "source": [
    "def build_pyramid(height):\n",
    "    ..."
   ]
  },
  {
   "cell_type": "code",
   "execution_count": null,
   "id": "42bba288",
   "metadata": {
    "deletable": false,
    "editable": false
   },
   "outputs": [],
   "source": [
    "grader.check(\"q9\")"
   ]
  },
  {
   "cell_type": "markdown",
   "id": "6d008352",
   "metadata": {},
   "source": [
    "<!-- BEGIN QUESTION -->\n",
    "\n",
    "***Aufgabe 10 (Funktionen, Kontrollstrukturen).*** Entwickeln Sie eine Funktion ``print_pyramid()`` die nach einer Eingabe (der Höhe) frägt und Ihnen die oben beschriebene Pyramide der Höhe dieser Eingabe erzeugt, genauer gesagt als Zeichenkette ausgibt. Verwenden Sie Ihre Funktion ``build_pyramid(height)``. Bei fehlerhafter Eingabe sollte stattdessen eine Fehlermeldung ausgegeben werden. Probieren Sie Ihre Funktion aus."
   ]
  },
  {
   "cell_type": "markdown",
   "id": "78fb5469",
   "metadata": {},
   "source": [
    "Um einen Wert in einem Notebook einzulesen, können Sie die *built-in*-Funktion ``input()`` verwenden."
   ]
  },
  {
   "cell_type": "markdown",
   "id": "fc194b6a",
   "metadata": {},
   "source": [
    "Mit der folgenden Funktion können Sie testen ob eine Zeichenkette tatsächlich eine natürliche Zahl $\\mathbb{N}$ (0 ausgeschlossen) ist."
   ]
  },
  {
   "cell_type": "code",
   "execution_count": null,
   "id": "3a75b73e",
   "metadata": {},
   "outputs": [],
   "source": [
    "def is_natural_number(value):\n",
    "    try:\n",
    "        return int(value) > 0 and int(value) == float(value)\n",
    "    except ValueError:\n",
    "        return False"
   ]
  },
  {
   "cell_type": "code",
   "execution_count": null,
   "id": "a9ee583d",
   "metadata": {
    "tags": []
   },
   "outputs": [],
   "source": [
    "def print_pyramid():\n",
    "    ..."
   ]
  },
  {
   "cell_type": "markdown",
   "id": "212f9ed6",
   "metadata": {},
   "source": [
    "<!-- END QUESTION -->\n",
    "\n"
   ]
  },
  {
   "cell_type": "markdown",
   "id": "04ce6fec",
   "metadata": {
    "deletable": false,
    "editable": false
   },
   "source": [
    "---\n",
    "\n",
    "To double-check your work, the cell below will rerun all of the autograder tests."
   ]
  },
  {
   "cell_type": "code",
   "execution_count": null,
   "id": "91bec24e",
   "metadata": {
    "deletable": false,
    "editable": false
   },
   "outputs": [],
   "source": [
    "grader.check_all()"
   ]
  },
  {
   "cell_type": "markdown",
   "id": "98de2bee",
   "metadata": {
    "deletable": false,
    "editable": false
   },
   "source": [
    "## Submission\n",
    "\n",
    "Make sure you have run all cells in your notebook in order before running the cell below, so that all images/graphs appear in the output. The cell below will generate a zip file for you to submit. **Please save before exporting!**\n",
    "\n",
    "Dieses Notebook ist eine **Abgabe**, die Sie bis zum **13. November um 23:00 Uhr** in Moodle abgegeben haben müssen!"
   ]
  },
  {
   "cell_type": "code",
   "execution_count": null,
   "id": "a7cd601f",
   "metadata": {
    "deletable": false,
    "editable": false
   },
   "outputs": [],
   "source": [
    "# Save your notebook first, then run this cell to export your submission.\n",
    "grader.export(pdf=False, run_tests=True)"
   ]
  },
  {
   "cell_type": "markdown",
   "id": "60bc4a71",
   "metadata": {},
   "source": [
    " "
   ]
  }
 ],
 "metadata": {
  "kernelspec": {
   "display_name": "Python 3 (ipykernel)",
   "language": "python",
   "name": "python3"
  },
  "language_info": {
   "codemirror_mode": {
    "name": "ipython",
    "version": 3
   },
   "file_extension": ".py",
   "mimetype": "text/x-python",
   "name": "python",
   "nbconvert_exporter": "python",
   "pygments_lexer": "ipython3",
   "version": "3.10.4"
  },
  "otter": {
   "OK_FORMAT": false,
   "assignment_name": "assignment00",
   "tests": {
    "q1": "from otter.test_files import test_case\n\nOK_FORMAT = False\n\nname = \"q1\"\npoints = 1\n\n@test_case(points=None, hidden=False, \n    success_message=\"Ihre erste Liste (lst1) wurde initialisiert!\", \n    failure_message=\"Ihre erste Liste (lst1) wurde nicht initialisiert!\")\ndef test_lst1_initialized(env):\n    assert 'lst1' in env\n    \n@test_case(points=None, hidden=False, \n    success_message=\"Ihre zweite Liste (lst2) wurde initialisiert!\", \n    failure_message=\"Ihre zweite Liste (lst2) wurde nicht initialisiert!\")\ndef test_lst2_initialized(env):\n    assert 'lst2' in env\n    \n@test_case(points=None, hidden=False, \n    success_message=\"Ihre erste Liste (lst1) ist vom richtigen Typ!\", \n    failure_message=\"Ihre erste Liste (lst1) ist keine Liste, d.h. vom falschen Typ!\")\ndef test_lst1_type(lst1):\n    assert type(lst1) == list\n    \n@test_case(points=None, hidden=False, \n    success_message=\"Ihre zweite Liste (lst2) ist vom richtigen Typ!\", \n    failure_message=\"Ihre zweite Liste (lst2) ist keine Liste, d.h. vom falschen Typ!\")\ndef test_lst2_type(lst2):\n    assert type(lst2) == list\n    \n@test_case(points=None, hidden=False, \n    success_message=\"Ihre erste Liste (lst1) hat die richtige Länge!\", \n    failure_message=\"Fehler! Ihre erste Liste (lst1) hat nicht die richtige Länge!\")\ndef test_lst1_len(lst1):\n    expected = 10\n    assert len(lst1) == expected\n    \n@test_case(points=None, hidden=False, \n    success_message=\"Ihre zweite Liste (lst2) hat die richtige Länge!\", \n    failure_message=\"Fehler! Ihre zweite Liste (lst2) hat nicht die richtige Länge!\")\ndef test_lst2_len(lst2):\n    expected = 10\n    assert len(lst2) == expected\n    \n",
    "q2": "from otter.test_files import test_case\n\nOK_FORMAT = False\n\nname = \"q2\"\npoints = 1.5\n\n@test_case(points=None, hidden=False, \n    success_message=\"Ihre erste Liste (pyramid) wurde initialisiert!\", \n    failure_message=\"Ihre erste Liste (pyramid) wurde nicht initialisiert!\")\ndef test_pyramid_initialized(env):\n    assert 'pyramid' in env\n    \n@test_case(points=None, hidden=False, \n    success_message=\"Ihre erste Liste (pyramid) hat die korrekte Länge!\", \n    failure_message=\"Ihre erste Liste (pyramid) hat nicht die korrekte Länge\")\ndef test_pyramid_len(pyramid):\n    expected = 10\n    assert len(pyramid) == expected\n    \n",
    "q3": "from otter.test_files import test_case\n\nOK_FORMAT = False\n\nname = \"q3\"\npoints = 1.5\n\n@test_case(points=None, hidden=False, \n    success_message=\"Ihre Funktion is_palindrome funktioniert für einfache Fälle.\", \n    failure_message=\"Ihre Funktion is_palindrome ist noch nicht korrekt.\")\ndef test_is_palindrome_simple_cases(is_palindrome):\n    assert is_palindrome(''), \"Der leere String ist ein Palindrom\"\n    assert is_palindrome('a'), \"Ein einzelnes Zeichen ist ein Palindrom\"\n    assert is_palindrome('bb'), \"Zwei identische Zeichen ergeben ein Palindrom\"\n    \n",
    "q4": "from otter.test_files import test_case\n\nOK_FORMAT = False\n\nname = \"q4\"\npoints = 1\n\n",
    "q5": "from otter.test_files import test_case\n\nOK_FORMAT = False\n\nname = \"q5\"\npoints = 2\n\n@test_case(points=None, hidden=False, \n    success_message=\"Das sieht gut aus.\", \n    failure_message=\"Da ist noch was nicht richtig.\")\ndef test_specify_number_simple_cases(specify_number):\n    assert specify_number(-2) == 2\n    assert specify_number(3) == 1\n    assert specify_number(4) == 0\n    assert specify_number(0) == 0\n    assert specify_number(-3) == 3\n    \n",
    "q6": "from otter.test_files import test_case\n\nOK_FORMAT = False\n\nname = \"q6\"\npoints = 1.5\n\n@test_case(points=None, hidden=False, \n    success_message=\"Ihre erste Liste (numbers) wurde initialisiert!\", \n    failure_message=\"Ihre erste Liste (numbers) wurde nicht initialisiert!\")\ndef test_numbers_initialized(env):\n    assert 'numbers' in env\n    \n",
    "q7": "from otter.test_files import test_case\n\nOK_FORMAT = False\n\nname = \"q7\"\npoints = 1.5\n\n@test_case(points=None, hidden=False, \n    success_message=\"Für die Fälle n == 0 und n == 3 funktioniert Ihr Code.\", \n    failure_message=\"Der einfache Test ist fehlgeschlagen, da stimmt was nicht!\")\ndef test_sum_squares_simple_cases(sum_squares):\n    assert sum_squares(0) == 0\n    assert sum_squares(3) == 1**2 + 2**2 + 3**2\n    \n",
    "q8": "from otter.test_files import test_case\n\nOK_FORMAT = False\n\nname = \"q8\"\npoints = 5\n\n@test_case(points=None, hidden=False, \n    success_message=\"Sieht richtig aus!\", \n    failure_message=\"Da ist was schief gegangen!\")\ndef test_count_coins_simple_cases(count_coins):\n    assert count_coins(0.01) == 1, \"1 Cent gibt es als Münze\"\n    assert count_coins(0.02) == 1, \"2 Cent gibt es als Münze\"\n    assert count_coins(1) == 1, \"1 Euro gibt es als Münze\"\n    assert count_coins(2) == 1, \"2 Euro gibt es als Münze\"\n    assert count_coins(0) == 0, \"Für 0 Euro brauchen wir keine Münzen\"\n    assert count_coins(0.001) == 0, \"Für 0.1 Cent ist zu klein, dafür brauchen wir keine Münzen\"\n    \n",
    "q9": "from otter.test_files import test_case\n\nOK_FORMAT = False\n\nname = \"q9\"\npoints = 5\n\n@test_case(points=None, hidden=False, \n    success_message=\"Ihre Pyramide wird noch nicht richtig gebaut.\", \n    failure_message=\"Das sieht schonmal gut aus.\")\ndef test_build_pyramid_simple_cases(build_pyramid):\n    assert build_pyramid(1) == '#  #'\n    assert build_pyramid(2) == ' #  #\\n##  ##'\n    \n"
   }
  },
  "vscode": {
   "interpreter": {
    "hash": "aee8b7b246df8f9039afb4144a1f6fd8d2ca17a180786b69acc140d282b71a49"
   }
  }
 },
 "nbformat": 4,
 "nbformat_minor": 5
}

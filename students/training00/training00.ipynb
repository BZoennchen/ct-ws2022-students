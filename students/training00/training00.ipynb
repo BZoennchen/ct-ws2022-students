{
 "cells": [
  {
   "cell_type": "raw",
   "metadata": {},
   "source": [
    "# ASSIGNMENT CONFIG\n",
    "name: training00\n",
    "solutions_pdf: false\n",
    "check_all_cell: true\n",
    "files:\n",
    "    - sheet/training00.pdf\n",
    "    - script.py\n",
    "export_cell:\n",
    "    instructions: \"Stellen Sie sicher, dass Sie alle Zellen von oben nach unten ausgeführt haben und Ihr Notebook abgespeichert haben. Wenn Sie die folgende Zelle ausführen wird eine zip-Datei generiert. Laden Sie diese Datei in Moodle in der entsprechenden Abgabe hoch!\"\n",
    "    pdf: false\n",
    "    force_save: true\n",
    "generate: \n",
    "    pdf: false\n",
    "    zips: false\n",
    "tests:\n",
    "    ok_format: false"
   ]
  },
  {
   "cell_type": "markdown",
   "metadata": {},
   "source": [
    "Dies ist ein sog. *Jupyter-Notebook*. Es bietet uns und Ihnen die Möglichkeit Programmiercode interaktiv auszuführen und diesen in Text einzubetten.\n",
    "\n",
    "Das Notebook besteht aus Zellen eines bestimmten Typs:\n",
    "+ reiner Text, \n",
    "+ formartierter Text (Markdown), \n",
    "+ Code.\n",
    "\n",
    "Sie können alle Zellen **auswerten** jedoch nur Code-Zellen **ausführen**.\n",
    "\n",
    "Diese Zelle ist eine sog. Markdown-Zelle d.h. formartierter Text."
   ]
  },
  {
   "cell_type": "markdown",
   "metadata": {},
   "source": [
    "***\n",
    "***Aufgabe 0.1*** Der folgende Code sollte eigentlich die verstrichenen Sekunden innerhalb von 5 Tagen berechnen doch hat sich in der Formel ein Fehler eingeschlichen. Korrigieren Sie den Fehler!"
   ]
  },
  {
   "cell_type": "raw",
   "metadata": {},
   "source": [
    "# BEGIN QUESTION\n",
    "name: q1"
   ]
  },
  {
   "cell_type": "raw",
   "metadata": {},
   "source": [
    "# BEGIN SOLUTION"
   ]
  },
  {
   "cell_type": "code",
   "execution_count": null,
   "metadata": {},
   "outputs": [],
   "source": [
    "days = 6\n",
    "result = days * 24 * 60\n",
    "result"
   ]
  },
  {
   "cell_type": "raw",
   "metadata": {},
   "source": [
    "# END SOLUTION"
   ]
  },
  {
   "cell_type": "raw",
   "metadata": {},
   "source": [
    "# BEGIN TESTS"
   ]
  },
  {
   "cell_type": "code",
   "execution_count": null,
   "metadata": {},
   "outputs": [],
   "source": [
    "\"\"\" # BEGIN TEST CONFIG\n",
    "points: 0.5\n",
    "success_message: Das ist schonmal ein Anfang!\n",
    "\"\"\" # END TEST CONFIG\n",
    "def test_var_days(days):\n",
    "    expected = 5\n",
    "    assert days == expected, \"Die Variable days muss den Wert 5 enthalten.\"\n",
    "    \n",
    "test_var_days(days) # IGNORE"
   ]
  },
  {
   "cell_type": "code",
   "execution_count": null,
   "metadata": {},
   "outputs": [],
   "source": [
    "\"\"\" # BEGIN TEST CONFIG\n",
    "points: 1.0\n",
    "success_message: Korrekte :)!\n",
    "\"\"\" # END TEST CONFIG\n",
    "def test_result(result):\n",
    "    expected = 432000\n",
    "    assert result == expected, f\"{result} ist nicht die richtige Anzahl an Sekunden.\"\n",
    "\n",
    "test_result(result)  # IGNORE"
   ]
  },
  {
   "cell_type": "raw",
   "metadata": {},
   "source": [
    "# END TESTS"
   ]
  },
  {
   "cell_type": "raw",
   "metadata": {},
   "source": [
    "# END QUESTION"
   ]
  }
 ],
 "metadata": {
  "kernelspec": {
   "display_name": "Python 3 (ipykernel)",
   "language": "python",
   "name": "python3"
  },
  "language_info": {
   "codemirror_mode": {
    "name": "ipython",
    "version": 3
   },
   "file_extension": ".py",
   "mimetype": "text/x-python",
   "name": "python",
   "nbconvert_exporter": "python",
   "pygments_lexer": "ipython3",
   "version": "3.10.4"
  },
  "vscode": {
   "interpreter": {
    "hash": "b0fa6594d8f4cbf19f97940f81e996739fb7646882a419484c72d19e05852a7e"
   }
  }
 },
 "nbformat": 4,
 "nbformat_minor": 4
}

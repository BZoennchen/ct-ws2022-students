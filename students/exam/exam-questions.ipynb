{
 "cells": [
  {
   "attachments": {},
   "cell_type": "markdown",
   "metadata": {
    "deletable": false,
    "editable": false
   },
   "source": [
    "# Testfragen\n",
    "\n",
    "Diese Fragen dienen dazu abzuschätzen welche Art von Fragen Sie bei der Prüfung erwarten können. Beachten Sie jedoch, dass dies nur eine sehr kleine und beschränkte Auswahl ist, die lediglich den Schwierigkeitsgrad teilweise widerspiegelt!"
   ]
  },
  {
   "cell_type": "markdown",
   "metadata": {
    "deletable": false,
    "editable": false
   },
   "source": [
    "**Aufgabe 1 (schwer)** \n",
    "\n",
    "Schreiben Sie eine Funktion ``mult_wrap(numbers1, numbers2)``, welche eine neue Liste ``numbers`` zurückliefert, sodass dessen ``i``-tes Element die komponentenweise Multiplikation der beiden anderen Listen bildet. Sind die beiden Listen nicht gleich groß, soll der Index der kleineren Liste wieder von Neuem beginnen.\n",
    "\n",
    "*Beispiele*:\n",
    "\n",
    "```python\n",
    "mult_wrap([1, 2, 3], [1, -1, 2]) # ergibt [1, -2, 3]\n",
    "mult_wrap([1, 2, 3, 4, 5, 6], [-1, 3, 2]) # ergibt [-1, 6, 6, -4, 15, 12]\n",
    "mult_wrap([5, 6], [-1]) # ergibt [-5, -6]\n",
    "mult_wrap([5, 6], []) # ergibt []\n",
    "```\n",
    "***"
   ]
  },
  {
   "cell_type": "code",
   "execution_count": null,
   "metadata": {},
   "outputs": [],
   "source": []
  },
  {
   "cell_type": "markdown",
   "metadata": {
    "deletable": false,
    "editable": false
   },
   "source": [
    "**Aufgabe 2 (mittel)** \n",
    "\n",
    "Schreiben Sie eine Funktion ``mult(numbers1, numbers2)``, welche eine neue Liste ``numbers`` zurückliefert, sodass dessen ``i``-tes Element die komponentenweise Multiplikation der beiden anderen Listen bildet. Gehen Sie davon aus, dass beide Listen gleich groß sind, d.h. dieselbe Anzahl an Elementen enthalten.\n",
    "\n",
    "*Beispiele*:\n",
    "\n",
    "```python\n",
    "mult_wrap([1, 2, 3], [1, -1, 2]) # ergibt [1, -2, 3]\n",
    "mult_wrap([5, 6], [-1, 1]) # ergibt [-5, 6]\n",
    "mult_wrap([], []) # ergibt []\n",
    "```\n",
    "***\n"
   ]
  },
  {
   "cell_type": "code",
   "execution_count": null,
   "metadata": {},
   "outputs": [],
   "source": []
  },
  {
   "cell_type": "markdown",
   "metadata": {
    "deletable": false,
    "editable": false
   },
   "source": [
    "**Aufgabe 3 (mittel)** \n",
    "\n",
    "Schreiben Sie eine Funktion ``inverse_sum(n)``, welche die Summe aus\n",
    "\n",
    "$$\\sum_{k=1}^n \\frac{1}{k} = \\frac{1}{1} + \\frac{1}{2} + \\cdots + \\frac{1}{n}$$\n",
    "\n",
    "berechnet.\n",
    "\n",
    "\n",
    "*Beispiele*:\n",
    "\n",
    "```python\n",
    "inverse_sum(1) # ergibt 1\n",
    "inverse_sum(2) # ergibt 1.5\n",
    "```\n",
    "***"
   ]
  },
  {
   "cell_type": "code",
   "execution_count": null,
   "metadata": {},
   "outputs": [],
   "source": []
  },
  {
   "cell_type": "markdown",
   "metadata": {
    "deletable": false,
    "editable": false
   },
   "source": [
    "**Aufgabe 4 (einfach)**\n",
    "\n",
    "Schreiben Sie eine Funktion ``count_chars(text, chars)``, welche die Häufigkeit der Zeichen ``chars`` in ``text`` berechnet und zurückliefert.\n",
    "``text`` ist eine Zeichenkette und ``chars`` ist eine Menge aus Zeichen (Strings der Länge 1).\n",
    "Die Funktion soll dabei ein Dictionary zurückliefern dessen Schlüssel ein Zeichen aus ``chars`` ist und dessen Wert die Häufigkeit in ``text`` dieses Zeichens ist.\n",
    "\n",
    "Verwenden Sie die Funktion ``text.count(char)`` um die Häufigkeit der Zeichen zu zählen.\n",
    "\n",
    "*Beispiele*:\n",
    "\n",
    "```python\n",
    "count_char(\"hallo\", set(['h', 'l', 'l'])) # ergibt {'l': 2, 'h': 1}\n",
    "count_char(\"Dies ist ein langer text, der keinen Sinn ergibt\", set(['d', 'D', 'i'])) # {'d': 1, 'D': 1, 'i': 6}\n",
    "count_char(\"Dies ist ein langer text, der keinen Sinn ergibt\", set()) # ergibt {}\n",
    "count_char(\"\", set()) # ergibt {}\n",
    "```\n",
    "***"
   ]
  },
  {
   "cell_type": "code",
   "execution_count": null,
   "metadata": {},
   "outputs": [],
   "source": []
  },
  {
   "cell_type": "markdown",
   "metadata": {
    "deletable": false,
    "editable": false
   },
   "source": [
    "**Aufgabe 5 (schwer)**\n",
    "\n",
    "Schreiben Sie eine Funktion ``count_chars(text, chars)``, welche die Häufigkeit der Zeichen ``chars`` in ``text`` berechnet und zurückliefert.\n",
    "``text`` ist eine Zeichenkette und ``chars`` ist eine Menge aus Zeichen (Strings der Länge 1).\n",
    "Die Funktion soll dabei ein Dictionary zurückliefern dessen Schlüssel ein Zeichen aus ``chars`` ist und dessen Wert die Häufigkeit in ``text`` dieses Zeichens ist.\n",
    "\n",
    "Verwenden Sie **keine** Funktionen der Klasse ``str``!!!\n",
    "\n",
    "*Beispiele*:\n",
    "\n",
    "```python\n",
    "count_char(\"hallo\", set(['h', 'l', 'l'])) # ergibt {'l': 2, 'h': 1}\n",
    "count_char(\"Dies ist ein langer text, der keinen Sinn ergibt\", set(['d', 'D', 'i'])) # {'d': 1, 'D': 1, 'i': 6}\n",
    "count_char(\"Dies ist ein langer text, der keinen Sinn ergibt\", set()) # ergibt {}\n",
    "count_char(\"\", set()) # ergibt {}\n",
    "```\n",
    "***"
   ]
  },
  {
   "cell_type": "code",
   "execution_count": null,
   "metadata": {},
   "outputs": [],
   "source": []
  },
  {
   "cell_type": "markdown",
   "metadata": {
    "deletable": false,
    "editable": false
   },
   "source": [
    "**Aufgabe 6 (einfach)**\n",
    "\n",
    "Erzeugen Sie eine Liste ``numbers``, die alle ungeraden natürlichen Zahlen kleiner als 1000 beinhaltet. \n",
    "***"
   ]
  },
  {
   "cell_type": "code",
   "execution_count": null,
   "metadata": {},
   "outputs": [],
   "source": []
  },
  {
   "cell_type": "markdown",
   "metadata": {},
   "source": [
    "**Aufgabe 7 (einfach)**\n",
    "\n",
    "Angenommen Sie haben eine Liste aus Zahlen ``numbers``. Schreiben Sie einen Befehl, welcher eine neue Liste erzeugt, die genau die gleichen Elemente aber keine Duplikate enthält. Die Reihenfolge der Elemente soll keine Rolle spielen.\n",
    "***"
   ]
  },
  {
   "cell_type": "code",
   "execution_count": null,
   "metadata": {},
   "outputs": [],
   "source": []
  },
  {
   "cell_type": "markdown",
   "metadata": {
    "deletable": false,
    "editable": false
   },
   "source": [
    "**Aufgabe 6 (einfach)**\n",
    "\n",
    "Setzen Sie den Wert der Liste wenn die entsprechende Aussage wahr ist auf ``True`` und wenn diese falsch ist auf ``False``!\n",
    "\n",
    "*Beispiel*:\n",
    "\n",
    "```python\n",
    "statements_q6 = [\n",
    "    \"Europa ist der einzige Kontinent auf der Welt\",\n",
    "    \"4 ist eine Primzahl\",\n",
    "    \"11 ist eine Primzahl\"\n",
    "]\n",
    "\n",
    "answers_q6 = [\n",
    "    False,\n",
    "    False,\n",
    "    True\n",
    "]\n",
    "```\n",
    "***"
   ]
  },
  {
   "cell_type": "code",
   "execution_count": null,
   "metadata": {},
   "outputs": [],
   "source": [
    "statements_q6 = [\n",
    "    \"Listen können Duplikate enthalten\",\n",
    "    \"Mengen können Duplikate enthalten\",\n",
    "    \"Tupel können Duplikate enthalten\"\n",
    "]\n",
    "\n",
    "answers_q6 = [\n",
    "    None,\n",
    "    None,\n",
    "    None\n",
    "]"
   ]
  },
  {
   "cell_type": "markdown",
   "metadata": {
    "deletable": false,
    "editable": false
   },
   "source": [
    "**Aufgabe 7 (einfach)**\n",
    "\n",
    "Setzen Sie den Wert der Liste wenn die entsprechende Aussage wahr ist auf ``True`` und wenn diese falsch ist auf ``False``!\n",
    "***"
   ]
  },
  {
   "cell_type": "code",
   "execution_count": null,
   "metadata": {},
   "outputs": [],
   "source": [
    "statements_q7 = [\n",
    "    \"Computational Thinking ist ein Konzept bzw. Denkweise, welche das Lösen von Problemen und das Entwerfen von Systemen regelrecht umarmt.\",\n",
    "    \n",
    "    \"Computational Thinking bedeutet zu programmieren und ist eine routinierte Fähigkeit.\",\n",
    "    \n",
    "    \"Computational Thinking ist die Denkweise oder Funktionsweise der Maschine.\",\n",
    "    \n",
    "    \"\"\"Computational Thinking bezieht sich auf die individuelle Fähigkeit einer Person, eine Problemstellung zu identifizieren und abstrakt zu modellieren, \n",
    "    sie dabei in Teilprobleme oder-schritte zu zerlegen, Lösungsstrategien zu entwerfen und auszuarbeiten und diese formalisiert so darzustellen, \n",
    "    dass sie von einem Menschen (oder auch einem Computer) verstanden und ausgeführt werden können.\"\"\"\n",
    "]\n",
    "\n",
    "answers_q7 = [\n",
    "    None,\n",
    "    None,\n",
    "    None,\n",
    "    None\n",
    "]"
   ]
  },
  {
   "cell_type": "markdown",
   "metadata": {
    "deletable": false,
    "editable": false
   },
   "source": [
    "**Aufgabe 8 (mittel)**\n",
    "\n",
    "Beschreiben Sie den Unterschied zwischen *Syntax* und *Semantik*."
   ]
  },
  {
   "cell_type": "markdown",
   "metadata": {},
   "source": [
    "*[Ihre Antwort]*"
   ]
  },
  {
   "cell_type": "markdown",
   "metadata": {
    "deletable": false,
    "editable": false
   },
   "source": [
    "**Aufgabe 9 (mittel)**\n",
    "\n",
    "Definieren Sie eine Klasse ``Rational`` welche eine rationale Zahl \n",
    "\n",
    "$$\\frac{z}{n}$$\n",
    "\n",
    "mit $z, n \\in \\mathbb{Z}, n \\neq 0$ repräsentiert.\n",
    "Definieren Sie lediglich:\n",
    "\n",
    "1. die notwendigen Objekt-Attribute ``z`` (Zähler) und ``n`` (Nenner)\n",
    "2. eine geeignete Initialisierungsmethode\n",
    "3. die **Methode** ``mult(self, other)``, welche eine neue rationale Zahl zurücklierfert, die das Produkt aus dieser (``self``) und der anderen rationalen Zahl ``other`` repräsentiert.\n",
    "***"
   ]
  },
  {
   "cell_type": "code",
   "execution_count": null,
   "metadata": {},
   "outputs": [],
   "source": []
  }
 ],
 "metadata": {
  "kernelspec": {
   "display_name": "Python 3 (ipykernel)",
   "language": "python",
   "name": "python3"
  },
  "language_info": {
   "codemirror_mode": {
    "name": "ipython",
    "version": 3
   },
   "file_extension": ".py",
   "mimetype": "text/x-python",
   "name": "python",
   "nbconvert_exporter": "python",
   "pygments_lexer": "ipython3",
   "version": "3.10.4 (main, Mar 31 2022, 03:37:37) [Clang 12.0.0 ]"
  },
  "vscode": {
   "interpreter": {
    "hash": "881d337900756e70a76eada1facb65e60ce30b1cc249c92e2adf60a26cf555a8"
   }
  }
 },
 "nbformat": 4,
 "nbformat_minor": 2
}

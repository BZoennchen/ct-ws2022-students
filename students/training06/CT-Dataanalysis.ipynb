{
 "cells": [
  {
   "cell_type": "markdown",
   "metadata": {},
   "source": [
    "# Anmerkungen\n",
    "\n",
    "In diesem Notebook werden wir uns Stück für Stück einen Kontext erbauen, um mit Daten besser und bequemer umgehen zu können.\n",
    "Dabei verzichten wir zunächst auf Pakete wie\n",
    "\n",
    "+ ``numpy``\n",
    "+ ``pandas``\n",
    "\n",
    "und starten stattdessen von Neuem.\n",
    "\n",
    "Wir konstruieren unsere eigene Datenstruktur, welche eine CSV-Datei repräsentieren soll.\n",
    "Diese Datenstruktur ``data`` ist ein Dictionary, welches lauter Listen enthält.\n",
    "Jede Liste repräsentiert eine Spalte der CSV-Datei.\n",
    "Die ``keys`` des Dictionarys repräsentieren den Spaltennamen.\n",
    "\n",
    "Die Aufgaben bauen teilweise aufeinander auf.\n",
    "Es ist insbesondere wichtig, dass Sie **Aufgabe 1** und **Aufgabe 2** zuerst lösen, da Sie damit die angesprochene Datenstruktur erzeugen."
   ]
  },
  {
   "cell_type": "code",
   "execution_count": null,
   "metadata": {},
   "outputs": [],
   "source": [
    "import otter\n",
    "import csv\n",
    "\n",
    "grader = otter.Notebook('CT-Dataanalysis.ipynb')\n",
    "\n",
    "path_to_csv_file = './data/test-data.csv'"
   ]
  },
  {
   "cell_type": "markdown",
   "metadata": {},
   "source": [
    "Folgender Code gibt die ersten ``n`` Zeile der CSV-Datei ``./data/test-data.csv`` aus.\n",
    "Dabei verwenden wir aus dem Standardpaket ``csv`` die Funktion ``reader``, welche einen neuen sog. Handle erzeugt, mithilfe dem wir durch die CSV-Datei *iterieren* können."
   ]
  },
  {
   "cell_type": "code",
   "execution_count": null,
   "metadata": {},
   "outputs": [],
   "source": [
    "n = 5\n",
    "with open(path_to_csv_file, newline='') as csvfile:\n",
    "    handle = csv.reader(csvfile, delimiter=',')\n",
    "    count = 0\n",
    "    for row in handle:\n",
    "        if count >= n:\n",
    "            break\n",
    "        row_as_string = ''\n",
    "        for col in row:\n",
    "            row_as_string += col + ','\n",
    "        count += 1\n",
    "        print(row_as_string)"
   ]
  },
  {
   "cell_type": "markdown",
   "metadata": {},
   "source": [
    "***\n",
    "***Aufgabe 1 (Lesen einer Spalte).***\n",
    "\n",
    "Schreiben Sie eine Funktion ``read_column(name, path_to_csv_file, parser=lambda x: x)``, welche Ihnen die Werte der Spalte mit dem Namen (Header) ``name`` als Liste zurückliefert.\n",
    "``parser`` ist dabei eine Funktion, welche für jeden Wert der Spalte aufgerufen werden soll. ``lambda x: x`` ist die Identität, d.h. diese Funktion gibt einfach das zurück was sie als Argument erhält. ``path_to_csv_file`` ist der Dateipfad zur jeweiligen CSV-Datei.\n",
    "\n",
    "Angenommen die CSV-Datei sähe wie folgt aus:\n",
    "\n",
    "```\n",
    "x,y,name,price\n",
    "1.0,2.0,Toster,5\n",
    "2.3,21,Auto,9\n",
    "```\n",
    "\n",
    "dann sollte \n",
    "\n",
    "```python\n",
    "read_column(['y'], './data/test-data.csv')\n",
    "```\n",
    "\n",
    "folgendes zurückliefern:\n",
    "\n",
    "```python\n",
    "['2.0', '21']\n",
    "```\n",
    "\n",
    "Mit dem ``praser`` sollten Sie die Werte manipulieren könnnen. Z.B. sollte folgender Code\n",
    "\n",
    "```python\n",
    "def f(value):\n",
    "    return int(value)**2\n",
    "\n",
    "read_column(['price'], './data/test-data.csv', f)\n",
    "```\n",
    "\n",
    "folgendes zurückliefern\n",
    "\n",
    "```python\n",
    "[25, 81]\n",
    "```\n",
    "\n",
    "**Hinweise:** Bedenken Sie, dass die erste Zeile, welche Sie einlesen, sich von allen anderen Zeilen unterscheidet, da es sich um die Namen der Spalten handelt!"
   ]
  },
  {
   "cell_type": "code",
   "execution_count": null,
   "metadata": {
    "tags": []
   },
   "outputs": [],
   "source": [
    "def read_column(name, path_to_csv_file, parser = lambda x: x):\n",
    "    ...\n",
    "    \n",
    "print(read_column('y', path_to_csv_file))\n",
    "print(read_column('price', path_to_csv_file, lambda price: int(price)**2))"
   ]
  },
  {
   "cell_type": "code",
   "execution_count": null,
   "metadata": {
    "deletable": false,
    "editable": false
   },
   "outputs": [],
   "source": [
    "grader.check(\"q1\")"
   ]
  },
  {
   "cell_type": "markdown",
   "metadata": {},
   "source": [
    "***Aufgabe 2 (Lesen einer CSV).*** \n",
    "\n",
    "Schreiben Sie eine Funktion ``read(names, path_to_csv_file, parsers=None)``, welche Ihnen die Spalten, definiert in ``names``, in ein Dictionary steckt.\n",
    "Dabei sollen die ``keys`` des Dictionarys aus den Namen ``names`` bestehen und die ``values`` des Dictionarys aus den Spalten (als Listen) bestehen.\n",
    "Die Funktion soll das konstruierte Dictionary zurückliefern.\n",
    "Gibt es für den ``i``-ten Namen einen Parser ``parsers[i]``, so sollte jeder Wert ``value`` der entsprechenden Spalte durch den Wert ``parser[i](value)`` ersetzt werden.\n",
    "\n",
    "\n",
    "### Beispiele\n",
    "\n",
    "Für folgende CSV-Datei\n",
    "\n",
    "```\n",
    "x,y,name,price\n",
    "1.0,2.0,Toster,5\n",
    "2.3,21,Auto,9\n",
    "```\n",
    "\n",
    "ergibt\n",
    "\n",
    "```python\n",
    "data = read(['y', 'x'], path_to_csv_file)\n",
    "print(data)\n",
    "```\n",
    "\n",
    "folgende Ausgabe\n",
    "\n",
    "```python\n",
    "{'y': ['2.0','21'], 'x': ['1.0','2.3']}\n",
    "```\n",
    "\n",
    "und\n",
    "\n",
    "```python\n",
    "data = read(['price', 'x'], path_to_csv_file, [lambda price: float(price)*2, lambda x: float(x)])\n",
    "print(data)\n",
    "```\n",
    "\n",
    "führt zu folgender Ausgabe\n",
    "\n",
    "```python\n",
    "{'price': [10.0,18.0], 'x': [1.0,2.3]}\n",
    "```\n",
    "\n",
    "**Tipp:** Sie können (müssen aber nicht) Ihre Funktion ``read_column`` verwenden."
   ]
  },
  {
   "cell_type": "code",
   "execution_count": null,
   "metadata": {
    "tags": []
   },
   "outputs": [],
   "source": [
    "def read(names, path_to_csv_file, parsers=None):\n",
    "    ...\n",
    "    \n",
    "data = read(['y', 'x'], path_to_csv_file)\n",
    "print(data)\n",
    "\n",
    "table = read(['price', 'x'], path_to_csv_file, [lambda price: float(price)*2, lambda x: float(x)])\n",
    "print(data)"
   ]
  },
  {
   "cell_type": "code",
   "execution_count": null,
   "metadata": {
    "deletable": false,
    "editable": false
   },
   "outputs": [],
   "source": [
    "grader.check(\"q2\")"
   ]
  },
  {
   "cell_type": "markdown",
   "metadata": {},
   "source": [
    "Wir können eine CSV-Datei nun bequem in eine Python-Datenstrukturen einlesen.\n",
    "Diese Datenstruktur bezeichnen wir von nun an als ``data``."
   ]
  },
  {
   "cell_type": "markdown",
   "metadata": {},
   "source": [
    "***Aufgabe 3 (Anzahl der Zeilen).*** \n",
    "\n",
    "Schreiben Sie eine Funktion ``len_data(data)``, welche die Anzahl der Zeilen von ``data`` zurückliefert.\n",
    "\n",
    "Beispielsweise sollte\n",
    "\n",
    "```python\n",
    "print(len_data(read(['y'], './data/test-data.csv')))\n",
    "```\n",
    "\n",
    "``2`` ausgeben."
   ]
  },
  {
   "cell_type": "code",
   "execution_count": null,
   "metadata": {
    "tags": []
   },
   "outputs": [],
   "source": [
    "def len_data(data):\n",
    "    ...\n",
    "\n",
    "print(len_data(read(['y'], path_to_csv_file)))"
   ]
  },
  {
   "cell_type": "code",
   "execution_count": null,
   "metadata": {
    "deletable": false,
    "editable": false
   },
   "outputs": [],
   "source": [
    "grader.check(\"q3\")"
   ]
  },
  {
   "cell_type": "markdown",
   "metadata": {},
   "source": [
    "***Aufgabe 4 (Spaltennamen).*** \n",
    "\n",
    "Schreiben Sie eine Funktion ``get_names(data)``, welche eine Liste mit allen Spaltennamen unserer Datenstruktur ``data`` zurückliefert.\n",
    "\n",
    "Beispielsweise sollte:\n",
    "\n",
    "```python\n",
    "get_names({'x': [1,2], 'name': ['Anna', 'Klaus']})\n",
    "```\n",
    "\n",
    "``['x', 'name']`` oder ``['name', 'x']`` ausgeben."
   ]
  },
  {
   "cell_type": "code",
   "execution_count": null,
   "metadata": {
    "tags": []
   },
   "outputs": [],
   "source": [
    "def get_names(data):\n",
    "    ...\n",
    "\n",
    "get_names(read(['y', 'price'], path_to_csv_file))"
   ]
  },
  {
   "cell_type": "code",
   "execution_count": null,
   "metadata": {
    "deletable": false,
    "editable": false
   },
   "outputs": [],
   "source": [
    "grader.check(\"q4\")"
   ]
  },
  {
   "cell_type": "markdown",
   "metadata": {},
   "source": [
    "***Aufgabe 5 (Zeilen auswählen).*** \n",
    "\n",
    "Schreiben Sie eine Funktion ``get_row(data, i)``, welche ein Dictionary zurückliefert, wobei die ``keys`` die Spaltennamen unserer Datenstruktur ``data`` sind und die ``values`` der ``i``-te Wert der dazuhörenden Spalte ist.\n",
    "\n",
    "Beispielsweise sollte\n",
    "\n",
    "```python\n",
    "get_row({'x': [1,2,3], 'name': ['Anna', 'Klaus','Nina']}, 1)\n",
    "```\n",
    "\n",
    "``['x': 2, 'name': 'Klaus']`` ausgeben."
   ]
  },
  {
   "cell_type": "code",
   "execution_count": null,
   "metadata": {
    "tags": []
   },
   "outputs": [],
   "source": [
    "def get_row(data, i):\n",
    "    ...\n",
    "\n",
    "get_row({'x': [1,2,3], 'name': ['Anna', 'Klaus','Nina']}, 1)"
   ]
  },
  {
   "cell_type": "code",
   "execution_count": null,
   "metadata": {
    "deletable": false,
    "editable": false
   },
   "outputs": [],
   "source": [
    "grader.check(\"q5\")"
   ]
  },
  {
   "cell_type": "markdown",
   "metadata": {},
   "source": [
    "<!-- BEGIN QUESTION -->\n",
    "\n",
    "***Aufgabe 6 (Zeilen filtern).*** \n",
    "\n",
    "Beschreiben Sie welche Auswirkungen folgende Funktion ``filter_data()`` hat."
   ]
  },
  {
   "cell_type": "code",
   "execution_count": null,
   "metadata": {},
   "outputs": [],
   "source": [
    "def filter_data(data, predicate = lambda _: True):\n",
    "    copy = {name: [] for name in get_names(data)}\n",
    "    for i in range(len_data(data)):\n",
    "        row = get_row(data, i)\n",
    "        if predicate(row):\n",
    "            for name in row:\n",
    "                copy[name].append(row[name])\n",
    "    return copy\n",
    "\n",
    "data = {'price': [5, 32, 7, 11], 'name': ['Tasse', 'Stuhl', 'Block', 'Koffer']}\n",
    "filter_data(data, lambda row: row['price'] < 9)"
   ]
  },
  {
   "cell_type": "markdown",
   "metadata": {},
   "source": [
    "**Bitte fügen Sie hier Ihre Antwort ein!**"
   ]
  },
  {
   "cell_type": "markdown",
   "metadata": {},
   "source": [
    "<!-- END QUESTION -->\n",
    "\n",
    "***Aufgabe 7 (Spalten aggregieren).*** \n",
    "\n",
    "Um Daten zu analysieren wollen wir verschiedene Operationen über Spalten durchführen, welche ausschließlich numerische Werte enthalten.\n",
    "Jede dieser Operationen liefert genau einen numerischen Wert zurück.\n",
    "\n",
    "Schreiben Sie folgende Funktionen:\n",
    "\n",
    "+ ``sum_col(data, col_name)``: gibt die Summe aller Spalteneinträge mit dem Namen ``name`` zurück\n",
    "+ ``avg_col(data, col_name)``: gibt den Durchschnittswert der Spalteneinträge mit dem Namen ``name`` zurück\n",
    "+ ``max_(data, col_name)``:  gibt den größten Wert der Spalteneinträge mit dem Namen ``name`` zurück\n",
    "+ ``min_(data, col_name)``:  gibt den kleinsten Wert der Spalteneinträge mit dem Namen ``name`` zurück\n",
    "\n",
    "**Hinweis:** Sie können die ``Python``-Built-in Funktionen ``sum``, ``max``, ``min`` und Ihre bisher implementierten Funktionen nutzen."
   ]
  },
  {
   "cell_type": "code",
   "execution_count": null,
   "metadata": {
    "tags": []
   },
   "outputs": [],
   "source": [
    "...\n",
    "\n",
    "\n",
    "data = {'price': [5, 32, 7, 11], 'name': ['Tasse', 'Stuhl', 'Block', 'Koffer']}\n",
    "print(sum_col(data, 'price'))\n",
    "print(avg_col(data, 'price'))\n",
    "print(max_col(data, 'price'))\n",
    "print(min_col(data, 'price'))"
   ]
  },
  {
   "cell_type": "code",
   "execution_count": null,
   "metadata": {
    "deletable": false,
    "editable": false
   },
   "outputs": [],
   "source": [
    "grader.check(\"q7\")"
   ]
  },
  {
   "cell_type": "markdown",
   "metadata": {},
   "source": [
    "***Aufgabe 8 (Datenvisualisierung).*** \n",
    "\n",
    "Mithilfe unserer bisher implementierten Funktionen sind wir in der Lage erste Analysen eines Datensatzes durchzuführen. \n",
    "\n",
    "Der Datensatz ``./data/GlobalTemperature.csv`` enthält Informationen über die globale Temperaturentwicklung von 1750 bis 2015.\n",
    "Öffnen Sie den Datensatz (z.B. mit Excel oder einem Texteditor) und sehen Sie sich dessen Struktur an.\n",
    "Wir möchten daraus einen Graphen/Plot erzeugen , der uns die mittlere (Land)-Temperatur pro Jahr darstellt.\n",
    "D.h. auf der $x$-Achse sollen die Jahre angetragen werden und auf der $y$-Achse die mittlere Temperatur in jenem Jahr.\n",
    "Diese Informationen stehen in der Spalte ``LandAverageTemperature`` (Temperaturwerte allerdings pro Monat) und ``dt`` (allerdings Datum mit Tag, Monat und Jahr).\n",
    "\n",
    "Wir wollen diese Informationen in unserer Datenstruktur (Dictionary aus Listen) abspeichern, sodass wir diese weiter verarbeiten können.\n",
    "Schreiben Sie hierfür eine Funktion ``compute_global_mean_temperature(data)`` die Ihnen folgendes Dictionary zurückliefert:\n",
    "\n",
    "```python\n",
    "data_temperature = {'Year': [1750, 1751, ..., 2015], 'Mean Temperature': [...]}\n",
    "```\n",
    "\n",
    "dabei beinhalte ist ``data_temperature['Mean Temperature']`` eine Liste aus ``float`` und beinhaltet die mittleren Jahrestemperaturen.\n",
    "``data_temperature['Year']`` ist hingegen eine Liste aus ``int`` und beinhaltet die dazu passenden Jahre.\n",
    "\n",
    "Sie können davon ausgehen, dass der Datensatz für jedes Jahr mindestens einen Wert enthält.\n",
    "\n",
    "Der darauffolgende Code, welcher einen Plot erzeugt, sollte, nachdem Sie die Funktione implementiert haben, funktionieren.\n",
    "\n",
    "**Hinweise:** Es gibt Monate in denen kein Wert eingetragen ist, diese filtern wir bereits im folgenden Code. \n",
    "Außerdem wandeln wir bereits das Datum in der Form ``'1781-10-01'`` in eine ganze Zahl ``1781`` um. Dies müssen Sie nicht mehr machen.\n",
    "Ganz am Ende des Notebooks plotten wir den Graphen mit ``Pandas``.\n",
    "Hier sehen Sie wie der Plot aussehen sollte."
   ]
  },
  {
   "cell_type": "code",
   "execution_count": null,
   "metadata": {
    "tags": []
   },
   "outputs": [],
   "source": [
    "data = read(['dt', 'LandAverageTemperature'], './data/GlobalTemperatures.csv', [\n",
    "    lambda date: int(date.split('-')[0]),\n",
    "    lambda temperature: float(temperature) if temperature != '' else 'NaN'])\n",
    "\n",
    "# filter rows without values\n",
    "data = filter_data(data, lambda row: type(row['LandAverageTemperature']) == float)"
   ]
  },
  {
   "cell_type": "code",
   "execution_count": null,
   "metadata": {
    "tags": []
   },
   "outputs": [],
   "source": [
    "def compute_global_mean_temperature(data):\n",
    "    ...\n",
    "    return {'Year': years, 'Mean Temperature': temperature_per_year}"
   ]
  },
  {
   "cell_type": "code",
   "execution_count": null,
   "metadata": {
    "tags": []
   },
   "outputs": [],
   "source": [
    "import matplotlib.pyplot as plt\n",
    "import numpy as np\n",
    "\n",
    "data_temperature = compute_global_mean_temperature(data)\n",
    "\n",
    "first_year = min_col(data_temperature, 'Year')\n",
    "mean_first = 1951-first_year\n",
    "mean_last = 1980-first_year\n",
    "corresponding = data_temperature['Mean Temperature'][mean_first:mean_last+1]\n",
    "corresponding_mean = sum(corresponding) / len(corresponding)\n",
    "\n",
    "\n",
    "plt.plot(data_temperature['Year'], np.array(data_temperature['Mean Temperature'])-corresponding_mean)\n",
    "\n",
    "plt.title('Globale mittlere Temperaturabweichung im Vergleich zum Mittel zwischen 1951 und 1980')\n",
    "plt.xlabel('Jahr')\n",
    "plt.ylabel('Temperatur')"
   ]
  },
  {
   "cell_type": "code",
   "execution_count": null,
   "metadata": {
    "deletable": false,
    "editable": false
   },
   "outputs": [],
   "source": [
    "grader.check(\"q8\")"
   ]
  },
  {
   "cell_type": "markdown",
   "metadata": {},
   "source": [
    "***\n",
    "\n",
    "Im folgenden sehen Sie eine Möglichkeit wie wir die gleiche Darstellung mit ``Pandas`` erzeugen können."
   ]
  },
  {
   "cell_type": "code",
   "execution_count": null,
   "metadata": {},
   "outputs": [],
   "source": [
    "import pandas as pd\n",
    "\n",
    "df = pd.read_csv('./data/GlobalTemperatures.csv')                                        # read data\n",
    "df = df.dropna(subset=['LandAverageTemperature'])                                        # remove rows where there is no data for the temperature\n",
    "df['Year'] = df['dt'].transform(lambda date: int(date.split('-')[0]))                    # add column for the year\n",
    "\n",
    "mean = df[(df['Year'] >= 1951) & (df['Year'] <= 1980)]['LandAverageTemperature'].mean()  # compute the mean between 1750 and 1951\n",
    "\n",
    "df = df.groupby(['Year']).mean()                                                         # compute the yearly mean\n",
    "\n",
    "df['Temperaturabweichung'] = df['LandAverageTemperature'].transform(lambda x: x - mean)  # subtract the mean between 1750 and 1951\n",
    "\n",
    "# plot it\n",
    "df['Temperaturabweichung'].plot(ylabel='Temperatur', xlabel='Jahr', title= 'Globale mittlere Temperaturabweichung im Vergleich zum Mittel zwischen 1951 und 1980')"
   ]
  },
  {
   "cell_type": "markdown",
   "metadata": {
    "deletable": false,
    "editable": false
   },
   "source": [
    "---"
   ]
  },
  {
   "cell_type": "code",
   "execution_count": null,
   "metadata": {
    "deletable": false,
    "editable": false
   },
   "outputs": [],
   "source": [
    "grader.check_all()"
   ]
  },
  {
   "cell_type": "markdown",
   "metadata": {
    "deletable": false,
    "editable": false
   },
   "source": [
    "## Abgabe\n",
    "\n",
    "Dieses Notebook ist eine **Abgabe**, die Sie bis zum **4. Dezember um 23:00 Uhr** in Moodle abgegeben haben müssen! Führen Sie alles von oben nach unten aus, speichern Sie Ihr Notebook und laden Sie die **generierte .zip-Datei in Moodle hoch**."
   ]
  },
  {
   "cell_type": "code",
   "execution_count": null,
   "metadata": {
    "deletable": false,
    "editable": false
   },
   "outputs": [],
   "source": [
    "# Save your notebook first, then run this cell to export your submission.\n",
    "grader.export(pdf=False, run_tests=True)"
   ]
  }
 ],
 "metadata": {
  "kernelspec": {
   "display_name": "Python 3 (ipykernel)",
   "language": "python",
   "name": "python3"
  },
  "language_info": {
   "codemirror_mode": {
    "name": "ipython",
    "version": 3
   },
   "file_extension": ".py",
   "mimetype": "text/x-python",
   "name": "python",
   "nbconvert_exporter": "python",
   "pygments_lexer": "ipython3",
   "version": "3.10.4"
  },
  "otter": {
   "OK_FORMAT": false,
   "assignment_name": "assignment01",
   "tests": {
    "q1": "from otter.test_files import test_case\n\nOK_FORMAT = False\n\nname = \"q1\"\npoints = 5\n\n@test_case(points=None, hidden=False, \n    success_message=\"Das sieht gut aus.\", \n    failure_message=\"Schlägt für die test-data.csv Datei\")\ndef test_read_column_simple(env):\n    path = './data/test-data.csv'\n    assert env['read_column']('x', path) == ['1.0', '2.3']\n    assert env['read_column']('name', path) == ['Toster', 'Auto']\n    \n",
    "q2": "from otter.test_files import test_case\n\nOK_FORMAT = False\n\nname = \"q2\"\npoints = 5\n\n@test_case(points=None, hidden=False, \n    success_message=\"Das sieht gut aus.\", \n    failure_message=\"Schlägt für die test-data.csv Datei\")\ndef test_read_simple(env):\n    path = './data/test-data.csv'\n    assert env['read'](['x', 'name'], path) == {'x': ['1.0', '2.3'], 'name': ['Toster', 'Auto']}\n    \n",
    "q3": "from otter.test_files import test_case\n\nOK_FORMAT = False\n\nname = \"q3\"\npoints = 1\n\n@test_case(points=1, hidden=False, \n    success_message=\"Das sieht gut aus.\", \n    failure_message=\"Da ist was schief gegangen.\")\ndef test_len_data_simple(env):\n    assert env['len_data']({'x': [1,2], 'test': ['abc', 'def']}) == 2\n    assert env['len_data']({}) == 0, 'Leeres dict sollte 0 zurückliefern'\n    \n",
    "q4": "from otter.test_files import test_case\n\nOK_FORMAT = False\n\nname = \"q4\"\npoints = 1\n\n@test_case(points=1, hidden=False, \n    success_message=\"Das sieht gut aus.\", \n    failure_message=\"Da ist was schief gegangen.\")\ndef test_get_names(env):\n    assert 'test' in env['get_names']({'x': [1,2], 'test': ['abc', 'def']}) \n    assert 'x' in env['get_names']({'x': [1,2], 'test': ['abc', 'def']})\n    assert 'avg temp' in env['get_names']({'x': [1,2], 'avg temp': [1.2, 3.2], 'test': ['abc', 'def']}) \n    assert len(env['get_names']({})) == 0\n    \n",
    "q5": "from otter.test_files import test_case\n\nOK_FORMAT = False\n\nname = \"q5\"\npoints = 2\n\n@test_case(points=2, hidden=False, \n    success_message=\"Das sieht gut aus.\", \n    failure_message=\"Da ist was schief gegangen.\")\ndef test_get_row(env):\n    assert env['get_row']({'x': [1,2], 'test': ['abc', 'def']}, 0) == {'x': 1, 'test': 'abc'}\n    assert env['get_row']({'x': [1,2], 'test': ['abc', 'def']}, 3) == {}, 'Ein zu großer Index sollte ein leeres dict zurückliefern'\n    assert env['get_row']({}, 3) == {}, 'Leeres dict sollte ein leeres dict zurückliefern'\n    \n",
    "q7": "from otter.test_files import test_case\n\nOK_FORMAT = False\n\nname = \"q7\"\npoints = 4\n\n@test_case(points=1, hidden=False, \n    success_message=\"Das sieht gut aus.\", \n    failure_message=\"Da ist was schief gegangen.\")\ndef test_sum_col(env):\n    assert env['sum_col']({'x': [1,2,3], 'test': ['abc', 'def', 'das']}, 'x') == 6\n    \n@test_case(points=1, hidden=False, \n    success_message=\"Das sieht gut aus.\", \n    failure_message=\"Da ist was schief gegangen.\")\ndef test_avg_col(env):\n    assert env['avg_col']({'x': [1,2,3], 'test': ['abc', 'def', 'das']}, 'x') == 2\n    \n@test_case(points=1, hidden=False, \n    success_message=\"Das sieht gut aus.\", \n    failure_message=\"Da ist was schief gegangen.\")\ndef test_max_col(env):\n    assert env['max_col']({'x': [1,-2,3], 'test': ['abc', 'def', 'das']}, 'x') == 3\n    \n@test_case(points=1, hidden=False, \n    success_message=\"Das sieht gut aus.\", \n    failure_message=\"Da ist was schief gegangen.\")\ndef test_min_col(env):\n    assert env['min_col']({'x': [1,-2,3], 'test': ['abc', 'def', 'das']}, 'x') == -2\n    \n",
    "q8": "from otter.test_files import test_case\n\nOK_FORMAT = False\n\nname = \"q8\"\npoints = 5\n\n@test_case(points=None, hidden=False, \n    success_message=\"Das sieht gut aus.\", \n    failure_message=\"Da ist was schief gegangen.\")\ndef test_compute_global_mean_temperature_simple(env):\n    test_data = {'dt': [1900, 1900, 1901, 1901], 'LandAverageTemperature': [3.0, 7.0, 5.0, 15.0]}\n    assert env['compute_global_mean_temperature'](test_data) == {'Year': [1900, 1901], 'Mean Temperature': [5.0, 10.0]}\n    \n"
   }
  },
  "vscode": {
   "interpreter": {
    "hash": "881d337900756e70a76eada1facb65e60ce30b1cc249c92e2adf60a26cf555a8"
   }
  }
 },
 "nbformat": 4,
 "nbformat_minor": 4
}

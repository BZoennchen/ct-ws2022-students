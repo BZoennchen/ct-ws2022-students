{
 "cells": [
  {
   "cell_type": "markdown",
   "metadata": {},
   "source": [
    "# Anmerkungen\n",
    "\n",
    "In diesem Notebook üben wir den Umgang mit NumPy."
   ]
  },
  {
   "cell_type": "code",
   "execution_count": null,
   "metadata": {},
   "outputs": [],
   "source": [
    "import otter\n",
    "import numpy as np\n",
    "\n",
    "grader = otter.Notebook('CT-NumPy.ipynb')"
   ]
  },
  {
   "cell_type": "markdown",
   "metadata": {},
   "source": [
    "***\n",
    "***Aufgabe 1 (Matrix Addition).***\n",
    "\n",
    "Erstellen zwei $m \\times n$ Matrizen $A, B$ Ihrer Wahl und bestimmen Sie die komponentweise Addition $A + B$."
   ]
  },
  {
   "cell_type": "code",
   "execution_count": null,
   "metadata": {
    "tags": []
   },
   "outputs": [],
   "source": [
    "A = ...\n",
    "B = ...\n",
    "..."
   ]
  },
  {
   "cell_type": "markdown",
   "metadata": {},
   "source": [
    "***Aufgabe 2 (Matrix komopnentweise Multiplikation).***\n",
    "\n",
    "Erstellen zwei $m \\times n$ Matrizen $A, B$ Ihrer Wahl und bestimmen Sie die komponentweise Multiplikation von $2 \\cdot A$ und $B$."
   ]
  },
  {
   "cell_type": "code",
   "execution_count": null,
   "metadata": {
    "tags": []
   },
   "outputs": [],
   "source": [
    "A = ...\n",
    "B = ...\n",
    "..."
   ]
  },
  {
   "cell_type": "markdown",
   "metadata": {},
   "source": [
    "***Aufgabe 3 (Identitätsmatrix).*** \n",
    "\n",
    "Erzeugen Sie die Identitätmatrix $I \\in \\mathbb{R}^{n \\times n}$."
   ]
  },
  {
   "cell_type": "code",
   "execution_count": null,
   "metadata": {
    "tags": []
   },
   "outputs": [],
   "source": [
    "n = 4\n",
    "I = ...\n",
    "I"
   ]
  },
  {
   "cell_type": "markdown",
   "metadata": {},
   "source": [
    "***Aufgabe 4 (Reshaping).*** \n",
    "\n",
    "Gegeben sei folgendes eindimensionales NumPy-Array. Wandeln Sie es in ein dreidimensionales Array um."
   ]
  },
  {
   "cell_type": "code",
   "execution_count": null,
   "metadata": {
    "tags": []
   },
   "outputs": [],
   "source": [
    "a = np.array([x for x in range(27)])\n",
    "D = ...\n",
    "D\n"
   ]
  },
  {
   "cell_type": "code",
   "execution_count": null,
   "metadata": {
    "deletable": false,
    "editable": false
   },
   "outputs": [],
   "source": [
    "grader.check(\"q4\")"
   ]
  },
  {
   "cell_type": "markdown",
   "metadata": {},
   "source": [
    "***Aufgabe 5 (Datentypänderung).*** \n",
    "\n",
    "Wandeln Sie das folgende NumPy-Array in ein Array mit ``int``-Werten um indem Sie den Datentyp verändern."
   ]
  },
  {
   "cell_type": "code",
   "execution_count": null,
   "metadata": {
    "tags": []
   },
   "outputs": [],
   "source": [
    "A = np.array([[2.5, 3.8, 1.5],\n",
    "              [4.7, 2.9, 1.56]])\n",
    "A_int = ..."
   ]
  },
  {
   "cell_type": "code",
   "execution_count": null,
   "metadata": {
    "deletable": false,
    "editable": false
   },
   "outputs": [],
   "source": [
    "grader.check(\"q5\")"
   ]
  },
  {
   "cell_type": "markdown",
   "metadata": {},
   "source": [
    "***Aufgabe 6 (H-Stacking).*** \n",
    "\n",
    "Bauen Sie aus folgenden $2 \\times 3$ Matrizen $A_1$, $A_2$ eine $2 \\times 6$ Matrix \n",
    "$$H = \\begin{bmatrix} A_1 & A_2 \\end{bmatrix}.$$"
   ]
  },
  {
   "cell_type": "code",
   "execution_count": null,
   "metadata": {
    "tags": []
   },
   "outputs": [],
   "source": [
    "A1 = np.array([[1,2,3],\n",
    "               [4,5,6]])\n",
    "\n",
    "A2 = np.array([[7,8,9],\n",
    "               [10,11,12]])\n",
    "\n",
    "H = ...\n",
    "H"
   ]
  },
  {
   "cell_type": "code",
   "execution_count": null,
   "metadata": {
    "deletable": false,
    "editable": false
   },
   "outputs": [],
   "source": [
    "grader.check(\"q6\")"
   ]
  },
  {
   "cell_type": "markdown",
   "metadata": {},
   "source": [
    "***Aufgabe 6 (V-Stacking).*** \n",
    "\n",
    "Bauen Sie aus folgenden $2 \\times 3$ Matrizen $A_1$, $A_2$ eine $4 \\times 3$ Matrix \n",
    "$$V = \\begin{bmatrix} B_1 \\\\ B_2 \\end{bmatrix}.$$"
   ]
  },
  {
   "cell_type": "code",
   "execution_count": null,
   "metadata": {
    "tags": []
   },
   "outputs": [],
   "source": [
    "B1 = np.array([[1,2,3],\n",
    "               [4,5,6]])\n",
    "\n",
    "B2 = np.array([[7,8,9],\n",
    "               [10,11,12]])\n",
    "\n",
    "V = ...\n",
    "V"
   ]
  },
  {
   "cell_type": "code",
   "execution_count": null,
   "metadata": {
    "deletable": false,
    "editable": false
   },
   "outputs": [],
   "source": [
    "grader.check(\"q7\")"
   ]
  },
  {
   "cell_type": "markdown",
   "metadata": {},
   "source": [
    "***Aufgabe 8 (Arrayerzeugung I und Laufzeit).*** \n",
    "\n",
    "``np.arange`` ist das Pendant zu ``range``. Erzeugen Sie ein NumPy-Array ``x_arr`` welches die gleichen Werte wie die Liste\n",
    "\n",
    "```python\n",
    "x_list = list(range(3,100_000,7))\n",
    "```\n",
    "\n",
    "enthält. Berechnen Sie sodann eine neue Liste ``y_list`` wobei diese Liste den Sinus für das jeweilige Element in ``x_list`` enthält.\n",
    "Bestimmen Sie dann die gleichen Werte das NumPy-Array, d.h. ``y_arr = np.sin(x_arr)``.\n",
    "\n",
    "Was beaobachten Sie bezüglich der Laufzeit ihres Codes?\n",
    "\n",
    "**Hinweis:** Mit ``%%timeit`` kann man die Ausführung einer Zelle messen."
   ]
  },
  {
   "cell_type": "markdown",
   "metadata": {},
   "source": [
    "_Type your answer here, replacing this text._"
   ]
  },
  {
   "cell_type": "code",
   "execution_count": null,
   "metadata": {
    "tags": []
   },
   "outputs": [],
   "source": [
    "x_list = ...\n",
    "x_arr = ..."
   ]
  },
  {
   "cell_type": "code",
   "execution_count": null,
   "metadata": {
    "tags": []
   },
   "outputs": [],
   "source": [
    "%%timeit\n",
    "y_list = ..."
   ]
  },
  {
   "cell_type": "code",
   "execution_count": null,
   "metadata": {
    "tags": []
   },
   "outputs": [],
   "source": [
    "%%timeit\n",
    "y_arr = ..."
   ]
  },
  {
   "cell_type": "markdown",
   "metadata": {},
   "source": [
    "***Aufgabe 9 (Arrayerzeugung II und Plotten).*** \n",
    "\n",
    "``np.linspace``, was für *linear spacing* steht, ist eine weitere Möglichkeit um einen Zahlenbereich zu erzeugen.\n",
    "Diese Funktion ist besonders nürtzlich wenn Sie über ein bestimmtes Intervall $[a;b]$ gleichmäßig sampeln wollen.\n",
    "Dies wiederum eignent sich dazu um eine **mathematische** Funktion in einem bestimmten Bereich zu plotten.\n",
    "\n",
    "Erzeugen Sie einen Plot für den Sinus $\\sin(x)$ im Intervall $[0;2\\pi]$.\n",
    "Verwenden dabei unterschiedlich viele Samplepunkte (erst sehr wenige). "
   ]
  },
  {
   "cell_type": "code",
   "execution_count": null,
   "metadata": {
    "tags": []
   },
   "outputs": [],
   "source": [
    "import matplotlib.pyplot as plt\n",
    "\n",
    "x = ...\n",
    "y = ...\n",
    "\n",
    "plt.plot(x,y)\n"
   ]
  },
  {
   "cell_type": "code",
   "execution_count": null,
   "metadata": {
    "tags": []
   },
   "outputs": [],
   "source": [
    "x = ...\n",
    "y = ...\n",
    "\n",
    "plt.plot(x,y)"
   ]
  },
  {
   "cell_type": "markdown",
   "metadata": {},
   "source": [
    "***Aufgabe 10 (Indexierung).*** \n",
    "\n",
    "Das wohl mächtigste was NumPy zu bieten hat ist die Indexierung der Arrays.\n",
    "Wir können wie bei Pythons Listen slicen:"
   ]
  },
  {
   "cell_type": "code",
   "execution_count": null,
   "metadata": {},
   "outputs": [],
   "source": [
    "a = np.arange(10)\n",
    "print(a)\n",
    "print(a[3:-2:2])"
   ]
  },
  {
   "cell_type": "markdown",
   "metadata": {},
   "source": [
    "Da jedoch ein NumPy array immer eine Matrix ist, können wir auch Spalten, Zeilen und mehr Indexieren."
   ]
  },
  {
   "cell_type": "code",
   "execution_count": null,
   "metadata": {},
   "outputs": [],
   "source": [
    "T = np.array([[1,2,3], [4,5,6], [9, 8, 0]])"
   ]
  },
  {
   "cell_type": "code",
   "execution_count": null,
   "metadata": {},
   "outputs": [],
   "source": [
    "print(T[0,2]) # Zeile 0, Spalte 2\n",
    "print(T[0][2]) # identisch"
   ]
  },
  {
   "cell_type": "code",
   "execution_count": null,
   "metadata": {},
   "outputs": [],
   "source": [
    "T[1,:] # Zeile 1 (d.h. 2. Zeile)"
   ]
  },
  {
   "cell_type": "code",
   "execution_count": null,
   "metadata": {},
   "outputs": [],
   "source": [
    "T[:,2] # Spalte 2 (d.h. 3. Spalte)"
   ]
  },
  {
   "cell_type": "markdown",
   "metadata": {},
   "source": [
    "Schreiben Sie einen Ausdruck der Ihnen aus der obigen Matrix \n",
    "\n",
    "$$T = \\begin{bmatrix} 1 & 2 & 3 & 1 \\\\ 4 & 5 & 6 & 1 \\\\ 9 & 8 & 0 & 1\\end{bmatrix}$$\n",
    "\n",
    "folgen Teil herausnimmt\n",
    "\n",
    "$$\\begin{bmatrix} 1 & 3 \\\\ 4 & 6 \\end{bmatrix}$$\n",
    "\n",
    "**Hinweis:** Die Lösung ist ein kurzer Einzeiler."
   ]
  },
  {
   "cell_type": "code",
   "execution_count": null,
   "metadata": {
    "tags": []
   },
   "outputs": [],
   "source": [
    "...\n",
    "..."
   ]
  },
  {
   "cell_type": "markdown",
   "metadata": {},
   "source": [
    "***Aufgabe 10 (Lineare Algebra).*** \n",
    "\n",
    "Mit NumPy kann man (numerische) Lineare Algebra betreiben. In der Vorlesung *Lineare Algebra* haben Sie gelernt wie man die Inverse einer Matrix $A$ mithilfe der Eliminationsmatrizen $E_{ij}$ bestimmt. Dabei ist $E_{ij}$ eine Matrix, die von $A$ von der $i$-ten Zeile die $j$-te Zeile subtrahiert.\n",
    "\n",
    "$$E_{ij} A$$\n",
    "\n",
    "ist ein Schritt des sog. Gaußen-Eliminationsverfahrens. \n",
    "Am Ende des Verfahrens erhalten wir Matrizen $E_{i_1 j_1}, \\ldots, E_{i_k j_k}$, sodass\n",
    "\n",
    "$$E_{i_k j_k} \\ldots E_{i_1 j_1} A = I$$\n",
    "\n",
    "gilt (sofern $A$ invertierbar ist), d.h.,\n",
    "\n",
    "$$E_{i_k j_k} \\ldots E_{i_1 j_1} = A^{-1}.$$\n",
    "\n",
    "Schreiben Sie eine Funktion ``eliminate(i, j, times=1, dim=3)``, die die Matrix $E_{ij}$ erzeugt.\n",
    "Dabei gibt ``times`` an wie oft die Zeile ``j`` von Zeile ``i`` abgezogen werden soll.\n",
    "``dim`` gibt die Anzahl der Zeilen bzw. Spalten von $E_{ij}$ an.\n",
    "Nutzen Sie Ihre Funktion um die Inverse für \n",
    "\n",
    "$$A = \\begin{bmatrix} 1 & 2 & 3 \\\\ 1 & 1 & 1 \\\\ 2 & 2 & 3 \\end{bmatrix}$$\n",
    "\n",
    "zu bestimmen. \n",
    "Sie müssen weiterhin selbst überlegen welche Zeile Sie von welcher abziehen wollen.\n",
    "\n",
    "**Hinweis:** Zwei Matrizen in Form von NumPy Arrays lassen sich mit dem ``@``-Operator multiplizieren!"
   ]
  },
  {
   "cell_type": "code",
   "execution_count": null,
   "metadata": {
    "tags": []
   },
   "outputs": [],
   "source": [
    "def eliminate(i, j, times=1, dim=3):\n",
    "    ...\n",
    "    return E"
   ]
  },
  {
   "cell_type": "code",
   "execution_count": null,
   "metadata": {
    "tags": []
   },
   "outputs": [],
   "source": [
    "A = np.array([[1,2,3],[1,1,1],[2,2,3]])\n",
    "\n",
    "..."
   ]
  },
  {
   "cell_type": "markdown",
   "metadata": {
    "deletable": false,
    "editable": false
   },
   "source": [
    "---\n",
    "\n",
    "To double-check your work, the cell below will rerun all of the autograder tests."
   ]
  },
  {
   "cell_type": "code",
   "execution_count": null,
   "metadata": {
    "deletable": false,
    "editable": false
   },
   "outputs": [],
   "source": [
    "grader.check_all()"
   ]
  },
  {
   "cell_type": "markdown",
   "metadata": {
    "deletable": false,
    "editable": false
   },
   "source": [
    "## Submission\n",
    "\n",
    "Make sure you have run all cells in your notebook in order before running the cell below, so that all images/graphs appear in the output. The cell below will generate a zip file for you to submit. **Please save before exporting!**\n",
    "\n",
    "Dieses Notebook ist zur reinen Übung gedacht und muss nicht abgegeben werden. Wir raten Ihnen eindringlich alle Aufgaben zu lösen!"
   ]
  },
  {
   "cell_type": "code",
   "execution_count": null,
   "metadata": {
    "deletable": false,
    "editable": false
   },
   "outputs": [],
   "source": [
    "# Save your notebook first, then run this cell to export your submission.\n",
    "grader.export(pdf=False, run_tests=True)"
   ]
  },
  {
   "cell_type": "markdown",
   "metadata": {},
   "source": [
    " "
   ]
  }
 ],
 "metadata": {
  "kernelspec": {
   "display_name": "Python 3 (ipykernel)",
   "language": "python",
   "name": "python3"
  },
  "language_info": {
   "codemirror_mode": {
    "name": "ipython",
    "version": 3
   },
   "file_extension": ".py",
   "mimetype": "text/x-python",
   "name": "python",
   "nbconvert_exporter": "python",
   "pygments_lexer": "ipython3",
   "version": "3.10.4"
  },
  "otter": {
   "OK_FORMAT": false,
   "assignment_name": "training07",
   "tests": {
    "q4": "from otter.test_files import test_case\n\nOK_FORMAT = False\n\nname = \"q4\"\npoints = None\n\n@test_case(points=None, hidden=False, \n    success_message=\"Das sieht gut aus.\", \n    failure_message=\"Da ist was schief gegangen.\")\ndef test_dimensionality_of_D(env):\n    assert env['D'].ndim == 3\n    \n",
    "q5": "from otter.test_files import test_case\n\nOK_FORMAT = False\n\nname = \"q5\"\npoints = 2\n\n@test_case(points=None, hidden=False, \n    success_message=\"Das sieht gut aus.\", \n    failure_message=\"Da ist was schief gegangen.\")\ndef test_data_type_conversion(env):\n    a = env['np'].array([[2.5, 3.8, 1.5],[4.7, 2.9, 1.56]])\n    assert env['A_int'].dtype == env['np'].dtype('int64') or env['A_int'].dtype == env['np'].dtype('int32') or env['A_int'].dtype == env['np'].dtype('int16') or env['A_int'].dtype == env['np'].dtype('int8')\n    assert env['np'].allclose(env['A_int'], a.astype('int'))\n    \n",
    "q6": "from otter.test_files import test_case\n\nOK_FORMAT = False\n\nname = \"q6\"\npoints = None\n\n@test_case(points=None, hidden=False, \n    success_message=\"Das sieht gut aus.\", \n    failure_message=\"Da ist was schief gegangen.\")\ndef test_h_stacking(env):\n    R = env['np'].array([[ 1,  2,  3,  7,  8,  9],[ 4,  5,  6, 10, 11, 12]])\n    assert env['H'].shape == R.shape\n    assert env['np'].allclose(env['H'], R)\n    \n",
    "q7": "from otter.test_files import test_case\n\nOK_FORMAT = False\n\nname = \"q7\"\npoints = None\n\n@test_case(points=None, hidden=False, \n    success_message=\"Das sieht gut aus.\", \n    failure_message=\"Da ist was schief gegangen.\")\ndef test_v_stacking(env):\n    R = env['np'].array([[ 1,  2,  3],[ 4,  5,  6],[ 7,  8,  9],[10, 11, 12]])\n    assert env['V'].shape == R.shape\n    assert env['np'].allclose(env['V'], R)\n    \n"
   }
  },
  "vscode": {
   "interpreter": {
    "hash": "881d337900756e70a76eada1facb65e60ce30b1cc249c92e2adf60a26cf555a8"
   }
  }
 },
 "nbformat": 4,
 "nbformat_minor": 4
}
